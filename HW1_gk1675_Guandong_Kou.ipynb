{
 "cells": [
  {
   "cell_type": "markdown",
   "metadata": {},
   "source": [
    "<center style=\"margin-top:80px\">\n",
    "    <h3>ECE-GY 6303 Homework#1 gk1675 (Guandong Kou)</h3>\n",
    "</center>"
   ]
  },
  {
   "cell_type": "code",
   "execution_count": 1,
   "metadata": {},
   "outputs": [
    {
     "data": {
      "text/html": [
       "<style>\n",
       ".text_cell_render {\n",
       "    line-height: 2.5;\n",
       "}\n",
       "</style>\n"
      ],
      "text/plain": [
       "<IPython.core.display.HTML object>"
      ]
     },
     "metadata": {},
     "output_type": "display_data"
    }
   ],
   "source": [
    "run utils.ipynb"
   ]
  },
  {
   "cell_type": "markdown",
   "metadata": {},
   "source": [
    "# Problem 1\n",
    "### (a)"
   ]
  },
  {
   "cell_type": "markdown",
   "metadata": {},
   "source": [
    "let $ A $ denotes ***input received at the output***        \n",
    "let $ S_k $ denotes ***switch $ S_k $ is closed***  , where $ k\\in\\{1,2,3,4\\} $    \n",
    "let $ q = 1-p $   \n",
    "then,    \n",
    "$ A = S_1  \\cup (S_2 \\cap (S_3 \\cup S_4)) $    \n",
    "$ \\overline{A} = \\overline{S_1} \\cap \\overline{S_2 \\cap (S_3 \\cup S_4)}  $    \n",
    "$ \\overline{A} = \\overline{S_1} \\cap \\overline{S_2 \\cap \\overline{ \\overline{S_3 \\cup S_4 }} } $    \n",
    "$ \\overline{A} = \\overline{S_1} \\cap \\overline{S_2 \\cap \\overline{ \\overline{S_3} \\cap \\overline{S_4} }}  $    \n",
    "$ P(\\overline{A}) = q [1-p(1-q^2)] = q-pq-pq^3 $     \n",
    "$ P(A) = 1 - P(\\overline{A}) = p(p^3-3p^2+2p+1) $    "
   ]
  },
  {
   "cell_type": "markdown",
   "metadata": {},
   "source": [
    "###  (b)"
   ]
  },
  {
   "cell_type": "markdown",
   "metadata": {},
   "source": [
    "$ P(\\overline{S_4}|A) = \\frac{P(A | \\overline{S_4})P(\\overline{S_4})}{P(A)}  $   \n",
    "$ P(A|\\overline{S_4}) = P(S_1 \\cup (S_2 \\cap S_3)) =  P(\\overline{\\overline{S_1 \\cup (S_2 \\cap S_3)}} ) = P(\\overline{\\overline{S_1} \\cap \\overline{S_2 \\cap S_3}} ) =  1-q(1-p^2) = p(-p^2+p+1) $   \n",
    "$ => P(\\overline{S_4}|A) = \\frac{p(-p^2+p+1)(1-p)}{p(p^3-3p^2+2p+1)} = \\frac{p^3-2p^2+1}{p^3-3p^2+2p+1} $"
   ]
  },
  {
   "cell_type": "markdown",
   "metadata": {},
   "source": [
    "### ***plot of $P(A)$***     \n",
    "(Just for validation and visualization, not part of the solution to the problem)"
   ]
  },
  {
   "cell_type": "code",
   "execution_count": 2,
   "metadata": {},
   "outputs": [
    {
     "data": {
      "image/png": "[encoded data removed]",
      "text/plain": [
       "<Figure size 432x288 with 1 Axes>"
      ]
     },
     "metadata": {
      "image/png": {
       "height": 264,
       "width": 389
      },
      "needs_background": "light"
     },
     "output_type": "display_data"
    }
   ],
   "source": [
    "def f(p):\n",
    "    return p*(p**3 - 3 * p**2 + 2 * p + 1)\n",
    "\n",
    "plot_func(f);\n",
    "plt.gca();\n",
    "plt.xlabel('$p$');\n",
    "plt.ylabel('$P(A)$');"
   ]
  },
  {
   "cell_type": "markdown",
   "metadata": {},
   "source": [
    "---"
   ]
  },
  {
   "cell_type": "markdown",
   "metadata": {},
   "source": [
    "# Problem 2\n",
    "### (a)"
   ]
  },
  {
   "cell_type": "markdown",
   "metadata": {},
   "source": [
    "let $ A $ denotes ***2 heads and 1 tail in a toss***   \n",
    "let $ B $ denotes ***A happens at most once within 10 tosses***   \n",
    "$ P(A) = {3\\choose2}P(head)^2 P(tail) = {3}\\cdot 0.5^2 \\cdot 0.5 = 0.375 $    \n",
    "$ P(\\overline{A}) = 1 - P(A) = 0.625 $     \n",
    "$ P(B) = P(N_A=0) + p(N_A=1) = {10\\choose0} p(\\overline{A})^{10} + {10\\choose1} p(\\overline{A})^{9}p(A) = 0.625^10 + 10\\cdot0.625^9\\cdot0.375 = 0.06366 $     "
   ]
  },
  {
   "cell_type": "markdown",
   "metadata": {},
   "source": [
    "### (b)"
   ]
  },
  {
   "cell_type": "markdown",
   "metadata": {},
   "source": [
    "let $ C $ denotes ***A happens at least once within 10 tosses***     \n",
    "then $ \\overline{C} $ denotes ***A happens exactly 0 time within 10 tosses***     \n",
    "$  P(\\overline{C}) = p(\\overline{A})^{10} = 0.625^{10} =  0.0091  $   \n",
    "$ P(C) = 1 - P(\\overline{C}) = 1-0.0091 = 0.9909 $   "
   ]
  },
  {
   "cell_type": "markdown",
   "metadata": {},
   "source": [
    "---"
   ]
  },
  {
   "cell_type": "markdown",
   "metadata": {},
   "source": [
    "# Problem 3"
   ]
  },
  {
   "cell_type": "markdown",
   "metadata": {},
   "source": [
    "- number of possible decision results for 50 travellers to choose 1 vehicle from 4:    \n",
    "$ N_{total} = 4^{50} $    \n",
    "- number of decision results satisfy that \"10 by car, 5 by train, 8 by bus, and the remaining 27 by flight\":   \n",
    "$ N_A = {50\\choose10}{40\\choose5}{35\\choose8}{27\\choose27}  $   \n",
    "- probability\n",
    "$ P(A) = \\frac{N_A}{N_{total}} = \\frac{{50\\choose10}{40\\choose5}{35\\choose8}{27\\choose27}}{4^{50}} = \\frac{50!}{10!5!8!27!\\cdot4^{50}} = {1.255}\\times{10^{-7}} $"
   ]
  },
  {
   "cell_type": "markdown",
   "metadata": {},
   "source": [
    "---"
   ]
  },
  {
   "cell_type": "markdown",
   "metadata": {},
   "source": [
    "# Problem 4"
   ]
  },
  {
   "cell_type": "markdown",
   "metadata": {},
   "source": [
    "| test\\reality   |   Liar   |   Not Liar  | \n",
    "| :------: | :------:  | :------:|\n",
    "| positive | 0.94    |  0.08 |\n",
    "| negative |  0.06      |  0.92 |"
   ]
  },
  {
   "cell_type": "markdown",
   "metadata": {},
   "source": [
    "let $ A $ denotes ***the test result is positive***     \n",
    "let $ B $ denotes ***the picked person is a liar***    \n",
    "The solution becomes to solve $ P(B|A) $    \n",
    " \n",
    "$ P(A) = 0.05\\cdot 0.94 + 0.95\\times0.08=0.123 $    \n",
    "$ P(B|A) = \\frac{P(A|B) P(B)}{P(A)} = \\frac{0.94 \\times 0.05}{0.123} = 0.382 $   "
   ]
  },
  {
   "cell_type": "markdown",
   "metadata": {},
   "source": [
    "---"
   ]
  },
  {
   "cell_type": "markdown",
   "metadata": {},
   "source": [
    "# Problem 5"
   ]
  },
  {
   "cell_type": "markdown",
   "metadata": {},
   "source": [
    "- Clarification     \n",
    "let $ A $ denotes ***in the first (n-1) tosses, head appeared (k-1) times***     \n",
    "let $ B $ denotes ***the n-th toss is head***    \n",
    "Then $ P(AB) $ denotes ***the probability that $k$ heads observed at n-th tosses, but not earlier than $n$***    \n",
    "The answer to this problem is to prove $ P(AB) = {{n-1}\\choose{k-1}}p^kq^{n-k} $    \n",
    "- Proof    \n",
    "$ P(A) = {{n-1}\\choose{k-1}}p^{k-1}q^{(n-1)-(k-1)} = {{n-1}\\choose{k-1}}p^{k-1}q^{n-k} $     \n",
    "$ P(B) = p  $   \n",
    "Since $ A $ and $ B $ are independent,    \n",
    "$ P(AB) = P(A)P(B) =  {{n-1}\\choose{k-1}}p^{k-1}q^{n-k}\\times p = {{n-1}\\choose{k-1}}p^kq^{n-k} $    \n",
    "$ q.e.d. $  "
   ]
  },
  {
   "cell_type": "markdown",
   "metadata": {},
   "source": [
    "---"
   ]
  },
  {
   "cell_type": "markdown",
   "metadata": {},
   "source": [
    "# Problem 6"
   ]
  },
  {
   "cell_type": "markdown",
   "metadata": {},
   "source": [
    "- formula for *multinomial distribution*    \n",
    "![](https://wikimedia.org/api/rest_v1/media/math/render/svg/b4a54261a2d46d3c7ffa14b3cd211d24055e4ea7)"
   ]
  },
  {
   "cell_type": "markdown",
   "metadata": {},
   "source": [
    "let $ A $ denotes ***\"In the 10 rolls, 1 shows 2 times, 3 shows 2 times, 1 shows 1 times, and other values (2,4,6) show 5 times.\"***     \n",
    "\n",
    "$ P(k) = \\frac{1}{6}$ , where $ k \\in \\{1,2,3,4,5,6\\} $\n",
    "\n",
    "$ P(A) = {{10}\\choose{2}}(\\frac{1}{6})^2 {{8}\\choose{2}}(\\frac{1}{6})^2 {{6}\\choose{1}}\\frac{1}{6} {{5}\\choose{5}}(\\frac{1}{2})^5 = \n",
    "\\frac{10!}{2!2!5!}(\\frac{1}{6})^5 (\\frac{1}{2})^5 = 0.0304\n",
    "$"
   ]
  },
  {
   "cell_type": "markdown",
   "metadata": {},
   "source": [
    "---"
   ]
  },
  {
   "cell_type": "markdown",
   "metadata": {},
   "source": [
    "# Problem 7\n",
    "### (a)"
   ]
  },
  {
   "cell_type": "markdown",
   "metadata": {},
   "source": [
    "$ n $ is only valid as an odd, even $ n $ is ignored.         \n",
    "In order to win the series, a team has to win $\\frac{n+1}{2} $ times.\n",
    "let $k$ demotes ***the minimum number of wins to win the series***, then $ k=\\frac{n+1}{2}  $    \n",
    "let $ A $ denotes ***already won (k-1) times after (m-1) games***     \n",
    "let $ B $ denotes ***won the k-th time at the m-th game***   \n",
    "the probability of wining the k-th match at m-th game is p when already won (k-1) games at (m-1), thus    "
   ]
  },
  {
   "cell_type": "markdown",
   "metadata": {},
   "source": [
    "\n",
    "$$\n",
    "P(n,p) = P(A)P(B) = \\sum_{m=k}^n {{m-1} \\choose {k-1}} p^{k-1} (1-p)^{(m-1)-(k-1)} p = \\sum_{m=k}^n {{m-1} \\choose {k-1}} p^k (1-p)^{m-k}  \\tag{7-1}\n",
    "$$ \n"
   ]
  },
  {
   "cell_type": "code",
   "execution_count": 3,
   "metadata": {},
   "outputs": [],
   "source": [
    "from scipy.special import comb"
   ]
  },
  {
   "cell_type": "code",
   "execution_count": 4,
   "metadata": {},
   "outputs": [],
   "source": [
    "def P_win(n, p):\n",
    "    k = (n+1) // 2\n",
    "    P_n_p = 0\n",
    "    for m in range(k, n+1):\n",
    "        P_n_p += comb(m-1, k-1) * p**k * (1-p) **(m-k)\n",
    "    return P_n_p"
   ]
  },
  {
   "cell_type": "code",
   "execution_count": 5,
   "metadata": {},
   "outputs": [
    {
     "data": {
      "image/png": "[encoded data removed]",
      "text/plain": [
       "<Figure size 432x288 with 1 Axes>"
      ]
     },
     "metadata": {
      "image/png": {
       "height": 264,
       "width": 390
      },
      "needs_background": "light"
     },
     "output_type": "display_data"
    }
   ],
   "source": [
    "n_steps = 201\n",
    "p = np.linspace(0, 1, n_steps)\n",
    "P_n_p = np.zeros((n_steps, 3))\n",
    "plt.figure()\n",
    "for index, n in enumerate([7, 9, 11]):\n",
    "    P_n_p[:, index] = P_win(n, p)\n",
    "    plt.plot(p, P_n_p[:, index], label='$n=%s$' %n)\n",
    "    \n",
    "plt.legend()\n",
    "plt.xlabel('$p$')\n",
    "plt.ylabel('$P(n,p)$')\n",
    "plt.show()"
   ]
  },
  {
   "cell_type": "markdown",
   "metadata": {},
   "source": [
    "### (b)"
   ]
  },
  {
   "cell_type": "markdown",
   "metadata": {},
   "source": [
    "insert $ n=7, k=4, p=0.4 $ into the formulae (7-1)     \n",
    "$ P(n,p)= \\sum_{m=k}^n {{m-1} \\choose {k-1}} p^k (1-p)^{m-k}= \\sum_{m=4}^7 {{m-1} \\choose 3} 0.4^4 0.6^{m-4} = 0.2898 $    "
   ]
  },
  {
   "cell_type": "markdown",
   "metadata": {},
   "source": [
    "### (c)"
   ]
  },
  {
   "cell_type": "markdown",
   "metadata": {},
   "source": [
    "$P(n,p)$ increase most quickly near $p=0.5$, this is where the threshold effect takes place. The first-order partial derivative of formulae (7-1), $ \\frac{\\partial P(n,p)}{\\partial p} = \\sum_{m=k}^n {{m-1} \\choose {k-1}} p^{k-1}(k-m) (1-p)^{m-k} $, has maximum value at $ p=0.5 $. With increasing n, the threshold effects increases, since  $ \\frac{\\partial P(n,p)}{\\partial n} \\gt 0 $ .\n"
   ]
  },
  {
   "cell_type": "markdown",
   "metadata": {},
   "source": [
    "---"
   ]
  },
  {
   "cell_type": "markdown",
   "metadata": {},
   "source": [
    "# Problem 8"
   ]
  },
  {
   "cell_type": "markdown",
   "metadata": {},
   "source": [
    "| $x$  |   -1   |   0  |   1  |   2  |   4  | \n",
    "| :------: | :------:  | :------:| :------:| :------:| :------:|\n",
    "| $P(X=x)$ | 0.1  |  0.2 |  0.15 |  0.3 |  0.25 |"
   ]
  },
  {
   "cell_type": "markdown",
   "metadata": {},
   "source": [
    "$ P(X<0) = P(x=-1) = 0.1  $    \n",
    "$ P(X=even) = P(x=0) + P(x=2) + P(x=4) = 0.2 + 0.3 + 0.25 = 0.75  $    \n",
    "$ P(X=0| X \\leq 0 ) = \\frac{P(X=0, X\\leq0)}{P(X\\leq0)} = \\frac{0.2}{0.2 + 0.1} = 0.667   $  \n",
    "$ P(X\\geq2| X \\gt 0 ) = \\frac{P(X \\geq2, X \\gt 0)}{P(X \\gt 0)} = \\frac{0.3 + 0.25}{0.15 + 0.3+0.25} = 0.786   $  "
   ]
  },
  {
   "cell_type": "markdown",
   "metadata": {},
   "source": [
    "---"
   ]
  },
  {
   "cell_type": "markdown",
   "metadata": {},
   "source": [
    "### Problem 9"
   ]
  },
  {
   "cell_type": "markdown",
   "metadata": {},
   "source": [
    "Since there is no replacement while $ n $ fishes were caught and tagged from $ N $,   \n",
    "$$  f(X; M, n , N) = \\frac{{n\\choose X}{{N-n}\\choose{M-X}}}{N \\choose M}  $$"
   ]
  },
  {
   "cell_type": "markdown",
   "metadata": {},
   "source": [
    "$ n \\choose X $: number of possible combinations of choosing $X$ tagged fish from $n$     \n",
    "$ n \\choose X $: number of possible combinations of choosing $(M-X)$ untagged fish from $(N-n)$     \n",
    "$ N \\choose M $: number of possible combinations of choosing $ M $ fish from $N$      "
   ]
  },
  {
   "cell_type": "markdown",
   "metadata": {},
   "source": [
    "$ X \\sim Hypergeometric(M, n, N) $     \n",
    "$ q.e.d. $"
   ]
  }
 ],
 "metadata": {
  "kernelspec": {
   "display_name": "Python 3",
   "language": "python",
   "name": "python3"
  },
  "language_info": {
   "codemirror_mode": {
    "name": "ipython",
    "version": 3
   },
   "file_extension": ".py",
   "mimetype": "text/x-python",
   "name": "python",
   "nbconvert_exporter": "python",
   "pygments_lexer": "ipython3",
   "version": "3.7.4"
  }
 },
 "nbformat": 4,
 "nbformat_minor": 2
}
