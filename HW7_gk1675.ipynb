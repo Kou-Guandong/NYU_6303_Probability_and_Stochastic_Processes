{
 "cells": [
  {
   "cell_type": "markdown",
   "metadata": {},
   "source": [
    "<center style=\"margin:80px 0 10px\">\n",
    "    <h3>ECE-GY 6303 Homework#6 gk1675 (Guandong Kou)</h3>\n",
    "</center>"
   ]
  },
  {
   "cell_type": "code",
   "execution_count": 1,
   "metadata": {},
   "outputs": [
    {
     "data": {
      "text/html": [
       "<style>\n",
       ".text_cell_render {\n",
       "    line-height: 2.5;\n",
       "}\n",
       ".text_cell_render.rendered_html hr {\n",
       "    border-top: 1px solid #bbb; \n",
       "}\n",
       "</style>\n"
      ],
      "text/plain": [
       "<IPython.core.display.HTML object>"
      ]
     },
     "metadata": {},
     "output_type": "display_data"
    }
   ],
   "source": [
    "run utils.ipynb"
   ]
  },
  {
   "cell_type": "markdown",
   "metadata": {},
   "source": [
    "# Problem 1"
   ]
  },
  {
   "cell_type": "markdown",
   "metadata": {},
   "source": [
    "## 1a"
   ]
  },
  {
   "cell_type": "markdown",
   "metadata": {},
   "source": [
    "The feasible region is bounded by $ y < x <1-y, 0<y<\\frac{1}{2} $."
   ]
  },
  {
   "cell_type": "markdown",
   "metadata": {},
   "source": [
    "$$\n",
    "\\int_0^{\\frac{1}{2}} \\int_y ^{1-y} k(x+y) dxdy = \\frac{k}{6}= 1 \\\\\n",
    "\\Rightarrow k=6\n",
    "$$"
   ]
  },
  {
   "cell_type": "markdown",
   "metadata": {},
   "source": [
    "When $ 0<x<\\frac{1}{2}$,\n",
    "$$\n",
    "f_X(x) = \\int_0^{x}6(x+y)dy = 9x^2\n",
    "$$\n",
    "When $ \\frac{1}{2}<x<1$,\n",
    "$$\n",
    "f_X(x) = \\int_0^{1-x}6(x+y)dy = 3(1-x^2)\n",
    "$$"
   ]
  },
  {
   "cell_type": "markdown",
   "metadata": {},
   "source": [
    "$$\n",
    "f_{Y|X}(y|x) = \\frac{f_{X,Y}}{f_X(x)} = \n",
    "\\begin{cases}\n",
    "\\frac{2(x+y)}{3x^2} & 0 \\leq x \\leq \\frac{1}{2} \\\\\n",
    "\\frac{2(x+y)}{-x^2-1} & \\frac{1}{2}<x \\leq1 \\\\\n",
    "\\end{cases}\n",
    "$$"
   ]
  },
  {
   "cell_type": "markdown",
   "metadata": {},
   "source": [
    "$$\n",
    "E[Y|X=x] = \\int_0^x \\frac{2(x+y)}{3x^2}dy + \\int_0^{1-x}\\frac{2(x+y)}{-x^2-1}dy = \n",
    "\\frac{2 \\left(x^{2} + x + 3\\right)}{9 \\left(x + 1\\right)}\n",
    "$$"
   ]
  },
  {
   "cell_type": "markdown",
   "metadata": {},
   "source": [
    "## 1b"
   ]
  },
  {
   "cell_type": "markdown",
   "metadata": {},
   "source": [
    "$$\n",
    "f_Y(y) = \\begin{cases}\n",
    "\\int_0^y 3xdx = \\frac{3}{2}y^2 & x<y<1 \\\\\n",
    "\\int_0^{2-y}3xdx = \\frac{3}{2}(2-y)^2 & 1 \\leq y \\leq 2-x\n",
    "\\end{cases}\n",
    "$$"
   ]
  },
  {
   "cell_type": "markdown",
   "metadata": {},
   "source": [
    "$$\n",
    "f_{X|Y} = \\frac{f_{X,Y}}{f_Y(y)} = \\begin{cases}\n",
    "\\frac{2x}{y^2} & x \\leq y<1 \\\\\n",
    "\\frac{2x}{(2-y)^2} & 1 \\leq y \\leq 2-x\n",
    "\\end{cases}\n",
    "$$"
   ]
  },
  {
   "cell_type": "markdown",
   "metadata": {},
   "source": [
    "$$\n",
    "E[X|Y] = \\begin{cases}\n",
    "\\int_0^y \\frac{2x}{y^2} = \\frac{2}{3}y & x \\leq y<1 \\\\\n",
    "\\int_0^{2-y}\\frac{2x}{(2-y)^2} = - \\frac{2 \\left(y - 2\\right)^{3} + 2}{3 y^{2} - 12 y + 12} & 1 \\leq y \\leq 2-x\n",
    "\\end{cases}\n",
    "$$"
   ]
  },
  {
   "cell_type": "markdown",
   "metadata": {},
   "source": [
    "## 1c"
   ]
  },
  {
   "cell_type": "markdown",
   "metadata": {},
   "source": [
    "$$\n",
    "f_X(x) = \\int_x^{2-x}3xdy = 6x(1-x)\n",
    "$$\n",
    "\n",
    "$$\n",
    "E(X) = \\int_0^1 x\\cdot 6x(1-x)dx = \\frac{1}{2}\n",
    "$$\n",
    "\n",
    "$$\n",
    "f_{Y|X}(y|x) = \\frac{f_{X,Y}(x,y)}{f_X(x)} = \\frac{1}{2(1-x)}\n",
    "$$\n",
    "\n",
    "$$\n",
    "E(Y|X=x) = \\int_x^{2-x}y f_{Y|X}(y|x)dy = \\int_x^{2-x}y \\frac{1}{2(1-x)}dy = 1 \\\\\n",
    "E(Y) = E[E(Y|X=x)] = 1\n",
    "$$\n",
    "\n",
    "$$\n",
    "E(XY) = \\int_0^1\\int_x^{2-x}xy3xdydx = \\frac{1}{2}\n",
    "$$\n",
    "\n",
    "$$\n",
    "Cov(X,Y) = E(XY) - E(X)E(Y) = 0 \\Rightarrow \\rho_{X,Y} = 0\n",
    "$$"
   ]
  },
  {
   "cell_type": "markdown",
   "metadata": {},
   "source": [
    "---\n",
    "# Problem 2"
   ]
  },
  {
   "cell_type": "markdown",
   "metadata": {},
   "source": [
    "## 2a"
   ]
  },
  {
   "cell_type": "markdown",
   "metadata": {},
   "source": [
    "Let $ M \\sim N(0,1), N \\sim N(0,1) $,   \n",
    "then,  \n",
    "$ X = \\mu_X + \\sigma_X M, Y = \\mu_Y + \\sigma_y(\\rho M + \\sqrt{1-\\rho^2}N) $"
   ]
  },
  {
   "cell_type": "markdown",
   "metadata": {},
   "source": [
    "$$\n",
    "E[Y|X=x] = E[\\mu_Y + \\sigma_y(\\rho M + \\sqrt{1-\\rho^2}N) | X=x] \\\\\n",
    "= E[\\mu_y + \\sigma_y(\\rho \\frac{x-\\mu_x}{\\sigma_x} + \\sqrt{1-\\rho^2}N) | X=x] \\\\\n",
    "= \\mu_y + \\sigma_y \\rho \\frac{x-\\mu_x}{\\sigma_x} + E[\\sqrt{1-\\rho^2}N) | X=x] \\\\\n",
    "= \\mu_y + \\sigma_y \\rho \\frac{x-\\mu_x}{\\sigma_x}\n",
    "$$"
   ]
  },
  {
   "cell_type": "markdown",
   "metadata": {},
   "source": [
    "$$\n",
    "Var[Y|X=x] = Var[\\mu_y + \\sigma_y(\\rho\\frac{x- \\mu_x}{\\sigma_x} + \\sqrt{1-\\rho^2} N)|X=x] \\\\\n",
    "= \\sigma_y ^2 \\cdot Var[\\sqrt{1-\\rho^2} N)|X=x] \\\\\n",
    "= \\sigma_y ^2(1-\\rho^2)\n",
    "$$"
   ]
  },
  {
   "cell_type": "markdown",
   "metadata": {},
   "source": [
    "$$\n",
    "E[Y^2|X=x] = Var[Y|X=x] + \\{E[Y|X=x]\\}^2 = \\sigma_y ^2(1-\\rho^2) + (\\mu_y + \\sigma_y \\rho \\frac{x-\\mu_x}{\\sigma_x})^2 \n",
    "$$"
   ]
  },
  {
   "cell_type": "markdown",
   "metadata": {},
   "source": [
    "Interchange X and Y, \n",
    "$$\n",
    "E[X^2|Y=y] = \\sigma_x ^2(1-\\rho^2) + (\\mu_x + \\sigma_x \\rho \\frac{y-\\mu_y}{\\sigma_y})^2 \n",
    "$$"
   ]
  },
  {
   "cell_type": "markdown",
   "metadata": {},
   "source": [
    "## 2b"
   ]
  },
  {
   "cell_type": "markdown",
   "metadata": {},
   "source": [
    "$$\n",
    "f_X(x) = \\int_x^1f_{X,Y}(x,y)dy = 6x(1-x)  \\\\\n",
    "f_Y(y) = \\int_0^yf_{X,Y}(x,y)dy = 3y^2  \\\\\n",
    "f_{X|Y}(x|y) = \\frac{f_{X,Y}}{f_Y(y)} = \\frac{2x}{y^2}\n",
    "f_{Y|X}(y|x) = \\frac{f_{X,Y}}{f_X(x)} = \\frac{1}{1-x}\n",
    "$$"
   ]
  },
  {
   "cell_type": "markdown",
   "metadata": {},
   "source": [
    "$$\n",
    "E(X|Y) = \\int_0^y f_{X|Y}dx = \\frac{2y}{3} \\\\\n",
    "E(Y|X) = \\int_x^1 f_{Y|X}dy = \\frac{1+x}{2} \\\\\n",
    "$$"
   ]
  },
  {
   "cell_type": "markdown",
   "metadata": {},
   "source": [
    "---\n",
    "# Problem 3"
   ]
  },
  {
   "cell_type": "markdown",
   "metadata": {},
   "source": [
    "## 3a"
   ]
  },
  {
   "cell_type": "markdown",
   "metadata": {},
   "source": [
    "$$\n",
    "J = \\begin{vmatrix} \\frac{\\partial{z}}{\\partial{x}} & \\frac{\\partial{z}}{\\partial{x}} \\\\\n",
    "\\frac{\\partial{w}}{\\partial{x}} & \\frac{\\partial{z}}{\\partial{x}} \\end{vmatrix} \n",
    "= \\begin{vmatrix} 2 & -1 \\\\ \n",
    "-\\frac{y}{x^2} & \\frac{1}{x} \\end{vmatrix}\n",
    "= \\frac{2x-y}{x^2}\n",
    "$$"
   ]
  },
  {
   "cell_type": "markdown",
   "metadata": {},
   "source": [
    "$$\n",
    "x = \\frac{z}{2-w} \\\\\n",
    "y = \\frac{wz}{2-w}\n",
    "$$"
   ]
  },
  {
   "cell_type": "markdown",
   "metadata": {},
   "source": [
    "$$\n",
    "f_{Z,W}(z,w) = \\frac{1}{|J|}f_{X,Y}(\\frac{z}{2-w}, \\frac{wz}{2-w}) = \\frac{2}{(2-w)^2}e^{-z}\n",
    "$$"
   ]
  },
  {
   "cell_type": "markdown",
   "metadata": {},
   "source": [
    "$$\n",
    "f_Z(z) = \\int_0^1 \\frac{2e^{-z}}{(2-w)^2}dw = e^{-z} \\\\ \n",
    "f_W(w) = \\int_0^{+\\infty}\\frac{2e^{-z}}{(2-w)^2}dz = \\frac{2}{(2-w)^2}\n",
    "$$"
   ]
  },
  {
   "cell_type": "markdown",
   "metadata": {},
   "source": [
    "$ f_Z(z)f_W(w) = f_{Z,W}(z,w) \\Rightarrow$ Z and W are independent."
   ]
  },
  {
   "cell_type": "markdown",
   "metadata": {},
   "source": [
    "## 3b\n",
    "### (i)\n",
    "\n",
    "$$\n",
    "\\begin{cases}\n",
    "x+y=m \\\\\n",
    "|x-y| = k\n",
    "\\end{cases} \\Rightarrow\n",
    "\\begin{cases}\n",
    "x=\\frac{m+k}{2} \\\\\n",
    "y=\\frac{m-k}{2}\n",
    "\\end{cases}  or \n",
    "\\begin{cases}\n",
    "x=\\frac{m-k}{2} \\\\\n",
    "y=\\frac{m+k}{2}\n",
    "\\end{cases}\n",
    "$$\n",
    "\n",
    "$$\n",
    "P(Z = m,W = k) =\n",
    "\\begin{cases}\n",
    "P(x=\\frac{m+k}{2}, y=\\frac{m-k}{2}) + P(x=\\frac{m-k}{2}, y=\\frac{m+k}{2}) = pq^{\\frac{m+k}{2}}pq^{\\frac{m-k}{2}} + pq^{\\frac{m-k}{2}}pq^{\\frac{m+k}{2}} = 2p^2q^m & k \\neq 0 \\\\\n",
    "P(x=\\frac{m+k}{2}, y=\\frac{m-k}{2}) = pq^{\\frac{m+k}{2}}pq^{\\frac{m-k}{2}} = p^2q^m & k=0 \\\\\n",
    "\\end{cases}\n",
    "$$"
   ]
  },
  {
   "cell_type": "markdown",
   "metadata": {},
   "source": [
    "### (ii)\n",
    "\n",
    "$$\n",
    "P(Z=m) = P(x+y=m) = \\sum_{i=0}^{m}pq^i pq^{m-i} = p^2\\sum_{i=0}^{m}q^m = (m+1)p^2q^m\n",
    "$$"
   ]
  },
  {
   "cell_type": "markdown",
   "metadata": {},
   "source": [
    "### (iii)\n",
    "\n",
    "When $k \\neq 0$\n",
    "\n",
    "$$\n",
    "P(W=k)=P(|X − Y |=k) = P(X-Y=k)+P(X-Y=-k) = \\\\\n",
    "\\sum_{j=0}^{+\\infty}pq^{k+j}pq^j + \\sum_{j=0}^{+\\infty}pq^jpq^{k+j} = 2p^2q^k\\sum_{j=0}^{+\\infty}q^{2j}\n",
    "=\\frac{2p^2q^k}{1-q^2} =\\frac{2pq^k}{1+q}\n",
    "$$"
   ]
  },
  {
   "cell_type": "markdown",
   "metadata": {},
   "source": [
    "When $k=0$,\n",
    "$$\n",
    "P(W=9)=P(X=Y) = \n",
    "\\sum_{j=0}^{+\\infty}pq^{j}pq^j = p^2\\sum_{j=0}^{+\\infty}q^{2j}\n",
    "=\\frac{p^2}{1-q^2} = \\frac{p}{1+q}\n",
    "$$"
   ]
  },
  {
   "cell_type": "markdown",
   "metadata": {},
   "source": [
    "---\n",
    "# Problem 4"
   ]
  },
  {
   "cell_type": "markdown",
   "metadata": {},
   "source": [
    "## 4a"
   ]
  },
  {
   "cell_type": "markdown",
   "metadata": {},
   "source": [
    "$$\n",
    "Z=X+Y, W=X-Y\n",
    "\\Rightarrow\n",
    "J = \\begin{vmatrix} \\frac{\\partial{z}}{\\partial{x}} & \\frac{\\partial{z}}{\\partial{x}} \\\\\n",
    "\\frac{\\partial{w}}{\\partial{x}} & \\frac{\\partial{z}}{\\partial{x}} \\end{vmatrix} \n",
    "= \\begin{vmatrix} 1 & 1 \\\\ \n",
    "1 & -1 \\end{vmatrix}\n",
    "= -2\n",
    "$$"
   ]
  },
  {
   "cell_type": "markdown",
   "metadata": {},
   "source": [
    "$$\n",
    "X = \\frac{Z+W}{2}, Y = \\frac{Z-W}{2}, \\\\\n",
    "\\Rightarrow\n",
    "f_{W,Z}(w,z) = \\frac{1}{|J|}f_{X,Y}(\\frac{Z+W}{2}, \\frac{Z-W}{2}) = \\frac{3}{8}z^2\n",
    "$$"
   ]
  },
  {
   "cell_type": "markdown",
   "metadata": {},
   "source": [
    "if $1 \\leq z \\leq 2$,\n",
    "$$\n",
    "F_Z(z) = 1 - \\int_{z-1}^1\\int_{z-y}^{1}f_{X,Y}(x,y)dxdy = \\frac{z^{3} \\left(8 - 3 z\\right)}{16}\n",
    "$$"
   ]
  },
  {
   "cell_type": "markdown",
   "metadata": {},
   "source": [
    "if $0 \\lt z \\lt 1$,\n",
    "$$\n",
    "F_Z(z) = \\int_0^1 \\int_0^{z-x}f_{X,Y}(x,y)dydx = \\frac{z^{3}}{4} + \\frac{1}{16}\n",
    "$$"
   ]
  },
  {
   "cell_type": "markdown",
   "metadata": {},
   "source": [
    "if $-1 \\leq z \\leq 0$,\n",
    "$$\n",
    "F_Z(z) = \\int_0^z \\int_0^{z-y}f_{X,Y}(x,y)dxdy = \\frac{3 z^{4}}{16} + \\frac{z^{3}}{4} + \\frac{1}{16}\n",
    "$$"
   ]
  },
  {
   "cell_type": "markdown",
   "metadata": {},
   "source": [
    "$$\n",
    "f_Z(z) = \\frac{dF_Z(z)}{dz} = \n",
    "\\begin{cases}\n",
    "\\frac{3}{4}z^2(2-z) & 1 \\leq z \\leq 2 \\\\\n",
    "\\frac{3}{4}z^2 & 0\\leq z \\lt 1 \\\\\n",
    "\\frac{3}{4}z^2(z+1) & -1 \\leq z \\lt 0 \\\\\n",
    "\\end{cases}\n",
    "$$"
   ]
  },
  {
   "cell_type": "markdown",
   "metadata": {},
   "source": [
    "Similarly,\n",
    "$$\n",
    "F_W(w) = \\begin{cases}\n",
    "\\int_{-w}^1 \\int_0^{y+w}f_{X,Y}(x,y)dxdy & -1 \\leq w \\leq 0 \\\\\n",
    "\\int_0^1 \\int_{x-w}^1 f_{X,Y}(x,y)dydx & 0 < w < 1 \\\\\n",
    "1 - \\int_{w-1}^1 \\int_{-1}^{x-w}f_{X,Y}(x,y)dydx & 1 \\leq w \\leq 2 \\\\\n",
    "\\end{cases}\n",
    "$$\n",
    "\n",
    "\n",
    "$$\n",
    "\\Rightarrow\n",
    "f_W(w) = \\begin{cases}\n",
    "\\frac{w^{3}}{4} + \\frac{3 w^{2}}{4} + \\frac{3 w}{2} + 1 & -1 \\leq w \\leq 0 \\\\\n",
    "\\frac{3 w^{2}}{4} - \\frac{3 w}{2} + 1 & 0 < w < 1 \\\\\n",
    "- \\frac{w^{3}}{4} + \\frac{3 w^{2}}{2} - 3 w + 2 & 1 \\leq w \\leq 2 \\\\\n",
    "\\end{cases}\n",
    "$$\n",
    "\n",
    "Detailed intermediate calclation steps can be founded at [procedures link](./Procedures_HW7.ipynb)."
   ]
  },
  {
   "cell_type": "markdown",
   "metadata": {},
   "source": [
    "**Are Z and W independent random variables?**  \n",
    "-- NO, $f_W(w)f_Z(z) \\neq f_{W,Z}(w,z) \\Rightarrow$, Z and W are not independent. "
   ]
  },
  {
   "cell_type": "markdown",
   "metadata": {},
   "source": [
    "**Are Z and W uncorrelated random variables?**   \n",
    "-- $E(ZW)\\neq E(Z)E(W) \\Rightarrow $ Z and W are not uncorrelated.  "
   ]
  },
  {
   "cell_type": "markdown",
   "metadata": {},
   "source": [
    "**Are Z and W orthogonal random variables?**   \n",
    "$E(ZW) \\neq 0 \\Rightarrow $ Z and W are not orthogonal."
   ]
  },
  {
   "cell_type": "markdown",
   "metadata": {},
   "source": [
    "## 4b"
   ]
  },
  {
   "cell_type": "markdown",
   "metadata": {},
   "source": [
    "$$\n",
    "f_Y(y) = \\int_0^1 \\frac{3}{4}(x+y)^2 dx = \\frac{1}{4}(3y^2 + 3y + 1)\n",
    "$$"
   ]
  },
  {
   "cell_type": "markdown",
   "metadata": {},
   "source": [
    "$$\n",
    "f_{X|Y}(x|y) = \\frac{f_{X,Y}(x,y)}{f_Y(y)} = \\frac{3(x+y)^2}{3y^2+3y+1}\n",
    "$$"
   ]
  },
  {
   "cell_type": "markdown",
   "metadata": {},
   "source": [
    "$$\n",
    "E[X|Y=y] = \\int_0^1 x f_{X|Y}(x|y) dx = \\int_0^1 \\frac{3x(x+y)^2}{3y^2+3y+1} dx = \\frac{6 y^{2} + 8 y + 3}{4(3 y^{2} + 3 y + 1)}\n",
    "$$"
   ]
  },
  {
   "cell_type": "markdown",
   "metadata": {},
   "source": [
    "---\n",
    "# Problem 5"
   ]
  },
  {
   "cell_type": "markdown",
   "metadata": {},
   "source": [
    "## 5a"
   ]
  },
  {
   "cell_type": "markdown",
   "metadata": {},
   "source": [
    "$$\n",
    "Z=X+Y, W=\\frac{X}{Y}\n",
    "\\Rightarrow\n",
    "J = \\begin{vmatrix} \\frac{\\partial{z}}{\\partial{x}} & \\frac{\\partial{z}}{\\partial{x}} \\\\\n",
    "\\frac{\\partial{w}}{\\partial{x}} & \\frac{\\partial{z}}{\\partial{x}} \\end{vmatrix} \n",
    "= \\begin{vmatrix} 1 & 1 \\\\ \n",
    "\\frac{1}{y} & -\\frac{x}{y^2} \\end{vmatrix}\n",
    "= -\\frac{x+y}{y^2}\n",
    "$$"
   ]
  },
  {
   "cell_type": "markdown",
   "metadata": {},
   "source": [
    "$$\n",
    "z = x+y, w = \\frac{x}{y} \\Rightarrow x = \\frac{wz}{w+1}, z = \\frac{z}{w+1} \\\\\n",
    "f_{W,Z}(w,z) = \\frac{1}{|J|}f_{X,Y}(x,y) = \\frac{y^2}{x+y}2xye^{-(x+y)} = \\frac{2wz^3e^{-z}}{(w+1)^4}\n",
    "$$"
   ]
  },
  {
   "cell_type": "markdown",
   "metadata": {},
   "source": [
    "$$\n",
    "F_Z(z) = P(x+y \\leq z) = \\int_0^z \\int_y^{z-y}f_{X,Y}(x,y)dxdy = \n",
    "\\left(- \\frac{z^{3}}{6} - \\frac{z^{2}}{2} - z + e^{z} - 1\\right) e^{- z} \\\\ \n",
    "f_Z(z) = \\frac{1}{6}z^3 e^{-z}\n",
    "$$"
   ]
  },
  {
   "cell_type": "markdown",
   "metadata": {},
   "source": [
    "$$\n",
    "F_W(w) = P(\\frac{x}{y} \\leq w) = \\int_0^{+\\infty}\\int_{\\frac{x}{w}}^x f_{X,Y}(x,y)dydx \n",
    "= \\frac{2w^3 + 6w^2}{(w+1)^3}-1 \\\\\n",
    "f_W(w) = \\frac{12w}{(w+1)^4}\n",
    "$$"
   ]
  },
  {
   "cell_type": "markdown",
   "metadata": {},
   "source": [
    "## 5b\n",
    "\n",
    "$\n",
    "f_Z(z)f_W(w) = f_{W,Z}(w,z) \\Rightarrow\n",
    "$\n",
    "W and Z are independent."
   ]
  },
  {
   "cell_type": "markdown",
   "metadata": {},
   "source": [
    "## 5c\n",
    "From (5b), $E(Z,W) = E(Z)E(W) \\Rightarrow $ W and Z are uncorrelated."
   ]
  },
  {
   "cell_type": "markdown",
   "metadata": {},
   "source": [
    "---\n",
    "Source Code of Latex and Python will only be committed to [Guandong Kou's GitHub](https://github.com/Kou-Guandong/NYU_6303_Probability_and_Stochastic_Processes) after the due date of each assignment."
   ]
  }
 ],
 "metadata": {
  "kernelspec": {
   "display_name": "Python 3",
   "language": "python",
   "name": "python3"
  },
  "language_info": {
   "codemirror_mode": {
    "name": "ipython",
    "version": 3
   },
   "file_extension": ".py",
   "mimetype": "text/x-python",
   "name": "python",
   "nbconvert_exporter": "python",
   "pygments_lexer": "ipython3",
   "version": "3.7.4"
  }
 },
 "nbformat": 4,
 "nbformat_minor": 2
}
