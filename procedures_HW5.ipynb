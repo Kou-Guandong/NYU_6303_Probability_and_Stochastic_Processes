{
 "cells": [
  {
   "cell_type": "code",
   "execution_count": 122,
   "metadata": {},
   "outputs": [],
   "source": [
    "from scipy.integrate import quad\n",
    "from sympy import *"
   ]
  },
  {
   "cell_type": "code",
   "execution_count": 3,
   "metadata": {},
   "outputs": [
    {
     "data": {
      "text/html": [
       "<style>\n",
       ".text_cell_render {\n",
       "    line-height: 2.5;\n",
       "}\n",
       ".text_cell_render.rendered_html hr {\n",
       "    border-top: 1px solid #bbb; \n",
       "}\n",
       "</style>\n"
      ],
      "text/plain": [
       "<IPython.core.display.HTML object>"
      ]
     },
     "metadata": {},
     "output_type": "display_data"
    }
   ],
   "source": [
    "%run utils.ipynb"
   ]
  },
  {
   "cell_type": "code",
   "execution_count": 4,
   "metadata": {},
   "outputs": [
    {
     "data": {
      "text/html": [
       "<style>\n",
       "p>img {\n",
       "    width: 40%;\n",
       "}\n",
       "</style>\n"
      ],
      "text/plain": [
       "<IPython.core.display.HTML object>"
      ]
     },
     "metadata": {},
     "output_type": "display_data"
    }
   ],
   "source": [
    "%%html\n",
    "<style>\n",
    "p>img {\n",
    "    width: 40%;\n",
    "}\n",
    "</style>"
   ]
  },
  {
   "cell_type": "markdown",
   "metadata": {},
   "source": [
    "## 1a."
   ]
  },
  {
   "cell_type": "code",
   "execution_count": 5,
   "metadata": {},
   "outputs": [],
   "source": [
    "def g_x_1_a(x):\n",
    "    return x / (1 + x**2)"
   ]
  },
  {
   "cell_type": "code",
   "execution_count": 6,
   "metadata": {},
   "outputs": [],
   "source": [
    "def plot_1a_g_x():\n",
    "    \n",
    "    x = np.linspace(-2, 2, 101)\n",
    "    y = g_x_1_a(x)\n",
    "    plt.plot(x, y)\n",
    "    plt.xlabel('$x$');\n",
    "    plt.ylabel('$g(x)$');\n",
    "    plt.title('$y=g(x)$');"
   ]
  },
  {
   "cell_type": "code",
   "execution_count": 34,
   "metadata": {},
   "outputs": [],
   "source": [
    "x, y = symbols('x y')"
   ]
  },
  {
   "cell_type": "code",
   "execution_count": 10,
   "metadata": {},
   "outputs": [],
   "source": [
    "def f_Y_y_1_a(y):\n",
    "    if y <= -0.5 or y >= 0.5 or y==0:\n",
    "        return 0\n",
    "    y_abs = np.abs(y)\n",
    "    t = (1-4*y**2)**0.5\n",
    "    if y_abs > 0 and y_abs <= 0.4:\n",
    "        return 1/4 * ( 2 / t + (t - 1)/(2*y**2) )\n",
    "    if y_abs >0.4 and y_abs < 0.5:\n",
    "        return 1/4 * (4/t + t/y**2)"
   ]
  },
  {
   "cell_type": "code",
   "execution_count": 11,
   "metadata": {},
   "outputs": [],
   "source": [
    "def plot_1a_f_Y():\n",
    "    x = np.linspace(-0.4999, 0.4998, 300)\n",
    "    y = func_map(f_Y_y_1_a, x)\n",
    "    plt.plot(x, y)\n",
    "    plt.ylim(0, 5)\n",
    "    plt.xlabel('$y$');\n",
    "    plt.ylabel('$f_Y(y)$');\n",
    "    plt.title('$f_Y(y)$');"
   ]
  },
  {
   "cell_type": "code",
   "execution_count": 12,
   "metadata": {},
   "outputs": [
    {
     "data": {
      "text/plain": [
       "(1.0000000000259779, 5.85450354861905e-09)"
      ]
     },
     "execution_count": 12,
     "metadata": {},
     "output_type": "execute_result"
    }
   ],
   "source": [
    "quad(f_Y_y_1_a, -0.6, 0.6, limit=100)"
   ]
  },
  {
   "cell_type": "markdown",
   "metadata": {},
   "source": [
    "## 1b."
   ]
  },
  {
   "cell_type": "code",
   "execution_count": 24,
   "metadata": {},
   "outputs": [],
   "source": [
    "def f_Y_Y_1b(y):\n",
    "    if y <= -1 or y >= 1:\n",
    "        return 0\n",
    "    return 1/( (1-y**2)**0.5 * np.pi**2)*2*np.arccos(y)"
   ]
  },
  {
   "cell_type": "code",
   "execution_count": 31,
   "metadata": {},
   "outputs": [],
   "source": [
    "def plot_1b():\n",
    "    y = np.linspace(-0.999,0.999, 101)\n",
    "    yy = func_map(f_Y_Y_1b, y)\n",
    "    plt.plot(y, yy)\n",
    "    plt.xlabel('$y$');\n",
    "    plt.ylim(0, 5)\n",
    "    plt.ylabel('$f_Y(y)$');\n",
    "    plt.title('probability density function of $Y$');\n",
    "    plt.show();"
   ]
  },
  {
   "cell_type": "code",
   "execution_count": 32,
   "metadata": {},
   "outputs": [
    {
     "data": {
      "text/plain": [
       "(0.9999999999999457, 1.973752272732554e-10)"
      ]
     },
     "execution_count": 32,
     "metadata": {},
     "output_type": "execute_result"
    }
   ],
   "source": [
    "quad(f_Y_Y_1b, -1, 1)"
   ]
  },
  {
   "cell_type": "markdown",
   "metadata": {},
   "source": [
    "## 1d."
   ]
  },
  {
   "cell_type": "code",
   "execution_count": 71,
   "metadata": {},
   "outputs": [],
   "source": [
    "x = symbols('x')"
   ]
  },
  {
   "cell_type": "code",
   "execution_count": 72,
   "metadata": {},
   "outputs": [
    {
     "data": {
      "text/latex": [
       "$\\displaystyle - \\frac{i y \\left(y - 1\\right) e^{i x}}{\\left(- \\left(1 - y\\right) e^{i x} + 1\\right)^{2}}$"
      ],
      "text/plain": [
       "-I*y*(y - 1)*exp(I*x)/(-(1 - y)*exp(I*x) + 1)**2"
      ]
     },
     "execution_count": 72,
     "metadata": {},
     "output_type": "execute_result"
    }
   ],
   "source": [
    "diff(y/(1- (1-y)*exp(I*x)) , x)"
   ]
  },
  {
   "cell_type": "code",
   "execution_count": 111,
   "metadata": {},
   "outputs": [],
   "source": [
    "x, y, z, p = symbols('x y z p')"
   ]
  },
  {
   "cell_type": "markdown",
   "metadata": {},
   "source": [
    "## 4."
   ]
  },
  {
   "cell_type": "code",
   "execution_count": 112,
   "metadata": {},
   "outputs": [],
   "source": [
    "f = exp(-x)"
   ]
  },
  {
   "cell_type": "code",
   "execution_count": 134,
   "metadata": {},
   "outputs": [
    {
     "data": {
      "text/latex": [
       "$\\displaystyle - e^{- z} + e^{- \\frac{z}{2}}$"
      ],
      "text/plain": [
       "-exp(-z) + exp(-z/2)"
      ]
     },
     "execution_count": 134,
     "metadata": {},
     "output_type": "execute_result"
    }
   ],
   "source": [
    "simplify(diff(integrate(f, (x, y, z-y), (y, 0, z/2)), z))"
   ]
  },
  {
   "cell_type": "code",
   "execution_count": 135,
   "metadata": {},
   "outputs": [],
   "source": [
    "def f_Z_3(z):\n",
    "    return -np.exp(-z) + np.exp(-z/2)"
   ]
  },
  {
   "cell_type": "code",
   "execution_count": 140,
   "metadata": {},
   "outputs": [
    {
     "data": {
      "text/plain": [
       "(1.0, 2.127921168910131e-14)"
      ]
     },
     "execution_count": 140,
     "metadata": {},
     "output_type": "execute_result"
    }
   ],
   "source": [
    "quad(f_Z_3, 0, 10000)"
   ]
  },
  {
   "cell_type": "markdown",
   "metadata": {},
   "source": [
    "### b."
   ]
  },
  {
   "cell_type": "code",
   "execution_count": 143,
   "metadata": {},
   "outputs": [
    {
     "data": {
      "text/plain": [
       "'- e^{- y - z} + e^{- y}'"
      ]
     },
     "execution_count": 143,
     "metadata": {},
     "output_type": "execute_result"
    }
   ],
   "source": [
    "latex(integrate(f, (x, y, z+y)))"
   ]
  },
  {
   "cell_type": "code",
   "execution_count": 145,
   "metadata": {},
   "outputs": [
    {
     "data": {
      "text/latex": [
       "$\\displaystyle 1 - e^{- z}$"
      ],
      "text/plain": [
       "1 - exp(-z)"
      ]
     },
     "execution_count": 145,
     "metadata": {},
     "output_type": "execute_result"
    }
   ],
   "source": [
    "integrate(f, (x, y, z+y), (y, 0, +oo))"
   ]
  },
  {
   "cell_type": "code",
   "execution_count": 141,
   "metadata": {},
   "outputs": [
    {
     "data": {
      "text/latex": [
       "$\\displaystyle e^{- z}$"
      ],
      "text/plain": [
       "exp(-z)"
      ]
     },
     "execution_count": 141,
     "metadata": {},
     "output_type": "execute_result"
    }
   ],
   "source": [
    "simplify(diff(integrate(f, (x, y, z+y), (y, 0, +oo)), z))"
   ]
  }
 ],
 "metadata": {
  "kernelspec": {
   "display_name": "Python 3",
   "language": "python",
   "name": "python3"
  },
  "language_info": {
   "codemirror_mode": {
    "name": "ipython",
    "version": 3
   },
   "file_extension": ".py",
   "mimetype": "text/x-python",
   "name": "python",
   "nbconvert_exporter": "python",
   "pygments_lexer": "ipython3",
   "version": "3.7.4"
  }
 },
 "nbformat": 4,
 "nbformat_minor": 2
}
