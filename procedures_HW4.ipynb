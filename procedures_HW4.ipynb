{
 "cells": [
  {
   "cell_type": "code",
   "execution_count": 2,
   "metadata": {},
   "outputs": [],
   "source": [
    "import scipy.integrate as integrate"
   ]
  },
  {
   "cell_type": "code",
   "execution_count": 1,
   "metadata": {},
   "outputs": [
    {
     "data": {
      "text/html": [
       "<style>\n",
       ".text_cell_render {\n",
       "    line-height: 2.5;\n",
       "}\n",
       ".text_cell_render.rendered_html hr {\n",
       "    border-top: 1px solid #bbb; \n",
       "}\n",
       "</style>\n"
      ],
      "text/plain": [
       "<IPython.core.display.HTML object>"
      ]
     },
     "metadata": {},
     "output_type": "display_data"
    }
   ],
   "source": [
    "%run utils.ipynb"
   ]
  },
  {
   "cell_type": "code",
   "execution_count": null,
   "metadata": {},
   "outputs": [],
   "source": [
    "%%html\n",
    "<style>\n",
    "p>img {\n",
    "    width: 40%;\n",
    "}\n",
    "</style>"
   ]
  },
  {
   "cell_type": "markdown",
   "metadata": {},
   "source": [
    "## 1a."
   ]
  },
  {
   "cell_type": "code",
   "execution_count": null,
   "metadata": {},
   "outputs": [],
   "source": [
    "y = np.linspace(-4, 4, 1001)\n",
    "F_y = np.zeros(y.size)\n",
    "f_y = np.zeros(y.size)\n",
    "\n",
    "def plot_1a():\n",
    "    plt.figure();\n",
    "    plt.xlim(-4, 4);\n",
    "    plt.ylim(0, 1);\n",
    "    plot_arrow(-2, 0, 0, 0.3, plt);\n",
    "    plot_arrow(-1, 0, 0, 0.1, plt);\n",
    "    plot_arrow(1, 0, 0, 0.1, plt);\n",
    "    plot_arrow(2, 0, 0, 0.3, plt);\n",
    "    plot_interval(y, f_y, '(y>=-1)& (y<1)', '0.1', ax=plt);\n",
    "    plt.xlabel('$y$');\n",
    "    plt.ylabel('$f_Y(y)$');\n",
    "    plt.title('probability density function of $Y$');\n",
    "    plt.show();"
   ]
  },
  {
   "cell_type": "markdown",
   "metadata": {},
   "source": [
    "## 1b."
   ]
  },
  {
   "cell_type": "code",
   "execution_count": null,
   "metadata": {},
   "outputs": [],
   "source": [
    "def plot_1b():\n",
    "    y = np.linspace(1,10, 101)\n",
    "    yy = 1/2 * y**(-3/2) * 1\n",
    "    plt.plot(y, yy)\n",
    "    plt.xlim(0, 10);\n",
    "    plt.ylim(0, 1);\n",
    "    plt.xlabel('$y$');\n",
    "    plt.ylabel('$f_Y(y)$');\n",
    "    plt.title('probability density function of $Y$');\n",
    "    plt.show();"
   ]
  },
  {
   "cell_type": "markdown",
   "metadata": {},
   "source": [
    "## 2a"
   ]
  },
  {
   "cell_type": "code",
   "execution_count": 13,
   "metadata": {},
   "outputs": [],
   "source": [
    "def f_X_x_2a(x):\n",
    "    if x >=0 and x < a:\n",
    "        return a**2\n",
    "    if x >= a and x <= 2*a:\n",
    "        return (x - 2*a) ** 2"
   ]
  },
  {
   "cell_type": "code",
   "execution_count": 28,
   "metadata": {},
   "outputs": [],
   "source": [
    "a = 0.90856"
   ]
  },
  {
   "cell_type": "code",
   "execution_count": 22,
   "metadata": {},
   "outputs": [],
   "source": [
    "def mean_X_2a(x):\n",
    "    a = 0.90856\n",
    "    if x >=0 and x < a:\n",
    "        return a**2 * x\n",
    "    if x >= a and x <= 2*a:\n",
    "        return (x - 2*a) ** 2 * x\n",
    "    else:\n",
    "        return 0"
   ]
  },
  {
   "cell_type": "code",
   "execution_count": 30,
   "metadata": {},
   "outputs": [],
   "source": [
    "def var_X_2a(x):\n",
    "    a = 0.90856\n",
    "    miu = 0.6246\n",
    "    if x >=0 and x < a:\n",
    "        return a**2 * (x - miu)**2\n",
    "    if x >= a and x <= 2*a:\n",
    "        return (x - 2*a) ** 2 * (x - miu)**2"
   ]
  },
  {
   "cell_type": "code",
   "execution_count": 31,
   "metadata": {},
   "outputs": [
    {
     "data": {
      "text/plain": [
       "(0.14639380255780704, 1.6237011735142914e-15)"
      ]
     },
     "execution_count": 31,
     "metadata": {},
     "output_type": "execute_result"
    }
   ],
   "source": [
    "integrate.quad(var_X_2a, 0, 2*a)"
   ]
  },
  {
   "cell_type": "markdown",
   "metadata": {},
   "source": [
    "## 2b."
   ]
  },
  {
   "cell_type": "code",
   "execution_count": 51,
   "metadata": {},
   "outputs": [],
   "source": [
    "a = (6/11) ** (1/3)"
   ]
  },
  {
   "cell_type": "code",
   "execution_count": 48,
   "metadata": {},
   "outputs": [],
   "source": [
    "def f_Y_y(y):\n",
    "    a = (6/11) ** (1/3)\n",
    "    if 0 <= y and y < a:\n",
    "        return y**2\n",
    "    if a <=y and y < 2*a:\n",
    "        return a**2\n",
    "    if 2*a <= y and y <=3*a:\n",
    "        return a*(3*a - y)"
   ]
  },
  {
   "cell_type": "code",
   "execution_count": 49,
   "metadata": {},
   "outputs": [
    {
     "data": {
      "text/plain": [
       "(0.9999999978319746, 1.15292220215224e-11)"
      ]
     },
     "execution_count": 49,
     "metadata": {},
     "output_type": "execute_result"
    }
   ],
   "source": [
    "integrate.quad(f_Y_y, 0, 3*a)"
   ]
  },
  {
   "cell_type": "code",
   "execution_count": 46,
   "metadata": {},
   "outputs": [],
   "source": [
    "def mean_Y(y):\n",
    "    a = (6/11) ** (1/3)\n",
    "    if 0 <= y and y < a:\n",
    "        return y**3\n",
    "    if a <=y and y < 2*a:\n",
    "        return a**2 * y\n",
    "    if 2*a <= y and y <=3*a:\n",
    "        return a*(3*a - y) * y"
   ]
  },
  {
   "cell_type": "code",
   "execution_count": 53,
   "metadata": {},
   "outputs": [],
   "source": [
    "miu = integrate.quad(mean_Y, 0, 3*a)[0]"
   ]
  },
  {
   "cell_type": "code",
   "execution_count": 54,
   "metadata": {},
   "outputs": [],
   "source": [
    "def var_Y(y):\n",
    "    if 0 <= y and y < a:\n",
    "        return y**2 * (y - miu) ** 2\n",
    "    if a <=y and y < 2*a:\n",
    "        return a**2 * (y - miu) ** 2\n",
    "    if 2*a <= y and y <=3*a:\n",
    "        return a*(3*a - y) * (y - miu) ** 2"
   ]
  },
  {
   "cell_type": "code",
   "execution_count": 55,
   "metadata": {},
   "outputs": [
    {
     "data": {
      "text/plain": [
       "0.23420600947710066"
      ]
     },
     "execution_count": 55,
     "metadata": {},
     "output_type": "execute_result"
    }
   ],
   "source": [
    "integrate.quad(var_Y, 0, 3*a)[0]"
   ]
  },
  {
   "cell_type": "markdown",
   "metadata": {},
   "source": [
    "## 3."
   ]
  },
  {
   "cell_type": "code",
   "execution_count": 84,
   "metadata": {},
   "outputs": [],
   "source": [
    "def plot_3_g_x():\n",
    "    x = np.linspace(0.01,2, 101)\n",
    "    y = ( x / (1-x)) ** 2\n",
    "    plt.plot(x, y)\n",
    "    plt.xlim(-0.5, 2.5);\n",
    "    plt.ylim(0, 20);\n",
    "    plt.xlabel('$x$');\n",
    "    plt.ylabel('$g(x)$');\n",
    "    plt.title('$y=g(x)$');\n",
    "    plt.show();"
   ]
  },
  {
   "cell_type": "code",
   "execution_count": 5,
   "metadata": {},
   "outputs": [],
   "source": [
    "def f_Y_y_3(y):\n",
    "    sqrt_y = y ** 0.5\n",
    "    if y < 0 :\n",
    "        return 0\n",
    "    if y < 4 and y >= 0:\n",
    "        return 1/4/sqrt_y /(1+sqrt_y)**2\n",
    "    return 1/4/sqrt_y * ( 1/(1+sqrt_y)**2 + 1/(sqrt_y-1)**2 ) "
   ]
  },
  {
   "cell_type": "code",
   "execution_count": 6,
   "metadata": {},
   "outputs": [],
   "source": [
    "def plot_3_f_Y():\n",
    "    y1 = np.linspace(0.001, 3.99, 200)\n",
    "    y2 = np.linspace(4.01, 20, 800)\n",
    "    yy1 = func_map(f_Y_y_3, y1)\n",
    "    yy2 = func_map(f_Y_y_3, y2)\n",
    "    plt.plot(y1, yy1, c='r')\n",
    "    plt.plot(y2, yy2, c='r')\n",
    "    plt.xlim(-1, 20);\n",
    "    plt.ylim(0, 0.5);\n",
    "    plt.xlabel('$y$');\n",
    "    plt.ylabel('$f_Y(y)$');\n",
    "    plt.title('$f_Y(y)$');\n",
    "    plt.show();"
   ]
  },
  {
   "cell_type": "markdown",
   "metadata": {},
   "source": [
    "## 4."
   ]
  },
  {
   "cell_type": "markdown",
   "metadata": {},
   "source": [
    "## 5."
   ]
  },
  {
   "cell_type": "code",
   "execution_count": 200,
   "metadata": {},
   "outputs": [],
   "source": [
    "def g_x_5(x):\n",
    "    if x > 0 and x <= 1:\n",
    "        return 2*x / (1 - 2*x)\n",
    "    else:\n",
    "        return 0"
   ]
  },
  {
   "cell_type": "code",
   "execution_count": 163,
   "metadata": {},
   "outputs": [],
   "source": [
    "def plot_5_g_x():\n",
    "    x_l = np.linspace(0, 0.499, 200)\n",
    "    y_l = np.array(list(map(lambda x:g_x_5(x), x_l)))\n",
    "    x_r = np.linspace(0.501, 1, 200)\n",
    "    y_r = np.array(list(map(lambda x:g_x_5(x), x_r)))\n",
    "    plt.plot(x_l, y_l, c='r')\n",
    "    plt.plot(x_r, y_r, c='r')\n",
    "    plt.xlim(-0.1, 1.1);\n",
    "    plt.ylim(-20, 20);\n",
    "    plt.xlabel('$x$');\n",
    "    plt.ylabel('$y=g(x)$');\n",
    "    plt.title('plot of $y=g(x)$');"
   ]
  },
  {
   "cell_type": "code",
   "execution_count": 166,
   "metadata": {},
   "outputs": [],
   "source": [
    "def f_Y_5(y):\n",
    "    if y < 0 and y > -2:\n",
    "        return 0\n",
    "    return 1 / (2 * (1 + y) ** 2)"
   ]
  },
  {
   "cell_type": "code",
   "execution_count": 169,
   "metadata": {},
   "outputs": [],
   "source": [
    "def plot_5_f_Y():\n",
    "    y1 = np.linspace(-10, -2.001, 200)\n",
    "    y2 = np.linspace(0.001, 10, 200)\n",
    "    yy1 = np.array(list(map(lambda x: f_Y_5(x), y1)))\n",
    "    yy2 = np.array(list(map(lambda x: f_Y_5(x), y2)))\n",
    "    plt.plot(y1, yy1, c='r')\n",
    "    plt.plot(y2, yy2, c='r')\n",
    "    plt.plot([-2, 0], [0, 0], c='r')\n",
    "#     plt.ylim(0, 10);\n",
    "    plt.xlabel('$y$');\n",
    "    plt.ylabel('$f_Y(y)$');\n",
    "    plt.title('plot of $f_Y(y)$');\n",
    "    plt.show();"
   ]
  },
  {
   "cell_type": "markdown",
   "metadata": {},
   "source": [
    "## 6."
   ]
  },
  {
   "cell_type": "code",
   "execution_count": 182,
   "metadata": {},
   "outputs": [],
   "source": [
    "def f_X_x_6(x):\n",
    "    return 1/2 * np.sin(x)"
   ]
  },
  {
   "cell_type": "code",
   "execution_count": 183,
   "metadata": {},
   "outputs": [],
   "source": [
    "def mean_X_6(x):\n",
    "    return x * f_X_x_6(x)"
   ]
  },
  {
   "cell_type": "code",
   "execution_count": 184,
   "metadata": {},
   "outputs": [],
   "source": [
    "def var_X_6(x):\n",
    "    return (x - np.pi/2)**2 * f_X_x_6(x)"
   ]
  },
  {
   "cell_type": "code",
   "execution_count": 185,
   "metadata": {},
   "outputs": [
    {
     "data": {
      "text/plain": [
       "(0.4674011002723396, 5.1891946325748295e-15)"
      ]
     },
     "execution_count": 185,
     "metadata": {},
     "output_type": "execute_result"
    }
   ],
   "source": [
    "integrate.quad(var_X_6, 0, np.pi)"
   ]
  },
  {
   "cell_type": "code",
   "execution_count": 192,
   "metadata": {},
   "outputs": [
    {
     "data": {
      "text/plain": [
       "2.4674011002723395"
      ]
     },
     "execution_count": 192,
     "metadata": {},
     "output_type": "execute_result"
    }
   ],
   "source": [
    "np.pi**2 / 4"
   ]
  },
  {
   "cell_type": "code",
   "execution_count": null,
   "metadata": {},
   "outputs": [],
   "source": []
  }
 ],
 "metadata": {
  "kernelspec": {
   "display_name": "Python 3",
   "language": "python",
   "name": "python3"
  },
  "language_info": {
   "codemirror_mode": {
    "name": "ipython",
    "version": 3
   },
   "file_extension": ".py",
   "mimetype": "text/x-python",
   "name": "python",
   "nbconvert_exporter": "python",
   "pygments_lexer": "ipython3",
   "version": "3.7.4"
  }
 },
 "nbformat": 4,
 "nbformat_minor": 2
}
