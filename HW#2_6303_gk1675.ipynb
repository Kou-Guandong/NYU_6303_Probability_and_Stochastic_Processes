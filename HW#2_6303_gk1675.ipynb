{
 "cells": [
  {
   "cell_type": "markdown",
   "metadata": {},
   "source": [
    "<center style=\"margin-top:80px\">\n",
    "    <h3>ECE-GY 6303 Homework#2 gk1675 (Guandong Kou)</h3>\n",
    "</center>"
   ]
  },
  {
   "cell_type": "markdown",
   "metadata": {},
   "source": [
    "---"
   ]
  },
  {
   "cell_type": "markdown",
   "metadata": {},
   "source": [
    "# Problem 1\n",
    "## (a)"
   ]
  },
  {
   "cell_type": "markdown",
   "metadata": {},
   "source": [
    "Define $T_R$: Transferred ball is red  \n",
    "Define $T_G$: Transferred ball is green  \n",
    "Define $T_W$: Transferred ball is white  \n",
    "\n",
    "|   |   $ T_R $   |    $ T_G $    |    $ T_W $   |\n",
    "| --| -- | -- | -- |\n",
    "| $P$ | 0.3 | 0.5 | 0.2 |\n"
   ]
  },
  {
   "cell_type": "markdown",
   "metadata": {},
   "source": [
    "Define A: a ball drawn at random from Box 2 is green\n",
    "\n",
    "\n",
    "|   |   $$ A|T_R $$   |    $$ A|T_G $$    |    $$ A|T_W $$   |\n",
    "| --| -- | -- | -- |\n",
    "| $P$ | 0.3  | 0.4  | 0.3  |\n",
    "\n",
    "With the Law of Total Probability,  \n",
    "$$ P(A) = \\sum_{i \\in \\{R, G, W\\} }P(A|T_i) = 0.3 \\times 0.3 + 0.5 \\times 0.4 + 0.2 \\times 0.3 = 0.23  $$   "
   ]
  },
  {
   "cell_type": "markdown",
   "metadata": {},
   "source": [
    "## (b)\n",
    "\n",
    "Define B: a ball drawn at random from Box 1 is white,   \n",
    "then $\\overline{B}$ denotes a ball drawn at random from Box 1 is not white    \n",
    "\n",
    "\n",
    "|   |   $ B|T_R $   |    $ B|T_G $    |    $ B|T_W $   |\n",
    "| --| -- | -- | -- |\n",
    "| $P$ | $$\\frac{2}{9}$$ | $$\\frac{2}{9}$$ | $$\\frac{1}{9}$$ |\n",
    "\n",
    "With the Law of Total Probability,  \n",
    "$$ P(B) = \\sum_{i \\in \\{R, G, W\\} }P(A|T_i) = 0.3 \\times \\frac{2}{9} + 0.5 \\times \\frac{2}{9} + 0.2 \\times \\frac{1}{9} = 0.2  $$\n",
    "\n",
    "$$ P(\\overline{B}) = 1 - P(B) = 0.8 $$ \n"
   ]
  },
  {
   "cell_type": "markdown",
   "metadata": {},
   "source": [
    "---"
   ]
  },
  {
   "cell_type": "markdown",
   "metadata": {},
   "source": [
    "# Problem 2\n",
    "## (a)\n",
    "\n",
    "Define A: marble drawn is black.  \n",
    "\n",
    "$$ P(A) = P(A|B_1)P(B_1) + P(A|B_2)P(B_2) = \\frac{75}{75+125} \\times 0.5 + \\frac{90}{60+90} \\times 0.5 = 0.4875  $$"
   ]
  },
  {
   "cell_type": "markdown",
   "metadata": {},
   "source": [
    "## (b)\n",
    "$$ P(B_2|A) = \\frac{P(AB_2)}{P(A)} = \\frac{P(A|B_2)P(B_2)}{P(A)} = \\frac{\\frac{90}{60+90} \\times 0.5}{0.4875} = 0.6154 $$  \n",
    "\n",
    "---"
   ]
  },
  {
   "cell_type": "markdown",
   "metadata": {},
   "source": [
    "# Problem 3\n",
    "## (a)\n",
    "Let $ f(k) $ denotes he probability of getting $k$ heads in $n$ tosses:   \n",
    "$$ f(k) = {n \\choose k} p^k q^{n-k} = \\frac{n!}{(n-k)!k!} p^k q^{n-k} $$   \n",
    "then,   \n",
    "$$ f(k-1) = {n \\choose {k-1}} p^{k-1} q^{n-k+1} = \\frac{n!}{(n-k+1)!(k-1)!} p^{k-1} q^{n-k+1} $$  \n",
    "$$ f(k+1) = {n \\choose {k+1}} p^{k+1} q^{n-k-1} = \\frac{n!}{(n-k-1)!(k+1)!} p^{k+1} q^{n-k-1} $$   "
   ]
  },
  {
   "cell_type": "markdown",
   "metadata": {},
   "source": [
    "If the most likely number of $k$ is $k_0$, i.e. $f(k_0)$ has maximum value, $ \\forall k \\in \\{1,2,3,...n\\} $,   \n",
    "then,       \n",
    "\n",
    "$$\n",
    "\\frac{f(k)}{f(k-1)} = \\frac{(n-k+1)p}{kq} \\geq 1    \\tag{3-1}\n",
    "$$\n",
    "\n",
    "$$\n",
    "\\frac{f(k)}{f(k+1)} = \\frac{(k+1)q}{(n-k)p} \\geq 1   \\tag{3-2}\n",
    "$$\n",
    "\n",
    "From $(3-1), k \\leq (n+1)p $,    \n",
    "From $(3-2), k \\geq (n+1)p-1 $,    \n",
    "Thus,\n",
    "$$\n",
    " (n+1)p-1 \\leq k_0 \\leq (n+1)p\n",
    "$$\n",
    "Take limit on both sides,   \n",
    "$$\n",
    "p = \\lim_{n\\to \\infty} \\frac{(n+1)p-1}{n} \\leq \\lim_{n\\to \\infty} \\frac{k_0}{n} \\leq \\lim_{n \\to \\infty} \\frac{(n+1)p}{n} = p\n",
    "$$\n",
    "hence,  \n",
    "$$ \\frac{k_0}{n} \\to p $$ \n",
    "$$\n",
    "q.e.d. \n",
    "$$"
   ]
  },
  {
   "cell_type": "markdown",
   "metadata": {},
   "source": [
    "## (b)"
   ]
  },
  {
   "cell_type": "markdown",
   "metadata": {},
   "source": [
    "### (i)\n",
    "Define $A_k$: a given page contains $k$ misprints.   \n",
    "The probability of each one specific misprint occurred in a given page: \n",
    "$$ p = \\frac{1}{200} = 0.005  $$\n",
    "Then, \n",
    "$$\n",
    "P(A_k) = {n \\choose k}p^k (1-p)^{n-k}  \\tag{3-1}\n",
    "$$\n",
    "Insert $ n=20, k=2, p=0.1 $ into equation (3-1)  \n",
    "$$\n",
    "P(A_2) = {20 \\choose 2}\\cdot 0.005^2 \\cdot 0.995^{(20-2)} = 0.00434\n",
    "$$"
   ]
  },
  {
   "attachments": {},
   "cell_type": "markdown",
   "metadata": {},
   "source": [
    "P.S.   \n",
    "Since $np=20\\times0.005=0.1$ and $\\sqrt{npq}=\\sqrt{20\\times0.005\\times0.995}=0.315$, $k=2$ is not in the interval $(np-\\sqrt{npq}, np+\\sqrt{npq})$, the binomial function cannot be approximated with Normal Approximation.    \n",
    "Similarly, since $np=20\\times0.005=0.1 \\lt 1$, the binomial function cannot be approximated with Poisson Approximation.    "
   ]
  },
  {
   "cell_type": "markdown",
   "metadata": {},
   "source": [
    "### (ii)\n",
    "Define B: two or less misprints in a given page.   \n",
    "Insert $ n=20, k=0, p=0.1 $ into equation (3-1),   \n",
    "$$\n",
    "P(A_0) = {20 \\choose 0}\\cdot 0.005^0 \\cdot 0.995^{(20-0)} = 0.90461\n",
    "$$\n",
    "Insert $ n=20, k=1, p=0.1 $ into equation (3-1),   \n",
    "$$\n",
    "P(A_1) = {20 \\choose 1}\\cdot 0.005^1 \\cdot 0.995^{(20-1)} = 0.09092\n",
    "$$\n",
    "Since $ B=A_0 \\cup A_1 \\cup A_2 $,  \n",
    "$$ P(B) = P(A_0) + P(A_1) + P(A_2) = 0.90461 + 0.09092 + 0.00434 = 0.99987  $$"
   ]
  },
  {
   "cell_type": "markdown",
   "metadata": {},
   "source": [
    "### (iii)\n",
    "Define C: two or more misprints in a given page.   \n",
    "$ C = \\overline{A_0 \\cup A_1} $,  \n",
    "Thus, \n",
    "$$\n",
    "P(C) = 1 - P(A_0 \\cup A_1) = 1 - 0.90461 - 0.09092 = 0.00447\n",
    "$$\n"
   ]
  },
  {
   "cell_type": "markdown",
   "metadata": {},
   "source": [
    "---"
   ]
  },
  {
   "cell_type": "markdown",
   "metadata": {},
   "source": [
    "# Problem 4\n",
    "## (a)"
   ]
  },
  {
   "cell_type": "markdown",
   "metadata": {},
   "source": [
    "Define $A$: a single microprocessor is defective  \n",
    "Let $p$ denote $P(A)$     \n",
    "Define $B_n$: among the entire lot of 10 microprocessors, $n$ of them are defective.  \n",
    "Define C: a lot is rejected (among the entire lot of 10 microprocessors, 2 or more of them are defective).   \n",
    "Then,   \n",
    "$$ C = \\bigcup_{i=2}^{10} B_i = \\overline{B_0 \\cup B_1}  $$  "
   ]
  },
  {
   "cell_type": "markdown",
   "metadata": {},
   "source": [
    "$$\n",
    "P(X=x) = {n \\choose x} p^x (1-p)^{n-x}\n",
    "$$ \n",
    "\n",
    "$$\n",
    "P(B_0) = {10 \\choose 0} \\cdot 0.001^0 \\cdot 0.999^10 = 0.99004\n",
    "$$ \n",
    "\n",
    "$$\n",
    "P(B_1) = {10 \\choose 1} \\cdot 0.001^1 \\cdot 0.999^9 = 0.00099\n",
    "$$ \n",
    "\n",
    "$$\n",
    "P(C) = 1 - P(B_0 \\cup B_1) = 1 - P(B_0) - P(B_1) = 1 - 0.99004 - 0.00099 = 0.00897\n",
    "$$"
   ]
  },
  {
   "cell_type": "markdown",
   "metadata": {},
   "source": [
    "## (b)\n",
    "Based on (a), $\\overline{C}$ denotes that the entire lot of 10 microprocessors are retained.    \n",
    "Define D: all the 60 microprocessors are retained with 6 draws.   \n",
    "\n",
    "$$\n",
    "P(D) = P(\\overline{C})^6 = (1-0.00897)^6 = 0.947\n",
    "$$"
   ]
  },
  {
   "cell_type": "markdown",
   "metadata": {},
   "source": [
    "---"
   ]
  },
  {
   "cell_type": "markdown",
   "metadata": {},
   "source": [
    "# Problem 5\n",
    "## (a)\n",
    "### (i)\n",
    "\n",
    "\n",
    "$$\n",
    "P(X^2 > 1) = P(X<-1 \\cup X>1) = P(X<-1) +P(X>1) = \\frac{1}{7} \\cdot ((-1 - (-2)) + (5-1)) = \\frac{5}{7}\n",
    "$$\n",
    "\n"
   ]
  },
  {
   "cell_type": "markdown",
   "metadata": {},
   "source": [
    "### (ii)\n",
    "$ sin(\\pi X) \\leq 0 \\Rightarrow  \\pi X \\in [(2k-1)\\pi, 2k\\pi], k \\in Z \\Rightarrow X \\in [(2k-1), 2k], k \\in Z $   \n",
    "As for the interval of $[-2, 5]$,   \n",
    "$ x \\in [-1,0]\\cup[1,2]\\cup[3,4]  $    \n",
    "Thus,   \n",
    "$$\n",
    "P(sin(\\pi X) \\leq 0) = ( (0-(-1)) + (2-1) + (4-3) ) \\cdot \\frac{1}{7} = \\frac{3}{7}\n",
    "$$\n"
   ]
  },
  {
   "cell_type": "markdown",
   "metadata": {},
   "source": [
    "## (b)\n",
    "### (i)\n",
    "\n",
    "Define $A_k$: there are $k$ red balls in the bag.   \n",
    "Then,   \n",
    "$$\n",
    "P(A_k) = {25 \\choose k} (\\frac{1}{5})^k (\\frac{4}{5})^{25-k}\n",
    "$$"
   ]
  },
  {
   "cell_type": "markdown",
   "metadata": {},
   "source": [
    "\n",
    "$$\n",
    "P(R=u) = \\sum_{k=u}^{k=25}{P(R=u|A_k)P(A_k)} = \\sum_{k=u}^{k=25}\n",
    "\\frac{{k \\choose u} \\cdot (\\frac{k}{25})^u \\cdot (1-\\frac{k}{25})^{4-u} }{{25}\\choose 4} {25 \\choose k} (\\frac{1}{5})^k (\\frac{4}{5})^{25-k}  \\tag{4-1}\n",
    "$$\n",
    "\n",
    "Insert $u={0,1,2,3,4}$ into $(4-1)$ respectively, to obtain the probability mass function (PMF) of $R$   \n",
    "\n",
    "$$\n",
    "P(R=u) = \n",
    "\\begin{cases} \n",
    "    0.4096 & u = 0 \\\\\n",
    "    0.4096 & u = 1 \\\\\n",
    "    0.1536 & u = 2 \\\\\n",
    "    0.0256 & u = 3 \\\\\n",
    "    0.0016 & u = 4 \\\\\n",
    "\\end{cases}\n",
    "$$"
   ]
  },
  {
   "cell_type": "markdown",
   "metadata": {},
   "source": [
    "### (ii)\n",
    "The probability that the draw contained no red pieces is $ P(R=0) = 0.0016 $"
   ]
  },
  {
   "cell_type": "markdown",
   "metadata": {},
   "source": [
    "*P.S.*  \n",
    "Python Code for calculation of PMF for problem 5(b) is attached below."
   ]
  },
  {
   "cell_type": "code",
   "execution_count": 1,
   "metadata": {},
   "outputs": [
    {
     "data": {
      "text/html": [
       "<style>\n",
       ".text_cell_render {\n",
       "    line-height: 2.5;\n",
       "}\n",
       "</style>\n"
      ],
      "text/plain": [
       "<IPython.core.display.HTML object>"
      ]
     },
     "metadata": {},
     "output_type": "display_data"
    }
   ],
   "source": [
    "run utils.ipynb"
   ]
  },
  {
   "cell_type": "code",
   "execution_count": 2,
   "metadata": {},
   "outputs": [],
   "source": [
    "def P_A_k(n, k):\n",
    "    p = 1/5\n",
    "    q = 1 - p\n",
    "    return comb(n, k) * p**k * q**(n-k)\n",
    "\n",
    "def P_prod(n, u, k):\n",
    "    if u > k:\n",
    "        return 0\n",
    "    n_choose = 4\n",
    "    return comb(k, u) * comb(n-k, n_choose - u) / comb(n, n_choose) * P_A_k(n, k)"
   ]
  },
  {
   "cell_type": "code",
   "execution_count": 3,
   "metadata": {},
   "outputs": [],
   "source": [
    "n = 25\n",
    "u_max = 4\n",
    "P_res = np.zeros((u_max+1))"
   ]
  },
  {
   "cell_type": "code",
   "execution_count": 4,
   "metadata": {},
   "outputs": [],
   "source": [
    "for u in range(5):\n",
    "    P_res[u] = sum([P_prod(n, u, k) for k in range(u, n+1)])"
   ]
  },
  {
   "cell_type": "markdown",
   "metadata": {},
   "source": [
    "---"
   ]
  }
 ],
 "metadata": {
  "kernelspec": {
   "display_name": "Python 3",
   "language": "python",
   "name": "python3"
  },
  "language_info": {
   "codemirror_mode": {
    "name": "ipython",
    "version": 3
   },
   "file_extension": ".py",
   "mimetype": "text/x-python",
   "name": "python",
   "nbconvert_exporter": "python",
   "pygments_lexer": "ipython3",
   "version": "3.7.4"
  }
 },
 "nbformat": 4,
 "nbformat_minor": 2
}
