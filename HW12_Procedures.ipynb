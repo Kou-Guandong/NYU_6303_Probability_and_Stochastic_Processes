{
 "cells": [
  {
   "cell_type": "code",
   "execution_count": 1,
   "metadata": {},
   "outputs": [],
   "source": [
    "from sympy import *"
   ]
  },
  {
   "cell_type": "code",
   "execution_count": 29,
   "metadata": {},
   "outputs": [],
   "source": [
    "a, t, p, w, sa, ss, sn, s, n = symbols('a t p w sa ss sn s n')"
   ]
  },
  {
   "cell_type": "code",
   "execution_count": 15,
   "metadata": {},
   "outputs": [
    {
     "data": {
      "text/latex": [
       "$\\displaystyle \\begin{cases} \\frac{w^{2} \\sin{\\left(p \\right)} - w^{2} \\cos{\\left(p \\right)} + 2 \\sin{\\left(p \\right)} + 2 \\cos{\\left(p \\right)}}{w^{4} + 4} & \\text{for}\\: 4 \\left|{\\arg{\\left(w \\right)}}\\right| = 0 \\\\\\int\\limits_{0}^{\\infty} e^{- t} \\sin{\\left(p + t \\right)} \\cos{\\left(t w \\right)}\\, dt & \\text{otherwise} \\end{cases}$"
      ],
      "text/plain": [
       "Piecewise(((w**2*sin(p) - w**2*cos(p) + 2*sin(p) + 2*cos(p))/(w**4 + 4), Eq(4*Abs(arg(w)), 0)), (Integral(exp(-t)*sin(p + t)*cos(t*w), (t, 0, oo)), True))"
      ]
     },
     "execution_count": 15,
     "metadata": {},
     "output_type": "execute_result"
    }
   ],
   "source": [
    "simplify(integrate(exp(-t)*sin(t+p)*cos(w*t), (t,0, +oo)))"
   ]
  },
  {
   "cell_type": "code",
   "execution_count": 14,
   "metadata": {},
   "outputs": [
    {
     "data": {
      "text/latex": [
       "$\\displaystyle \\begin{cases} \\frac{\\left(i w + 1\\right) \\sin{\\left(p \\right)} + \\cos{\\left(p \\right)}}{\\left(i w + 1\\right)^{2} + 1} & \\text{for}\\: 2 \\left|{\\arg{\\left(- w e^{- \\frac{i \\pi}{2}} + 1 \\right)}}\\right| < \\pi \\\\\\int\\limits_{0}^{\\infty} e^{- t \\left(i w + 1\\right)} \\sin{\\left(p + t \\right)}\\, dt & \\text{otherwise} \\end{cases}$"
      ],
      "text/plain": [
       "Piecewise((((I*w + 1)*sin(p) + cos(p))/((I*w + 1)**2 + 1), 2*Abs(arg(-w*exp_polar(-I*pi/2) + 1)) < pi), (Integral(exp(-t*(I*w + 1))*sin(p + t), (t, 0, oo)), True))"
      ]
     },
     "execution_count": 14,
     "metadata": {},
     "output_type": "execute_result"
    }
   ],
   "source": [
    "simplify(integrate(exp(-t)*sin(t+p)*exp(-I*w*t), (t,0, +oo)))"
   ]
  },
  {
   "cell_type": "code",
   "execution_count": 27,
   "metadata": {
    "scrolled": true
   },
   "outputs": [
    {
     "data": {
      "text/latex": [
       "$\\displaystyle \\begin{cases} \\frac{\\sqrt{\\pi} e^{- \\frac{w^{2}}{4 a}}}{2 \\sqrt{a}} & \\text{for}\\: \\left(2 \\left|{\\arg{\\left(w \\right)}}\\right| = 0 \\wedge \\left|{\\arg{\\left(a \\right)}}\\right| < \\frac{\\pi}{2}\\right) \\vee \\left|{\\arg{\\left(a \\right)}}\\right| < \\frac{\\pi}{2} \\\\\\int\\limits_{0}^{\\infty} e^{- a t^{2}} \\cos{\\left(t w \\right)}\\, dt & \\text{otherwise} \\end{cases}$"
      ],
      "text/plain": [
       "Piecewise((sqrt(pi)*exp(-w**2/(4*a))/(2*sqrt(a)), (Abs(arg(a)) < pi/2) | (Eq(2*Abs(arg(w)), 0) & (Abs(arg(a)) < pi/2))), (Integral(exp(-a*t**2)*cos(t*w), (t, 0, oo)), True))"
      ]
     },
     "execution_count": 27,
     "metadata": {},
     "output_type": "execute_result"
    }
   ],
   "source": [
    "integrate(exp(-a*t**2) * cos(w*t), (t, 0 ,+oo))"
   ]
  },
  {
   "cell_type": "code",
   "execution_count": 28,
   "metadata": {},
   "outputs": [
    {
     "data": {
      "text/latex": [
       "$\\displaystyle \\frac{\\sqrt{\\pi} \\operatorname{erfi}{\\left(t \\right)}}{2}$"
      ],
      "text/plain": [
       "sqrt(pi)*erfi(t)/2"
      ]
     },
     "execution_count": 28,
     "metadata": {},
     "output_type": "execute_result"
    }
   ],
   "source": [
    "integrate(exp(t**2), t)"
   ]
  },
  {
   "cell_type": "code",
   "execution_count": 31,
   "metadata": {},
   "outputs": [],
   "source": [
    "res = ((sa**2 * ss**2 + sn**2)*(s+n) -sn**2 *(a*s + n) - s)**2"
   ]
  },
  {
   "cell_type": "code",
   "execution_count": 32,
   "metadata": {},
   "outputs": [
    {
     "data": {
      "text/latex": [
       "$\\displaystyle \\left(- s - sn^{2} \\left(a s + n\\right) + \\left(n + s\\right) \\left(sa^{2} ss^{2} + sn^{2}\\right)\\right)^{2}$"
      ],
      "text/plain": [
       "(-s - sn**2*(a*s + n) + (n + s)*(sa**2*ss**2 + sn**2))**2"
      ]
     },
     "execution_count": 32,
     "metadata": {},
     "output_type": "execute_result"
    }
   ],
   "source": [
    "res"
   ]
  },
  {
   "cell_type": "code",
   "execution_count": null,
   "metadata": {},
   "outputs": [],
   "source": []
  }
 ],
 "metadata": {
  "kernelspec": {
   "display_name": "Python 3",
   "language": "python",
   "name": "python3"
  },
  "language_info": {
   "codemirror_mode": {
    "name": "ipython",
    "version": 3
   },
   "file_extension": ".py",
   "mimetype": "text/x-python",
   "name": "python",
   "nbconvert_exporter": "python",
   "pygments_lexer": "ipython3",
   "version": "3.7.4"
  }
 },
 "nbformat": 4,
 "nbformat_minor": 2
}
