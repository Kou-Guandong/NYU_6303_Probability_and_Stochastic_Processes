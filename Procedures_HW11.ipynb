{
 "cells": [
  {
   "cell_type": "code",
   "execution_count": 1,
   "metadata": {},
   "outputs": [],
   "source": [
    "from sympy import *"
   ]
  },
  {
   "cell_type": "code",
   "execution_count": 2,
   "metadata": {},
   "outputs": [],
   "source": [
    "x,y,t,w = symbols('x y t w')"
   ]
  },
  {
   "cell_type": "code",
   "execution_count": 3,
   "metadata": {},
   "outputs": [
    {
     "data": {
      "text/latex": [
       "$\\displaystyle \\begin{cases} \\frac{2 \\sin{\\left(\\frac{t w}{2} \\right)}}{w} & \\text{for}\\: w > -\\infty \\wedge w < \\infty \\wedge w \\neq 0 \\\\t & \\text{otherwise} \\end{cases}$"
      ],
      "text/plain": [
       "Piecewise((2*sin(t*w/2)/w, (w > -oo) & (w < oo) & Ne(w, 0)), (t, True))"
      ]
     },
     "execution_count": 3,
     "metadata": {},
     "output_type": "execute_result"
    }
   ],
   "source": [
    "simplify(integrate(1 * exp(I*w*x), (x,-t/2, t/2)))"
   ]
  },
  {
   "cell_type": "code",
   "execution_count": 12,
   "metadata": {},
   "outputs": [
    {
     "data": {
      "text/latex": [
       "$\\displaystyle \\frac{i \\left(\\operatorname{Ei}{\\left(- \\pi t e^{- \\frac{i \\pi}{2}} \\operatorname{polar\\_lift}{\\left(\\frac{t - 1}{t} \\right)} \\right)} - \\operatorname{Ei}{\\left(\\pi t e^{- \\frac{i \\pi}{2}} \\operatorname{polar\\_lift}{\\left(\\frac{t - 1}{t} \\right)} \\right)} - \\operatorname{Ei}{\\left(- \\pi t e^{- \\frac{i \\pi}{2}} \\operatorname{polar\\_lift}{\\left(\\frac{t + 1}{t} \\right)} \\right)} + \\operatorname{Ei}{\\left(\\pi t e^{- \\frac{i \\pi}{2}} \\operatorname{polar\\_lift}{\\left(\\frac{t + 1}{t} \\right)} \\right)}\\right)}{2}$"
      ],
      "text/plain": [
       "I*(Ei(-pi*t*exp_polar(-I*pi/2)*polar_lift((t - 1)/t)) - Ei(pi*t*exp_polar(-I*pi/2)*polar_lift((t - 1)/t)) - Ei(-pi*t*exp_polar(-I*pi/2)*polar_lift((t + 1)/t)) + Ei(pi*t*exp_polar(-I*pi/2)*polar_lift((t + 1)/t)))/2"
      ]
     },
     "execution_count": 12,
     "metadata": {},
     "output_type": "execute_result"
    }
   ],
   "source": [
    "simplify(integrate(sin(x)/x * exp(-I*x*t), (x,-pi, pi)))"
   ]
  },
  {
   "cell_type": "code",
   "execution_count": 6,
   "metadata": {},
   "outputs": [
    {
     "data": {
      "text/latex": [
       "$\\displaystyle \\begin{cases} \\begin{cases} - \\frac{\\pi t}{\\sqrt{t^{2}}} + \\pi & \\text{for}\\: \\left|{t^{2}}\\right| > 1 \\\\\\pi & \\text{otherwise} \\end{cases} & \\text{for}\\: \\left|{2 \\arg{\\left(t \\right)} - \\pi}\\right| \\leq \\pi \\wedge \\left|{2 \\arg{\\left(t \\right)} + \\pi}\\right| \\leq \\pi \\\\\\int\\limits_{-\\infty}^{\\infty} \\frac{e^{- i t x} \\sin{\\left(x \\right)}}{x}\\, dx & \\text{otherwise} \\end{cases}$"
      ],
      "text/plain": [
       "Piecewise((Piecewise((-pi*t/sqrt(t**2) + pi, Abs(t**2) > 1), (pi, True)), (Abs(2*arg(t) + pi) <= pi) & (Abs(2*arg(t) - pi) <= pi)), (Integral(exp(-I*t*x)*sin(x)/x, (x, -oo, oo)), True))"
      ]
     },
     "execution_count": 6,
     "metadata": {},
     "output_type": "execute_result"
    }
   ],
   "source": [
    "simplify(integrate(sin(x)/x * exp(-I*x*t), (x,-oo, +oo)))"
   ]
  },
  {
   "cell_type": "code",
   "execution_count": 7,
   "metadata": {},
   "outputs": [
    {
     "data": {
      "text/latex": [
       "$\\displaystyle \\begin{cases} \\begin{cases} - \\frac{\\pi t}{2} + \\frac{\\pi}{t \\sqrt{\\frac{1}{t^{2}}}} & \\text{for}\\: 4 \\left|{\\frac{1}{t^{2}}}\\right| > 1 \\\\0 & \\text{otherwise} \\end{cases} & \\text{for}\\: t > 0 \\\\\\int\\limits_{-\\infty}^{\\infty} \\frac{e^{- i t x} \\sin^{2}{\\left(x \\right)}}{x^{2}}\\, dx & \\text{otherwise} \\end{cases}$"
      ],
      "text/plain": [
       "Piecewise((Piecewise((-pi*t/2 + pi/(t*sqrt(t**(-2))), 4*Abs(t**(-2)) > 1), (0, True)), t > 0), (Integral(exp(-I*t*x)*sin(x)**2/x**2, (x, -oo, oo)), True))"
      ]
     },
     "execution_count": 7,
     "metadata": {},
     "output_type": "execute_result"
    }
   ],
   "source": [
    "simplify(integrate((sin(x)/x)**2 * exp(-I*x*t), (x,-oo, +oo)))"
   ]
  },
  {
   "cell_type": "code",
   "execution_count": null,
   "metadata": {},
   "outputs": [],
   "source": []
  },
  {
   "cell_type": "code",
   "execution_count": null,
   "metadata": {},
   "outputs": [],
   "source": []
  }
 ],
 "metadata": {
  "kernelspec": {
   "display_name": "Python 3",
   "language": "python",
   "name": "python3"
  },
  "language_info": {
   "codemirror_mode": {
    "name": "ipython",
    "version": 3
   },
   "file_extension": ".py",
   "mimetype": "text/x-python",
   "name": "python",
   "nbconvert_exporter": "python",
   "pygments_lexer": "ipython3",
   "version": "3.7.4"
  }
 },
 "nbformat": 4,
 "nbformat_minor": 2
}
