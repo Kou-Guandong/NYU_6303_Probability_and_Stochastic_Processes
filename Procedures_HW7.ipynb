{
 "cells": [
  {
   "cell_type": "code",
   "execution_count": 1,
   "metadata": {},
   "outputs": [],
   "source": [
    "from sympy import *"
   ]
  },
  {
   "cell_type": "code",
   "execution_count": 2,
   "metadata": {},
   "outputs": [],
   "source": [
    "x, y, z, p, q, r, w, z = symbols('x y z p q r w z')"
   ]
  },
  {
   "cell_type": "markdown",
   "metadata": {},
   "source": [
    "# Problem 1"
   ]
  },
  {
   "cell_type": "code",
   "execution_count": 51,
   "metadata": {},
   "outputs": [
    {
     "data": {
      "text/latex": [
       "$\\displaystyle - \\frac{x \\left(1 - x\\right)^{2}}{x^{2} - 1} + \\frac{5 x}{9} - \\frac{2 \\left(1 - x\\right)^{3}}{3 x^{2} - 3}$"
      ],
      "text/plain": [
       "-x*(1 - x)**2/(x**2 - 1) + 5*x/9 - 2*(1 - x)**3/(3*x**2 - 3)"
      ]
     },
     "execution_count": 51,
     "metadata": {},
     "output_type": "execute_result"
    }
   ],
   "source": [
    "integrate(2*y*(x+y)/(3*x*x), (y,0,x)) + integrate(2*y*(x+y)/(1-x*x), (y,0,1-x)) "
   ]
  },
  {
   "cell_type": "code",
   "execution_count": 52,
   "metadata": {},
   "outputs": [
    {
     "name": "stdout",
     "output_type": "stream",
     "text": [
      "\\frac{2 \\left(x^{2} + x + 3\\right)}{9 \\left(x + 1\\right)}\n"
     ]
    }
   ],
   "source": [
    "print(latex(simplify(_)))"
   ]
  },
  {
   "cell_type": "markdown",
   "metadata": {},
   "source": [
    "## 1b"
   ]
  },
  {
   "cell_type": "code",
   "execution_count": 55,
   "metadata": {},
   "outputs": [
    {
     "data": {
      "text/latex": [
       "$\\displaystyle \\frac{3 \\left(2 - y\\right)^{2}}{2}$"
      ],
      "text/plain": [
       "3*(2 - y)**2/2"
      ]
     },
     "execution_count": 55,
     "metadata": {},
     "output_type": "execute_result"
    }
   ],
   "source": [
    "integrate(3*x, (x, 0, 2-y))"
   ]
  },
  {
   "cell_type": "code",
   "execution_count": 49,
   "metadata": {},
   "outputs": [
    {
     "data": {
      "text/latex": [
       "$\\displaystyle \\frac{2 \\left(2 - y\\right)^{3}}{3 y^{2} - 12 y + 12} - \\frac{2}{3 y^{2} - 12 y + 12}$"
      ],
      "text/plain": [
       "2*(2 - y)**3/(3*y**2 - 12*y + 12) - 2/(3*y**2 - 12*y + 12)"
      ]
     },
     "execution_count": 49,
     "metadata": {},
     "output_type": "execute_result"
    }
   ],
   "source": [
    "integrate(2*x*x / (y-2)**2, (x,1,2-y))"
   ]
  },
  {
   "cell_type": "code",
   "execution_count": 50,
   "metadata": {},
   "outputs": [
    {
     "name": "stdout",
     "output_type": "stream",
     "text": [
      "- \\frac{2 \\left(y - 2\\right)^{3} + 2}{3 y^{2} - 12 y + 12}\n"
     ]
    }
   ],
   "source": [
    "print(latex(simplify(_)))"
   ]
  },
  {
   "cell_type": "markdown",
   "metadata": {},
   "source": [
    "## 1c"
   ]
  },
  {
   "cell_type": "code",
   "execution_count": 32,
   "metadata": {},
   "outputs": [
    {
     "data": {
      "text/latex": [
       "$\\displaystyle 6 x \\left(1 - x\\right)$"
      ],
      "text/plain": [
       "6*x*(1 - x)"
      ]
     },
     "execution_count": 32,
     "metadata": {},
     "output_type": "execute_result"
    }
   ],
   "source": [
    "simplify(integrate(3*x, (y, x, 2-x))) # f_X(x)"
   ]
  },
  {
   "cell_type": "code",
   "execution_count": 33,
   "metadata": {},
   "outputs": [
    {
     "data": {
      "text/latex": [
       "$\\displaystyle \\frac{1}{2}$"
      ],
      "text/plain": [
       "1/2"
      ]
     },
     "execution_count": 33,
     "metadata": {},
     "output_type": "execute_result"
    }
   ],
   "source": [
    "integrate(_*x, (x, 0, 1)) # E(X)"
   ]
  },
  {
   "cell_type": "code",
   "execution_count": 36,
   "metadata": {},
   "outputs": [
    {
     "data": {
      "text/latex": [
       "$\\displaystyle 1$"
      ],
      "text/plain": [
       "1"
      ]
     },
     "execution_count": 36,
     "metadata": {},
     "output_type": "execute_result"
    }
   ],
   "source": [
    "simplify(integrate(y/(2*(1-x)), (y,x,2-x)))"
   ]
  },
  {
   "cell_type": "code",
   "execution_count": 44,
   "metadata": {},
   "outputs": [
    {
     "data": {
      "text/latex": [
       "$\\displaystyle \\frac{x^{3}}{6 x - 6} - \\frac{\\left(2 - x\\right)^{3}}{6 x - 6}$"
      ],
      "text/plain": [
       "x**3/(6*x - 6) - (2 - x)**3/(6*x - 6)"
      ]
     },
     "execution_count": 44,
     "metadata": {},
     "output_type": "execute_result"
    }
   ],
   "source": [
    "integrate(y**2/(2*(1-x)), (y,x,2-x)) # E(Y^2|X)"
   ]
  },
  {
   "cell_type": "code",
   "execution_count": 46,
   "metadata": {},
   "outputs": [
    {
     "data": {
      "text/latex": [
       "$\\displaystyle \\frac{10}{9}$"
      ],
      "text/plain": [
       "10/9"
      ]
     },
     "execution_count": 46,
     "metadata": {},
     "output_type": "execute_result"
    }
   ],
   "source": [
    "integrate(_, (x,0,1))# E(Y^2)"
   ]
  },
  {
   "cell_type": "code",
   "execution_count": 48,
   "metadata": {},
   "outputs": [
    {
     "data": {
      "text/latex": [
       "$\\displaystyle \\frac{1}{2}$"
      ],
      "text/plain": [
       "1/2"
      ]
     },
     "execution_count": 48,
     "metadata": {},
     "output_type": "execute_result"
    }
   ],
   "source": [
    "integrate(x*y*3*x, (y, x, 2-x), (x, 0, 1))"
   ]
  },
  {
   "cell_type": "markdown",
   "metadata": {},
   "source": [
    "# Problem 2"
   ]
  },
  {
   "cell_type": "code",
   "execution_count": 3,
   "metadata": {},
   "outputs": [],
   "source": [
    "r, ux, uy, sx, sy = symbols('r ux uy sx sy')"
   ]
  },
  {
   "cell_type": "code",
   "execution_count": 6,
   "metadata": {},
   "outputs": [],
   "source": [
    "fx = 1/(sqrt(2*pi*sx))*exp( (x-ux)**2/sx**2 )"
   ]
  },
  {
   "cell_type": "code",
   "execution_count": 7,
   "metadata": {},
   "outputs": [
    {
     "data": {
      "text/latex": [
       "$\\displaystyle \\frac{\\sqrt{2} e^{\\frac{\\left(ux - x\\right)^{2}}{sx^{2}}}}{2 \\sqrt{\\pi} \\sqrt{sx}}$"
      ],
      "text/plain": [
       "sqrt(2)*exp((ux - x)**2/sx**2)/(2*sqrt(pi)*sqrt(sx))"
      ]
     },
     "execution_count": 7,
     "metadata": {},
     "output_type": "execute_result"
    }
   ],
   "source": [
    "simplify(fx)"
   ]
  },
  {
   "cell_type": "code",
   "execution_count": 8,
   "metadata": {},
   "outputs": [],
   "source": [
    "fxy = 1/(2*pi*sx*sy*sqrt(1-r*r)) * exp(-1/(2*(1-r*r)) * ((x-ux)**2/sx**2 + (y-uy)**2/sy**2) - 2*r*(x-ux)*(y-uy)/sx/sy)"
   ]
  },
  {
   "cell_type": "code",
   "execution_count": 9,
   "metadata": {},
   "outputs": [],
   "source": [
    "fy_x = fxy / fx"
   ]
  },
  {
   "cell_type": "code",
   "execution_count": 10,
   "metadata": {},
   "outputs": [
    {
     "data": {
      "text/latex": [
       "$\\displaystyle \\frac{\\sqrt{2} e^{- \\frac{\\left(- ux + x\\right)^{2}}{sx^{2}}} e^{- \\frac{2 r \\left(- ux + x\\right) \\left(- uy + y\\right)}{sx sy} - \\frac{\\frac{\\left(- uy + y\\right)^{2}}{sy^{2}} + \\frac{\\left(- ux + x\\right)^{2}}{sx^{2}}}{2 - 2 r^{2}}}}{2 \\sqrt{\\pi} \\sqrt{sx} sy \\sqrt{1 - r^{2}}}$"
      ],
      "text/plain": [
       "sqrt(2)*exp(-(-ux + x)**2/sx**2)*exp(-2*r*(-ux + x)*(-uy + y)/(sx*sy) - ((-uy + y)**2/sy**2 + (-ux + x)**2/sx**2)/(2 - 2*r**2))/(2*sqrt(pi)*sqrt(sx)*sy*sqrt(1 - r**2))"
      ]
     },
     "execution_count": 10,
     "metadata": {},
     "output_type": "execute_result"
    }
   ],
   "source": [
    "fy_x"
   ]
  },
  {
   "cell_type": "markdown",
   "metadata": {},
   "source": [
    "# Problem 3\n",
    "## 3a."
   ]
  },
  {
   "cell_type": "code",
   "execution_count": 87,
   "metadata": {},
   "outputs": [],
   "source": [
    "fxy = 2*exp(y-2*x)"
   ]
  },
  {
   "cell_type": "code",
   "execution_count": 96,
   "metadata": {},
   "outputs": [
    {
     "data": {
      "text/latex": [
       "$\\displaystyle 2 e^{w x - 2 x} - 2 e^{- 2 x}$"
      ],
      "text/plain": [
       "2*exp(w*x - 2*x) - 2*exp(-2*x)"
      ]
     },
     "execution_count": 96,
     "metadata": {},
     "output_type": "execute_result"
    }
   ],
   "source": [
    "integrate(fxy, (y, 0, w*x))"
   ]
  },
  {
   "cell_type": "code",
   "execution_count": 97,
   "metadata": {},
   "outputs": [
    {
     "data": {
      "text/latex": [
       "$\\displaystyle \\begin{cases} - \\frac{w}{w - 2} & \\text{for}\\: \\left|{\\arg{\\left(w \\right)} + \\pi}\\right| \\leq \\frac{\\pi}{2} \\\\\\int\\limits_{0}^{\\infty} \\left(2 e^{w x} - 2\\right) e^{- 2 x}\\, dx & \\text{otherwise} \\end{cases}$"
      ],
      "text/plain": [
       "Piecewise((-w/(w - 2), Abs(arg(w) + pi) <= pi/2), (Integral((2*exp(w*x) - 2)*exp(-2*x), (x, 0, oo)), True))"
      ]
     },
     "execution_count": 97,
     "metadata": {},
     "output_type": "execute_result"
    }
   ],
   "source": [
    "simplify(integrate(_, (x, 0, +oo)))"
   ]
  },
  {
   "cell_type": "code",
   "execution_count": 98,
   "metadata": {},
   "outputs": [
    {
     "data": {
      "text/latex": [
       "$\\displaystyle \\begin{cases} \\frac{2}{\\left(w - 2\\right)^{2}} & \\text{for}\\: \\left|{\\arg{\\left(w \\right)} + \\pi}\\right| \\leq \\frac{\\pi}{2} \\\\\\int\\limits_{0}^{\\infty} 2 x e^{x \\left(w - 2\\right)}\\, dx & \\text{otherwise} \\end{cases}$"
      ],
      "text/plain": [
       "Piecewise((2/(w - 2)**2, Abs(arg(w) + pi) <= pi/2), (Integral(2*x*exp(x*(w - 2)), (x, 0, oo)), True))"
      ]
     },
     "execution_count": 98,
     "metadata": {},
     "output_type": "execute_result"
    }
   ],
   "source": [
    "simplify(diff(_, w))"
   ]
  },
  {
   "cell_type": "code",
   "execution_count": 100,
   "metadata": {},
   "outputs": [
    {
     "data": {
      "text/latex": [
       "$\\displaystyle 1$"
      ],
      "text/plain": [
       "1"
      ]
     },
     "execution_count": 100,
     "metadata": {},
     "output_type": "execute_result"
    }
   ],
   "source": [
    "integrate(2/(w-2)**2, (w, 0, 1))"
   ]
  },
  {
   "cell_type": "code",
   "execution_count": 103,
   "metadata": {},
   "outputs": [
    {
     "data": {
      "text/latex": [
       "$\\displaystyle - \\frac{\\left(- 2 e^{z} - 1\\right) e^{- z}}{2} + \\frac{\\left(- e^{2 z} - 2\\right) e^{- z}}{2}$"
      ],
      "text/plain": [
       "-(-2*exp(z) - 1)*exp(-z)/2 + (-exp(2*z) - 2)*exp(-z)/2"
      ]
     },
     "execution_count": 103,
     "metadata": {},
     "output_type": "execute_result"
    }
   ],
   "source": [
    "integrate(fxy, (x, y, (z-y)/2), (y,0,z))"
   ]
  },
  {
   "cell_type": "code",
   "execution_count": 104,
   "metadata": {},
   "outputs": [
    {
     "data": {
      "text/latex": [
       "$\\displaystyle 1 - \\cosh{\\left(z \\right)}$"
      ],
      "text/plain": [
       "1 - cosh(z)"
      ]
     },
     "execution_count": 104,
     "metadata": {},
     "output_type": "execute_result"
    }
   ],
   "source": [
    "simplify(_)"
   ]
  },
  {
   "cell_type": "code",
   "execution_count": 107,
   "metadata": {},
   "outputs": [
    {
     "data": {
      "text/latex": [
       "$\\displaystyle \\frac{e^{z}}{2} + \\frac{e^{- z}}{2}$"
      ],
      "text/plain": [
       "exp(z)/2 + exp(-z)/2"
      ]
     },
     "execution_count": 107,
     "metadata": {},
     "output_type": "execute_result"
    }
   ],
   "source": [
    "diff((exp(z)-exp(-z))/2, z)"
   ]
  },
  {
   "cell_type": "code",
   "execution_count": 106,
   "metadata": {},
   "outputs": [
    {
     "data": {
      "text/latex": [
       "$\\displaystyle -\\infty$"
      ],
      "text/plain": [
       "-oo"
      ]
     },
     "execution_count": 106,
     "metadata": {},
     "output_type": "execute_result"
    }
   ],
   "source": [
    "integrate(_, (z, 0, +oo))"
   ]
  },
  {
   "cell_type": "code",
   "execution_count": 110,
   "metadata": {},
   "outputs": [
    {
     "data": {
      "text/latex": [
       "$\\displaystyle e^{- z}$"
      ],
      "text/plain": [
       "exp(-z)"
      ]
     },
     "execution_count": 110,
     "metadata": {},
     "output_type": "execute_result"
    }
   ],
   "source": [
    "simplify(integrate(2*exp(-z)/(2-w)**2, (w,0,1)))"
   ]
  },
  {
   "cell_type": "code",
   "execution_count": 111,
   "metadata": {},
   "outputs": [
    {
     "data": {
      "text/latex": [
       "$\\displaystyle \\frac{2}{\\left(w - 2\\right)^{2}}$"
      ],
      "text/plain": [
       "2/(w - 2)**2"
      ]
     },
     "execution_count": 111,
     "metadata": {},
     "output_type": "execute_result"
    }
   ],
   "source": [
    "simplify(integrate(2*exp(-z)/(2-w)**2, (z,0,+oo)))"
   ]
  },
  {
   "cell_type": "markdown",
   "metadata": {},
   "source": [
    "## 4a"
   ]
  },
  {
   "cell_type": "code",
   "execution_count": 108,
   "metadata": {},
   "outputs": [],
   "source": [
    "fxy = 3*(x+y)**2/4"
   ]
  },
  {
   "cell_type": "code",
   "execution_count": 74,
   "metadata": {},
   "outputs": [],
   "source": [
    "fwz = z**3/8"
   ]
  },
  {
   "cell_type": "code",
   "execution_count": 75,
   "metadata": {},
   "outputs": [
    {
     "data": {
      "text/latex": [
       "$\\displaystyle \\frac{21}{16}$"
      ],
      "text/plain": [
       "21/16"
      ]
     },
     "execution_count": 75,
     "metadata": {},
     "output_type": "execute_result"
    }
   ],
   "source": [
    "integrate(fwz, (z, -w, 2-w), (w, -1, 2))"
   ]
  },
  {
   "cell_type": "code",
   "execution_count": 77,
   "metadata": {},
   "outputs": [
    {
     "name": "stdout",
     "output_type": "stream",
     "text": [
      "\\frac{z^{3} \\left(8 - 3 z\\right)}{16}\n"
     ]
    }
   ],
   "source": [
    "print(latex(simplify(1-integrate(fxy, (x,z-y,1), (y,z-1,1)))))"
   ]
  },
  {
   "cell_type": "code",
   "execution_count": 24,
   "metadata": {},
   "outputs": [
    {
     "data": {
      "text/latex": [
       "$\\displaystyle \\frac{3 z^{2} \\left(2 - z\\right)}{4}$"
      ],
      "text/plain": [
       "3*z**2*(2 - z)/4"
      ]
     },
     "execution_count": 24,
     "metadata": {},
     "output_type": "execute_result"
    }
   ],
   "source": [
    "simplify(diff(_,z))"
   ]
  },
  {
   "cell_type": "code",
   "execution_count": 78,
   "metadata": {},
   "outputs": [
    {
     "name": "stdout",
     "output_type": "stream",
     "text": [
      "\\frac{z^{3}}{4} + \\frac{1}{16}\n"
     ]
    }
   ],
   "source": [
    "print(latex(integrate(fxy, (y, -1, z-x), (x, 0, 1))))"
   ]
  },
  {
   "cell_type": "code",
   "execution_count": 28,
   "metadata": {},
   "outputs": [
    {
     "data": {
      "text/latex": [
       "$\\displaystyle \\frac{3 z^{2}}{4}$"
      ],
      "text/plain": [
       "3*z**2/4"
      ]
     },
     "execution_count": 28,
     "metadata": {},
     "output_type": "execute_result"
    }
   ],
   "source": [
    "simplify(diff(_, z))"
   ]
  },
  {
   "cell_type": "code",
   "execution_count": 79,
   "metadata": {},
   "outputs": [
    {
     "name": "stdout",
     "output_type": "stream",
     "text": [
      "\\frac{3 z^{4}}{16} + \\frac{z^{3}}{4} + \\frac{1}{16}\n"
     ]
    }
   ],
   "source": [
    "print(latex(integrate(fxy, (x, 0, z-y), (y, -1, z))))"
   ]
  },
  {
   "cell_type": "code",
   "execution_count": 30,
   "metadata": {},
   "outputs": [
    {
     "data": {
      "text/latex": [
       "$\\displaystyle \\frac{3 z^{2} \\left(z + 1\\right)}{4}$"
      ],
      "text/plain": [
       "3*z**2*(z + 1)/4"
      ]
     },
     "execution_count": 30,
     "metadata": {},
     "output_type": "execute_result"
    }
   ],
   "source": [
    "simplify(diff(_, z))"
   ]
  },
  {
   "cell_type": "markdown",
   "metadata": {},
   "source": [
    "### $f_W(w)$"
   ]
  },
  {
   "cell_type": "code",
   "execution_count": 92,
   "metadata": {},
   "outputs": [
    {
     "data": {
      "text/latex": [
       "$\\displaystyle \\frac{w^{4}}{16} + \\frac{w^{3}}{4} + \\frac{3 w^{2}}{4} + w + \\frac{7}{16}$"
      ],
      "text/plain": [
       "w**4/16 + w**3/4 + 3*w**2/4 + w + 7/16"
      ]
     },
     "execution_count": 92,
     "metadata": {},
     "output_type": "execute_result"
    }
   ],
   "source": [
    "integrate(fxy, (x, 0, y+w), (y,-w,1))"
   ]
  },
  {
   "cell_type": "code",
   "execution_count": 93,
   "metadata": {},
   "outputs": [
    {
     "name": "stdout",
     "output_type": "stream",
     "text": [
      "\\frac{w^{3}}{4} + \\frac{3 w^{2}}{4} + \\frac{3 w}{2} + 1\n"
     ]
    }
   ],
   "source": [
    "print(latex(simplify(diff(_, w))))"
   ]
  },
  {
   "cell_type": "code",
   "execution_count": 96,
   "metadata": {},
   "outputs": [
    {
     "data": {
      "text/latex": [
       "$\\displaystyle \\frac{w^{3}}{4} - \\frac{3 w^{2}}{4} + w + \\frac{7}{16}$"
      ],
      "text/plain": [
       "w**3/4 - 3*w**2/4 + w + 7/16"
      ]
     },
     "execution_count": 96,
     "metadata": {},
     "output_type": "execute_result"
    }
   ],
   "source": [
    "integrate(fxy, (y, x-w,1), (x, 0, 1))"
   ]
  },
  {
   "cell_type": "code",
   "execution_count": 97,
   "metadata": {},
   "outputs": [
    {
     "name": "stdout",
     "output_type": "stream",
     "text": [
      "\\frac{3 w^{2}}{4} - \\frac{3 w}{2} + 1\n"
     ]
    }
   ],
   "source": [
    "print(latex(simplify(diff(_, w))))"
   ]
  },
  {
   "cell_type": "code",
   "execution_count": 100,
   "metadata": {},
   "outputs": [
    {
     "data": {
      "text/latex": [
       "$\\displaystyle \\frac{w \\left(- w^{3} + 8 w^{2} - 24 w + 32\\right)}{16}$"
      ],
      "text/plain": [
       "w*(-w**3 + 8*w**2 - 24*w + 32)/16"
      ]
     },
     "execution_count": 100,
     "metadata": {},
     "output_type": "execute_result"
    }
   ],
   "source": [
    "simplify(1 - integrate(fxy, (y, -1, x-w), (x, w-1, 1)))"
   ]
  },
  {
   "cell_type": "code",
   "execution_count": 101,
   "metadata": {},
   "outputs": [
    {
     "name": "stdout",
     "output_type": "stream",
     "text": [
      "- \\frac{w^{3}}{4} + \\frac{3 w^{2}}{2} - 3 w + 2\n"
     ]
    }
   ],
   "source": [
    "print(latex(simplify(diff(_, w))))"
   ]
  },
  {
   "cell_type": "markdown",
   "metadata": {},
   "source": [
    "## 4b"
   ]
  },
  {
   "cell_type": "code",
   "execution_count": 113,
   "metadata": {},
   "outputs": [],
   "source": [
    "f_y = integrate(fxy, (x, 0, 1))"
   ]
  },
  {
   "cell_type": "code",
   "execution_count": 117,
   "metadata": {},
   "outputs": [
    {
     "data": {
      "text/latex": [
       "$\\displaystyle \\frac{3 y^{2}}{4} + \\frac{3 y}{4} + \\frac{1}{4}$"
      ],
      "text/plain": [
       "3*y**2/4 + 3*y/4 + 1/4"
      ]
     },
     "execution_count": 117,
     "metadata": {},
     "output_type": "execute_result"
    }
   ],
   "source": [
    "f_y"
   ]
  },
  {
   "cell_type": "code",
   "execution_count": 114,
   "metadata": {},
   "outputs": [],
   "source": [
    "f_x_y = fxy / f_y"
   ]
  },
  {
   "cell_type": "code",
   "execution_count": 115,
   "metadata": {},
   "outputs": [
    {
     "data": {
      "text/latex": [
       "$\\displaystyle \\frac{3 \\left(x + y\\right)^{2}}{4 \\left(\\frac{3 y^{2}}{4} + \\frac{3 y}{4} + \\frac{1}{4}\\right)}$"
      ],
      "text/plain": [
       "3*(x + y)**2/(4*(3*y**2/4 + 3*y/4 + 1/4))"
      ]
     },
     "execution_count": 115,
     "metadata": {},
     "output_type": "execute_result"
    }
   ],
   "source": [
    "f_x_y"
   ]
  },
  {
   "cell_type": "code",
   "execution_count": 119,
   "metadata": {},
   "outputs": [
    {
     "data": {
      "text/latex": [
       "$\\displaystyle \\frac{6 y^{2} + 8 y + 3}{4 \\left(3 y^{2} + 3 y + 1\\right)}$"
      ],
      "text/plain": [
       "(6*y**2 + 8*y + 3)/(4*(3*y**2 + 3*y + 1))"
      ]
     },
     "execution_count": 119,
     "metadata": {},
     "output_type": "execute_result"
    }
   ],
   "source": [
    "simplify(integrate(f_x_y * x, (x, 0, 1)))"
   ]
  },
  {
   "cell_type": "code",
   "execution_count": 120,
   "metadata": {},
   "outputs": [
    {
     "name": "stdout",
     "output_type": "stream",
     "text": [
      "\\frac{6 y^{2} + 8 y + 3}{4 \\left(3 y^{2} + 3 y + 1\\right)}\n"
     ]
    }
   ],
   "source": [
    "print(latex(_))"
   ]
  },
  {
   "cell_type": "markdown",
   "metadata": {},
   "source": [
    "# Problem 5"
   ]
  },
  {
   "cell_type": "code",
   "execution_count": 80,
   "metadata": {},
   "outputs": [],
   "source": [
    "fxy = 2*x*y*exp(-x-y)"
   ]
  },
  {
   "cell_type": "code",
   "execution_count": 81,
   "metadata": {},
   "outputs": [
    {
     "data": {
      "text/latex": [
       "$\\displaystyle 1$"
      ],
      "text/plain": [
       "1"
      ]
     },
     "execution_count": 81,
     "metadata": {},
     "output_type": "execute_result"
    }
   ],
   "source": [
    "integrate(fxy, (y, 0, x), (x, 0, +oo))"
   ]
  },
  {
   "cell_type": "code",
   "execution_count": 84,
   "metadata": {},
   "outputs": [
    {
     "name": "stdout",
     "output_type": "stream",
     "text": [
      "\\left(- \\frac{z^{3}}{6} - \\frac{z^{2}}{2} - z + e^{z} - 1\\right) e^{- z}\n"
     ]
    }
   ],
   "source": [
    "print(latex(simplify(integrate(fxy, (x, y, z-y), (y,0,z/2)))))"
   ]
  },
  {
   "cell_type": "code",
   "execution_count": 83,
   "metadata": {},
   "outputs": [
    {
     "data": {
      "text/latex": [
       "$\\displaystyle \\frac{z^{3} e^{- z}}{6}$"
      ],
      "text/plain": [
       "z**3*exp(-z)/6"
      ]
     },
     "execution_count": 83,
     "metadata": {},
     "output_type": "execute_result"
    }
   ],
   "source": [
    "simplify(diff(_, z))"
   ]
  },
  {
   "cell_type": "code",
   "execution_count": 65,
   "metadata": {},
   "outputs": [
    {
     "data": {
      "text/latex": [
       "$\\displaystyle \\begin{cases} \\frac{2 w^{3}}{\\left(w + 1\\right)^{3}} + \\frac{6 w^{2}}{\\left(w + 1\\right)^{3}} - 1 & \\text{for}\\: \\left|{\\arg{\\left(w \\right)}}\\right| \\leq \\frac{\\pi}{2} \\\\\\int\\limits_{0}^{\\infty} \\frac{2 x \\left(- w \\left(x + 1\\right) + \\left(w + x\\right) e^{\\frac{x \\left(w - 1\\right)}{w}}\\right) e^{- 2 x}}{w}\\, dx & \\text{otherwise} \\end{cases}$"
      ],
      "text/plain": [
       "Piecewise((2*w**3/(w + 1)**3 + 6*w**2/(w + 1)**3 - 1, Abs(arg(w)) <= pi/2), (Integral(2*x*(-w*(x + 1) + (w + x)*exp(x*(w - 1)/w))*exp(-2*x)/w, (x, 0, oo)), True))"
      ]
     },
     "execution_count": 65,
     "metadata": {},
     "output_type": "execute_result"
    }
   ],
   "source": [
    "simplify(integrate(fxy, (y,x/w, x), (x, 0, +oo)))"
   ]
  },
  {
   "cell_type": "code",
   "execution_count": 60,
   "metadata": {},
   "outputs": [
    {
     "data": {
      "text/latex": [
       "$\\displaystyle \\begin{cases} \\frac{12 w}{w^{4} + 4 w^{3} + 6 w^{2} + 4 w + 1} & \\text{for}\\: \\left|{\\arg{\\left(w \\right)}}\\right| \\leq \\frac{\\pi}{2} \\\\\\int\\limits_{0}^{\\infty} \\frac{2 x^{3} e^{- x - \\frac{x}{w}}}{w^{3}}\\, dx & \\text{otherwise} \\end{cases}$"
      ],
      "text/plain": [
       "Piecewise((12*w/(w**4 + 4*w**3 + 6*w**2 + 4*w + 1), Abs(arg(w)) <= pi/2), (Integral(2*x**3*exp(-x - x/w)/w**3, (x, 0, oo)), True))"
      ]
     },
     "execution_count": 60,
     "metadata": {},
     "output_type": "execute_result"
    }
   ],
   "source": [
    "simplify(diff(_, w))"
   ]
  },
  {
   "cell_type": "code",
   "execution_count": 66,
   "metadata": {},
   "outputs": [
    {
     "data": {
      "text/latex": [
       "$\\displaystyle \\begin{cases} \\frac{- 6 w + \\left(w + 1\\right)^{3} - 2}{\\left(w + 1\\right)^{3}} & \\text{for}\\: \\left|{\\arg{\\left(w \\right)}}\\right| \\leq \\frac{\\pi}{2} \\\\\\int\\limits_{0}^{\\infty} 2 y \\left(y - \\left(w y + 1\\right) e^{y \\left(1 - w\\right)} + 1\\right) e^{- 2 y}\\, dy & \\text{otherwise} \\end{cases}$"
      ],
      "text/plain": [
       "Piecewise(((-6*w + (w + 1)**3 - 2)/(w + 1)**3, Abs(arg(w)) <= pi/2), (Integral(2*y*(y - (w*y + 1)*exp(y*(1 - w)) + 1)*exp(-2*y), (y, 0, oo)), True))"
      ]
     },
     "execution_count": 66,
     "metadata": {},
     "output_type": "execute_result"
    }
   ],
   "source": [
    "simplify(integrate(fxy, (x, y, w*y), (y, 0, +oo)))"
   ]
  },
  {
   "cell_type": "code",
   "execution_count": 67,
   "metadata": {},
   "outputs": [
    {
     "data": {
      "text/latex": [
       "$\\displaystyle \\begin{cases} \\frac{12 w}{w^{4} + 4 w^{3} + 6 w^{2} + 4 w + 1} & \\text{for}\\: \\left|{\\arg{\\left(w \\right)}}\\right| \\leq \\frac{\\pi}{2} \\\\\\int\\limits_{0}^{\\infty} 2 w y^{3} e^{- y \\left(w + 1\\right)}\\, dy & \\text{otherwise} \\end{cases}$"
      ],
      "text/plain": [
       "Piecewise((12*w/(w**4 + 4*w**3 + 6*w**2 + 4*w + 1), Abs(arg(w)) <= pi/2), (Integral(2*w*y**3*exp(-y*(w + 1)), (y, 0, oo)), True))"
      ]
     },
     "execution_count": 67,
     "metadata": {},
     "output_type": "execute_result"
    }
   ],
   "source": [
    "simplify(diff(_, w))"
   ]
  },
  {
   "cell_type": "code",
   "execution_count": null,
   "metadata": {},
   "outputs": [],
   "source": []
  }
 ],
 "metadata": {
  "kernelspec": {
   "display_name": "Python 3",
   "language": "python",
   "name": "python3"
  },
  "language_info": {
   "codemirror_mode": {
    "name": "ipython",
    "version": 3
   },
   "file_extension": ".py",
   "mimetype": "text/x-python",
   "name": "python",
   "nbconvert_exporter": "python",
   "pygments_lexer": "ipython3",
   "version": "3.7.4"
  }
 },
 "nbformat": 4,
 "nbformat_minor": 2
}
