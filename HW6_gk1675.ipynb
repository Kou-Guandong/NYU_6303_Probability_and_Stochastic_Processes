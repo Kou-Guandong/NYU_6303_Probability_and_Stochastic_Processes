{
 "cells": [
  {
   "cell_type": "markdown",
   "metadata": {},
   "source": [
    "<center style=\"margin:80px 0 10px\">\n",
    "    <h3>ECE-GY 6303 Homework#6 gk1675 (Guandong Kou)</h3>\n",
    "</center>"
   ]
  },
  {
   "cell_type": "code",
   "execution_count": 1,
   "metadata": {},
   "outputs": [
    {
     "data": {
      "text/html": [
       "<style>\n",
       ".text_cell_render {\n",
       "    line-height: 2.5;\n",
       "}\n",
       ".text_cell_render.rendered_html hr {\n",
       "    border-top: 1px solid #bbb; \n",
       "}\n",
       "</style>\n"
      ],
      "text/plain": [
       "<IPython.core.display.HTML object>"
      ]
     },
     "metadata": {},
     "output_type": "display_data"
    }
   ],
   "source": [
    "run utils.ipynb"
   ]
  },
  {
   "cell_type": "markdown",
   "metadata": {},
   "source": [
    "---\n",
    "# Problem 1\n",
    "\n",
    "## a.(i)\n",
    "Since $f_{X,Y}>0$ only when $x>0, y>0$,   \n",
    "$\\Rightarrow X+Y>0 \\Rightarrow F_Z(z)=0, \\forall z<0, F_Z(z)=1, \\forall z>1$.  \n",
    "\n",
    "When $0<z<1$, the feasible region is bounded by $ 0<y<z-x, 0 < x < z, 0<z<1$\n",
    "\n",
    "$$\n",
    "F_Z(z) = P(Z \\leq z) = P(X+Y \\leq z) = \\int_0^z \\int_0 ^{z-x} 6x dydx = -2x^3 + 3zx^2 \\big \\rvert_0^z = z^3\n",
    "$$\n",
    "\n",
    "$$\n",
    "f_Z(z) = \\frac{dF_Z(z)}{dz} = \n",
    "\\begin{cases}\n",
    "3z^2 & (0 \\leq z \\leq 1) \\\\\n",
    "0, otherwise\n",
    "\\end{cases}\n",
    "$$"
   ]
  },
  {
   "cell_type": "markdown",
   "metadata": {},
   "source": [
    "The mean of $Z$ and $Z^2$:\n",
    "$$\n",
    "E(Z) = \\int_0^1 z\\cdot 3z^2 = \\frac{3}{4} \\\\\n",
    "E(Z^2) = \\int_0^1 z^2\\cdot 3z^2 = \\frac{3}{5}\n",
    "$$"
   ]
  },
  {
   "cell_type": "markdown",
   "metadata": {},
   "source": [
    "The variance of Z:\n",
    "$$\n",
    "Var(Z) = E[Z^2 - E(Z)^2] = E(Z^2) - E(Z)^2 = \\frac{3}{80}\n",
    "$$"
   ]
  },
  {
   "cell_type": "markdown",
   "metadata": {},
   "source": [
    "## a.(ii)\n",
    "\n",
    "if $z \\geq 0$, the complement of the feasible regions is bounded by \n",
    "$ z+y \\leq x \\leq 1-y, 0 \\leq y \\leq \\frac{1-z}{2}, 0 \\leq z \\leq 1 $\n",
    "\n",
    "$$\n",
    "F_Z(z) = P(Z \\leq z) = P(X-Y \\leq z) = 1 - P(X-Y \\gt z)  \\\\ = 1 - \\int_0^{\\frac{1-z}{2}} \\int_{z+y} ^{1-y} 6x dxdy = - \\frac{3 z^{3}}{4} + \\frac{3 z^{2}}{4} + \\frac{3 z}{4} + \\frac{1}{4}\n",
    "$$"
   ]
  },
  {
   "cell_type": "markdown",
   "metadata": {},
   "source": [
    "if $z \\leq 0$, the feasible regions is bounded by \n",
    "$ x-z \\leq y \\leq 1-x, 0 \\leq x \\leq \\frac{1+z}{2},  -1 \\leq z \\leq 0 $\n",
    "\n",
    "$$\n",
    "F_Z(z) = P(Z \\leq z) = P(X-Y \\leq z) = \\int_0^{\\frac{1+z}{2}} \\int_{x-z} ^{1-x} 6x dydx = \\frac{(z+1)^3}{4}\n",
    "$$"
   ]
  },
  {
   "cell_type": "markdown",
   "metadata": {},
   "source": [
    "$$\n",
    "f_Z(z) = \\frac{dF_Z(z)}{dz}\n",
    "\\begin{cases}\n",
    "- \\frac{9 z^{2}}{4} + \\frac{3 z}{2} + \\frac{3}{4} & z \\in [0,1] \\\\\n",
    "\\frac{3}{4}(z+1)^2 & z \\in [-1, 0) \\\\\n",
    "0, otherwise\n",
    "\\end{cases}\n",
    "$$"
   ]
  },
  {
   "cell_type": "markdown",
   "metadata": {},
   "source": [
    "The mean of $Z$ and $Z^2$:\n",
    "$$\n",
    "E(Z) = \\int_{-1}^0 z\\cdot\\frac{3}{4}(z+1)^2dz + \\int_0^1 z\\cdot (\\frac{9 z^{2}}{4} + \\frac{3 z}{2} + \\frac{3}{4} = \\frac{3}{4}) dz = \\frac{1}{4} \\\\\n",
    "E(Z^2) = \\int_{-1}^0 z^2\\cdot\\frac{3}{4}(z+1)^2dz + \\int_0^1 z^2\\cdot (\\frac{9 z^{2}}{4} + \\frac{3 z}{2} + \\frac{3}{4} = \\frac{3}{4}) dz = \\frac{1}{5} \\\\\n",
    "$$"
   ]
  },
  {
   "cell_type": "markdown",
   "metadata": {},
   "source": [
    "The variance of Z:\n",
    "$$\n",
    "Var(Z) = E[Z^2 - E(Z)^2] = E(Z^2) - E(Z)^2 = \\frac{11}{80}\n",
    "$$"
   ]
  },
  {
   "cell_type": "markdown",
   "metadata": {},
   "source": [
    "---"
   ]
  },
  {
   "cell_type": "markdown",
   "metadata": {},
   "source": [
    "# Problem 2\n",
    "\n",
    "## a.\n",
    "\n",
    "Since $ X \\sim U(0,2), y \\sim U(0,1), Z = \\frac{X}{\\sqrt{Y}},\\\\ \n",
    "\\Rightarrow \n",
    "\\begin{cases}\n",
    "F_{X,Y}(x,y) = \\frac{1}{2}, \\forall x \\in [0,2], y \\in [0,1] \\\\\n",
    "F_Z(z) = 0, \\forall z \\leq 0 \\\\\n",
    "\\end{cases}\n",
    "$"
   ]
  },
  {
   "cell_type": "markdown",
   "metadata": {},
   "source": [
    "When $z \\gt 0$,\n",
    "$$\n",
    "F_Z(z) = P(Z \\leq z) = p(\\frac{X}{\\sqrt{Y}} \\leq z) = P(y \\geq \\frac{x^2}{z^2})\n",
    "$$"
   ]
  },
  {
   "cell_type": "markdown",
   "metadata": {},
   "source": [
    "When $0 \\lt z \\lt 2$, the feasible region is bounded by $0 \\leq x \\leq z\\sqrt{y}, 0<y<1$. \n",
    "$$\n",
    "F_Z(z) = \\int_0^1 \\int_0^{z\\sqrt{y}} \\frac{1}{2}dxdy = \\frac{1}{3}z\n",
    "$$"
   ]
  },
  {
   "cell_type": "markdown",
   "metadata": {},
   "source": [
    "When $x \\geq 2$, the compliment of the feasible region is bounded by $ 0<y<\\frac{x^2}{z^2}, 0<x<2 $.\n",
    "$$\n",
    "F_Z(z) = 1 - \\int_0^2 \\int_0^{\\frac{x^2}{z^2}} \\frac{1}{2}dydx = 1 - \\frac{4}{3z^2}\n",
    "$$"
   ]
  },
  {
   "cell_type": "markdown",
   "metadata": {},
   "source": [
    "$$\n",
    "f_Z(z) = \\frac{dF_Z(z)}{dz} = \n",
    "\\begin{cases}\n",
    "\\frac{1}{3} & 0<z<2 \\\\\n",
    "\\frac{8}{3z^3} & z>2\n",
    "\\end{cases} \n",
    "$$"
   ]
  },
  {
   "cell_type": "markdown",
   "metadata": {},
   "source": [
    "## b.\n",
    "\n",
    "$$\n",
    "Z = \\frac{min(X,Y)}{max(X,Y)} = \n",
    "\\begin{cases}\n",
    "\\frac{x}{y} & x \\leq y \\\\\n",
    "\\frac{y}{x} & x > y\n",
    "\\end{cases}\n",
    "$$\n",
    "\n",
    "$\\Rightarrow F_Z(z) = 0, \\forall z > 1 $, no matter what x and y are.\n",
    "\n",
    "Since $f_{X,Y}>0$ only when $x, y > 0$, $\\Rightarrow F_Z(z) > 0 $ only when $0<z \\leq 1$"
   ]
  },
  {
   "cell_type": "markdown",
   "metadata": {},
   "source": [
    "When  the feasible domain consists of two parts, with the following bounds respectively:\n",
    "$$\n",
    "\\begin{cases} \n",
    "0 \\leq x \\leq zy, y > 0 & (x \\leq y) \\\\\n",
    "0 \\leq y \\leq zx, x > 0 & (x > y)\n",
    "\\end{cases}\n",
    "$$\n",
    "\n",
    "$$\n",
    "F_Z(z) = P(Z \\leq z) = P(\\frac{x}{y} \\leq z, x \\leq y) + P(\\frac{y}{x}, x > y) \\\\\n",
    "= \\int_0^{+\\infty} \\int_0^{zy} xye^{-x-y} dxdy + \\int_0^{\\infty} \\int_0^{zx} xye^{-x-y} dydx = 1 - \\frac{6z+2}{(z+1)^3}\n",
    "$$\n",
    "\n",
    "$$\n",
    "f_Z(z) = \\frac{dF_Z(z)}{dz} = \\frac{12z}{(z+1)^4}, ( 0 < z \\leq 1)\n",
    "$$"
   ]
  },
  {
   "cell_type": "markdown",
   "metadata": {},
   "source": [
    "---"
   ]
  },
  {
   "cell_type": "markdown",
   "metadata": {},
   "source": [
    "# Problem 3\n",
    "\n",
    "## 3a.\n",
    "\n",
    "$$\n",
    "Z = XY, W = \\frac{X}{Y} \\Rightarrow x = \\sqrt{zw}, y = \\sqrt{\\frac{z}{w}}, \\Rightarrow f_{X,Y}(x,y)=\\frac{1}{z^2}\n",
    "$$\n",
    "\n",
    "$$\n",
    "J = \\begin{vmatrix} \\frac{\\partial{z}}{\\partial{x}} & \\frac{\\partial{z}}{\\partial{x}} \\\\\n",
    "\\frac{\\partial{w}}{\\partial{x}} & \\frac{\\partial{z}}{\\partial{x}} \\end{vmatrix} \n",
    "= \\begin{vmatrix} y & x \\\\ \\frac{1}{y} & -\\frac{x}{y^2} \\end{vmatrix}\n",
    "= \\frac{-2x}{y}\n",
    "$$\n",
    "\n",
    "$$\n",
    "f_{Z,W} = \\frac{1}{|J|} f_{X,Y}(x,y) = \\frac{y}{2x} \\frac{1}{z^2} = \\frac{1}{2wz^2} (0 \\lt w \\leq z)\n",
    "$$"
   ]
  },
  {
   "cell_type": "markdown",
   "metadata": {},
   "source": [
    "## 3b.\n",
    "\n",
    "$$\n",
    "\\sqrt{zw} > 1, \\sqrt{\\frac{z}{w}} > 1 \\Rightarrow z \\geq w\n",
    "$$\n",
    "The feasible region is bounded by $ \\frac{1}{z} \\leq w \\leq z, z>1 $\n",
    "\n",
    "$$\n",
    "f_Z(z) = \\int_{\\frac{1}{z}}^z \\frac{1}{2wz^2}dw = \\frac{lnz}{z^2}\n",
    "$$"
   ]
  },
  {
   "cell_type": "markdown",
   "metadata": {},
   "source": [
    "When $0<w<1$, the feasible region is bounded by $ 1<x<wy, y>\\frac{1}{w} $.\n",
    "\n",
    "$$\n",
    "F_W(w) = \\int_{\\frac{1}{w}}^{+\\infty} \\int_1 ^{wy} \\frac{1}{x^2y^2}dxdy = \\frac{w}{2}\n",
    "$$"
   ]
  },
  {
   "cell_type": "markdown",
   "metadata": {},
   "source": [
    "When $w>1$, the compliment of the feasible region is bounded by $ 1<y<\\frac{x}{w}, x>w $.\n",
    "\n",
    "$$\n",
    "F_W(w) = 1 - \\int_w^{+\\infty} \\int_1 ^{\\frac{x}{w}} \\frac{1}{x^2y^2}dxdy = 1 - \\frac{1}{2w}\n",
    "$$"
   ]
  },
  {
   "cell_type": "markdown",
   "metadata": {},
   "source": [
    "$$\n",
    "f_W(w) = \\frac{dF_W(w)}{dw} = \n",
    "\\begin{cases}\n",
    "\\frac{1}{2}, & 0<w<1 \\\\\n",
    "\\frac{1}{2w^2}, & w \\geq 1 \\\\\n",
    "0, otherwise\n",
    "\\end{cases}\n",
    "$$\n",
    "\n",
    "$ f_Z(z)f_W(w) \\neq f_{Z,W}(z,w), \\Rightarrow $ Z and W are not independent."
   ]
  },
  {
   "cell_type": "markdown",
   "metadata": {},
   "source": [
    "---\n",
    "# Problem 4"
   ]
  },
  {
   "cell_type": "markdown",
   "metadata": {},
   "source": [
    "## 4a."
   ]
  },
  {
   "cell_type": "markdown",
   "metadata": {},
   "source": [
    "$$\n",
    "Z= min(X, 3Y) =\\begin{cases}\n",
    "X, & X\\leq 3Y \\\\\n",
    "3Y, & X > 3Y\n",
    "\\end{cases}\n",
    "$$\n",
    "\n",
    "$$\n",
    "F_Z(z) = P(Z \\leq z) = P(x \\leq z, x \\leq 3y) + P(3y \\leq z, x \\gt 3y)\n",
    "$$\n",
    "\n",
    "The two feasible regions together forms the boundary of:\n",
    "$ (0<x<z \\cap y>0) \\cup (0<y<\\frac{z}{3} \\cap y>0 ) $"
   ]
  },
  {
   "cell_type": "markdown",
   "metadata": {},
   "source": [
    "$$\n",
    "F_Z(z) = F_X(z) + F_Y(\\frac{z}{3}) - F_{X,Y}(z, \\frac{z}{3})  \\\\\n",
    "\\Rightarrow\n",
    "f_Z(z) = \\frac{dF_Z(z)}{dz} = f_X(z) + \\frac{1}{3}f_Y(\\frac{z}{3}) - \n",
    "[F_X(z)\\frac{1}{3}f_Y(\\frac{z}{3}) + F_Y(\\frac{z}{3})f_X(z)]\n",
    "$$\n",
    "\n",
    "$$\n",
    "F_X(z) = \\int_0^z f_X(x)dx = \\int_0^z \\alpha e^{-\\alpha x} dx = 1 - e^{-\\alpha z}\n",
    "$$\n",
    "\n",
    "$$\n",
    "F_Y(\\frac{z}{3}) = \\int_0 ^{\\frac{z}{3}} \\beta e^{-\\beta x}dx = 1 - e^{-\\frac{\\beta z}{3}}\n",
    "$$\n",
    "\n",
    "$$\n",
    "\\Rightarrow f_Z(z) = (\\alpha +\\frac{\\beta}{3})e^{-\\alpha z - \\frac{\\beta z}{3}}\n",
    "$$"
   ]
  },
  {
   "cell_type": "markdown",
   "metadata": {},
   "source": [
    "## 4b.\n",
    "\n",
    "$$\n",
    "U = \\frac{X}{max(X,Y)} = \n",
    "\\begin{cases}\n",
    "1, & x \\leq y \\\\\n",
    "\\frac{x}{y}, & x \\lt y\n",
    "\\end{cases} \n",
    "\\\\\n",
    "x\\geq 0, y\\geq 0 \\Rightarrow 0 \\leq U \\leq 1\n",
    "$$\n",
    "\n",
    "$$\n",
    "F_U(u) = P(U \\leq u) = P(u=1, x \\geq y) + P(\\frac{x}{y}\\leq u, x <y)\n",
    "$$"
   ]
  },
  {
   "cell_type": "markdown",
   "metadata": {},
   "source": [
    "When $U=1$, the feasible region is bounded by $ 0<y<x, x>0 $\n",
    "$$\n",
    "P(x \\geq y) = \\int_0^{+\\infty} \\int_0^x f_{X,Y}(x,y) dydx \n",
    "= \\frac{\\beta}{\\beta + \\alpha}\n",
    "$$"
   ]
  },
  {
   "cell_type": "markdown",
   "metadata": {},
   "source": [
    "When $0<U<1, x<y$, the feasible region is bounded by $ 0<x<uy, y>0 $.  \n",
    "\n",
    "$$\n",
    "P(\\frac{x}{y}\\leq u) = \\int_0^{+\\infty} \\int_0^{uy}f_{X,Y}(x,y)dxdy\n",
    "= \\frac{\\alpha u}{\\alpha u + \\beta}\n",
    "$$\n",
    "\n",
    "$$\n",
    "f_U(u) =\\frac{dF_U(u)}{du} = \n",
    "\\begin{cases}\n",
    "\\frac{\\beta}{\\beta + \\alpha}\\delta(u) & u=1 \\\\\n",
    "\\frac{\\alpha \\beta}{(\\alpha u + \\beta)^2} & 0<u<1 \\\\ \n",
    "0, otherwise\n",
    "\\end{cases}\n",
    "$$"
   ]
  },
  {
   "cell_type": "markdown",
   "metadata": {},
   "source": [
    "---"
   ]
  },
  {
   "cell_type": "markdown",
   "metadata": {},
   "source": [
    "# Problem 5\n",
    "\n",
    "## 5a.\n",
    "\n",
    "$$\n",
    "F_Z(z) = P(x+y \\leq z) \n",
    "$$\n",
    "\n",
    "The feasible region is bounded by $ x<y<z-x, 0<x<\\frac{z}{2} $.\n",
    "\n",
    "$$\n",
    "F_Z(z) = \\int_0^{\\frac{z}{2}} \\int_x^{z-x} e^{-y}dydx = 1 + e^{- z} - 2 e^{- \\frac{z}{2}}\n",
    "$$\n",
    "\n",
    "$$\n",
    "f_Z(z) = \\frac{dF_Z(z)}{dz} = - e^{- z} + e^{- \\frac{z}{2}}\n",
    "$$"
   ]
  },
  {
   "cell_type": "markdown",
   "metadata": {},
   "source": [
    "## 5b.\n",
    "\n",
    "The feasible region is bounded by $ x<y<\\sqrt{z^2 - x^2}, 0<x<\\frac{z}{\\sqrt{2}} $\n",
    "\n",
    "$$\n",
    "F_Z(z) = \\int_0 ^{\\frac{z}{\\sqrt{2}}} \\int_x^{\\sqrt{z^2 - x^2}} e^{-y} dydx = \\int_0 ^{\\frac{z}{\\sqrt{2}}} (e^{- x}- e^{- \\sqrt{- x^{2} + z^{2}}}) dx\n",
    "$$"
   ]
  },
  {
   "cell_type": "markdown",
   "metadata": {},
   "source": [
    "According to Leibniz's rule,"
   ]
  },
  {
   "cell_type": "markdown",
   "metadata": {},
   "source": [
    "$$\n",
    "H(z) = \\int_{a(z)}^{b(z)} h(x,z)dx \\\\\n",
    "\\frac{dH(z)}{dz} = \\frac{db(z)}{dz}h(b(z),z) - \\frac{da(z)}{dz}h(a(z),z) + \n",
    "\\int_{a(z)}^{b(z)}\\frac{\\partial h(x,z)}{\\partial z}dx\n",
    "$$"
   ]
  },
  {
   "cell_type": "markdown",
   "metadata": {},
   "source": [
    "Let $b(z) = \\frac{z}{\\sqrt{2}}, c(z)=0, h(x,z) = e^{- x}- e^{- \\sqrt{- x^{2} + z^{2}}}$, then, \n",
    "\n",
    "$$\n",
    "h(b(z),z) = h(\\frac{z}{\\sqrt{2}}, z) = 0 \\\\ \n",
    "\\frac{db(z)}{dz} = \\frac{\\sqrt{2}}{2} \\\\\n",
    "\\frac{da(z)}{dz} = 0 \\\\\n",
    "\\frac{\\partial h(x,z)}{\\partial z} = z \\int\\limits_{0}^{\\frac{\\sqrt{2} z}{2}} \\frac{e^{- \\sqrt{- x^{2} + z^{2}}}}{\\sqrt{- x^{2} + z^{2}}} dx\n",
    "$$\n",
    "\n",
    "$$\n",
    "f_Z(z) = \\frac{dF_Z(z)}{dz} = z\\int\\limits_{0}^{\\frac{\\sqrt{2} z}{2}} \\frac{e^{- \\sqrt{- x^{2} + z^{2}}}}{\\sqrt{- x^{2} + z^{2}}} dx\n",
    "$$"
   ]
  },
  {
   "cell_type": "markdown",
   "metadata": {},
   "source": [
    "---\n",
    "# Problem 6\n",
    "\n",
    "## 6a.\n",
    "\n",
    "$$\n",
    "W = \\frac{X}{min(X,2Y)} = \n",
    "\\begin{cases}\n",
    "1 & x \\leq 2y \\\\\n",
    "\\frac{x}{2y} & x > 2y\n",
    "\\end{cases}\n",
    "$$\n",
    "\n",
    "$$\n",
    "F_W(w) = P(W\\leq w) = P(W\\leq w, x \\leq 2y) + P(W\\leq w, w>2y) \\\\ \n",
    "= P(1\\leq w, x\\leq 2y) + P(\\frac{x}{2y}<w, x>2y) = P(x \\leq 2y) + P(\\frac{x}{2y}<w)P(x>2y)\n",
    "$$"
   ]
  },
  {
   "cell_type": "markdown",
   "metadata": {},
   "source": [
    "When $w=1, x\\leq 2y$\n",
    "$$\n",
    "F_W(w) = P(x \\leq 2y) = \\int_0^{+\\infty} \\int_0^{2y} e^{-(x+y)} dxdy = \\frac{2}{3}\n",
    "$$"
   ]
  },
  {
   "cell_type": "markdown",
   "metadata": {},
   "source": [
    "When $w > 1, x>2y$\n",
    "$$\n",
    "F_W(w) = P(\\frac{x}{2y}<w)P(x>2y) = \\int_0^{+\\infty} \\int_0^{2wy} e^{-(x+y)}dxdy = 1 - \\frac{1}{2w+1}\n",
    "$$\n",
    "\n",
    "$$\n",
    "f_W(w) = \\frac{dF_W}{dw} = \n",
    "\\begin{cases}\n",
    "\\frac{2}{3}\\delta(w) & w = 1 \\\\\n",
    "\\frac{2}{(2w+1)^2} & w > 1 \\\\\n",
    "0, otherwise\n",
    "\\end{cases}\n",
    "$$"
   ]
  },
  {
   "cell_type": "markdown",
   "metadata": {},
   "source": [
    "## 6b.\n",
    "\n",
    "$$\n",
    "z = x+y, w=\\frac{y}{x} \\Rightarrow x=\\frac{z}{1+w}, y=\\frac{wz}{1+w}\n",
    "$$"
   ]
  },
  {
   "cell_type": "markdown",
   "metadata": {},
   "source": [
    "The deteminant of the Jacobian Matrix is:\n",
    "\n",
    "$$\n",
    "J = \\begin{vmatrix} \\frac{\\partial{z}}{\\partial{x}} & \\frac{\\partial{z}}{\\partial{y}} \\\\\n",
    "\\frac{\\partial{w}}{\\partial{x}} & \\frac{\\partial{w}}{\\partial{y}} \\end{vmatrix} \n",
    "= \\begin{vmatrix} 1 & 1 \\\\ -\\frac{y}{x^2} & \\frac{1}{x} \\end{vmatrix}\n",
    "= \\frac{x+y}{x^2} = \\frac{(1+w)^2}{z}\n",
    "$$"
   ]
  },
  {
   "cell_type": "markdown",
   "metadata": {},
   "source": [
    "$$\n",
    "f_{Z,W}(z,w) = \\frac{1}{|J|}f_{X,Y}(x,y) = \\frac{2ze^{-z}}{(1+w)^2} \n",
    "$$"
   ]
  },
  {
   "cell_type": "markdown",
   "metadata": {},
   "source": [
    "When $x+y=z$, the feasible domain is bounded by $ x < y < z-x, 0<x<\\frac{z}{2} $.\n",
    "$$\n",
    "F_Z(z) = \\int_0^{\\frac{z}{2}} \\int_x^{z-x} 2e^{-(x+y)}dxdy = (- z + e^{z} - 1) e^{- z} U(z)\n",
    "$$\n",
    "\n",
    "$$\n",
    "f_Z(z) = ze^{-z}\n",
    "$$"
   ]
  },
  {
   "cell_type": "markdown",
   "metadata": {},
   "source": [
    "When $w=\\frac{y}{x}$, the feasible region is bounded by $ x<y<wx, x>0, w>1 $.  \n",
    "$$\n",
    "F_W(w) = \\int_0^{+\\infty} \\int_x ^{wx} 2e^{-(x+y)} dydx = 1 - \\frac{2}{w+1} \\\\\n",
    "\\Rightarrow f_w(w) = \\frac{2}{(w+1)^2} , (w>1)\n",
    "$$"
   ]
  },
  {
   "cell_type": "markdown",
   "metadata": {},
   "source": [
    "$ f_W(w)f_Z(z) = f_{Z,W}(z,w) \\Rightarrow$ Z and W are independent.\n",
    "\n",
    "---\n",
    "Source Code of Latex and Python will only be committed to [Guandong Kou's GitHub](https://github.com/Kou-Guandong/NYU_6303_Probability_and_Stochastic_Processes) after the due date of each assignment."
   ]
  }
 ],
 "metadata": {
  "kernelspec": {
   "display_name": "Python 3",
   "language": "python",
   "name": "python3"
  },
  "language_info": {
   "codemirror_mode": {
    "name": "ipython",
    "version": 3
   },
   "file_extension": ".py",
   "mimetype": "text/x-python",
   "name": "python",
   "nbconvert_exporter": "python",
   "pygments_lexer": "ipython3",
   "version": "3.7.4"
  }
 },
 "nbformat": 4,
 "nbformat_minor": 2
}
