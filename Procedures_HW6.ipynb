{
 "cells": [
  {
   "cell_type": "code",
   "execution_count": 2,
   "metadata": {},
   "outputs": [
    {
     "data": {
      "text/html": [
       "<style>\n",
       ".text_cell_render {\n",
       "    line-height: 2.5;\n",
       "}\n",
       ".text_cell_render.rendered_html hr {\n",
       "    border-top: 1px solid #bbb; \n",
       "}\n",
       "</style>\n"
      ],
      "text/plain": [
       "<IPython.core.display.HTML object>"
      ]
     },
     "metadata": {},
     "output_type": "display_data"
    }
   ],
   "source": [
    "run utils.ipynb"
   ]
  },
  {
   "cell_type": "code",
   "execution_count": 3,
   "metadata": {},
   "outputs": [],
   "source": [
    "from sympy import *"
   ]
  },
  {
   "cell_type": "code",
   "execution_count": 4,
   "metadata": {},
   "outputs": [],
   "source": [
    "x, y, z, p, q, n = symbols('x y z p q n ')"
   ]
  },
  {
   "cell_type": "markdown",
   "metadata": {},
   "source": [
    "# Problem 1"
   ]
  },
  {
   "cell_type": "markdown",
   "metadata": {},
   "source": [
    "## a. (i)"
   ]
  },
  {
   "cell_type": "code",
   "execution_count": 5,
   "metadata": {},
   "outputs": [
    {
     "data": {
      "text/latex": [
       "$\\displaystyle z^{3}$"
      ],
      "text/plain": [
       "z**3"
      ]
     },
     "execution_count": 5,
     "metadata": {},
     "output_type": "execute_result"
    }
   ],
   "source": [
    "integrate(6*x, (y, 0, z-x), (x, 0, z))"
   ]
  },
  {
   "cell_type": "markdown",
   "metadata": {},
   "source": [
    "## a.(ii)"
   ]
  },
  {
   "cell_type": "markdown",
   "metadata": {},
   "source": [
    "when 0<z<1"
   ]
  },
  {
   "cell_type": "code",
   "execution_count": 27,
   "metadata": {},
   "outputs": [
    {
     "data": {
      "text/latex": [
       "$\\displaystyle \\frac{3 z^{3}}{4} - \\frac{3 z^{2}}{4} - \\frac{3 z}{4} + \\frac{3}{4}$"
      ],
      "text/plain": [
       "3*z**3/4 - 3*z**2/4 - 3*z/4 + 3/4"
      ]
     },
     "execution_count": 27,
     "metadata": {},
     "output_type": "execute_result"
    }
   ],
   "source": [
    "simplify(integrate(6*x, (x, y+z, 1-y), (y, 0, (1-z)/2)))"
   ]
  },
  {
   "cell_type": "code",
   "execution_count": 28,
   "metadata": {},
   "outputs": [],
   "source": [
    "fz = diff(1- _)"
   ]
  },
  {
   "cell_type": "code",
   "execution_count": 29,
   "metadata": {},
   "outputs": [
    {
     "data": {
      "text/latex": [
       "$\\displaystyle - \\frac{9 z^{2}}{4} + \\frac{3 z}{2} + \\frac{3}{4}$"
      ],
      "text/plain": [
       "-9*z**2/4 + 3*z/2 + 3/4"
      ]
     },
     "execution_count": 29,
     "metadata": {},
     "output_type": "execute_result"
    }
   ],
   "source": [
    "fz"
   ]
  },
  {
   "cell_type": "code",
   "execution_count": 30,
   "metadata": {},
   "outputs": [
    {
     "data": {
      "text/latex": [
       "$\\displaystyle \\frac{7}{40}$"
      ],
      "text/plain": [
       "7/40"
      ]
     },
     "execution_count": 30,
     "metadata": {},
     "output_type": "execute_result"
    }
   ],
   "source": [
    "integrate(z*z*fz,(z,0, 1))"
   ]
  },
  {
   "cell_type": "markdown",
   "metadata": {},
   "source": [
    "y < 0"
   ]
  },
  {
   "cell_type": "code",
   "execution_count": 20,
   "metadata": {},
   "outputs": [
    {
     "data": {
      "text/latex": [
       "$\\displaystyle - 4 \\left(\\frac{z}{2} + \\frac{1}{2}\\right)^{3} + \\left(\\frac{z}{2} + \\frac{1}{2}\\right)^{2} \\left(3 z + 3\\right)$"
      ],
      "text/plain": [
       "-4*(z/2 + 1/2)**3 + (z/2 + 1/2)**2*(3*z + 3)"
      ]
     },
     "execution_count": 20,
     "metadata": {},
     "output_type": "execute_result"
    }
   ],
   "source": [
    "integrate(6*x, (y, x-z, 1-x), (x, 0, (1+z)/2))"
   ]
  },
  {
   "cell_type": "code",
   "execution_count": 22,
   "metadata": {},
   "outputs": [],
   "source": [
    "fz = simplify(diff(_))"
   ]
  },
  {
   "cell_type": "code",
   "execution_count": 23,
   "metadata": {},
   "outputs": [
    {
     "data": {
      "text/latex": [
       "$\\displaystyle \\frac{3 \\left(z + 1\\right)^{2}}{4}$"
      ],
      "text/plain": [
       "3*(z + 1)**2/4"
      ]
     },
     "execution_count": 23,
     "metadata": {},
     "output_type": "execute_result"
    }
   ],
   "source": [
    "fz"
   ]
  },
  {
   "cell_type": "code",
   "execution_count": 25,
   "metadata": {},
   "outputs": [
    {
     "data": {
      "text/latex": [
       "$\\displaystyle - \\frac{1}{16}$"
      ],
      "text/plain": [
       "-1/16"
      ]
     },
     "execution_count": 25,
     "metadata": {},
     "output_type": "execute_result"
    }
   ],
   "source": [
    "integrate(fz*z, (z, -1, 0))"
   ]
  },
  {
   "cell_type": "code",
   "execution_count": 26,
   "metadata": {},
   "outputs": [
    {
     "data": {
      "text/latex": [
       "$\\displaystyle \\frac{1}{40}$"
      ],
      "text/plain": [
       "1/40"
      ]
     },
     "execution_count": 26,
     "metadata": {},
     "output_type": "execute_result"
    }
   ],
   "source": [
    "integrate(fz*z*z, (z, -1, 0))"
   ]
  },
  {
   "cell_type": "markdown",
   "metadata": {},
   "source": [
    "# Problem 2"
   ]
  },
  {
   "cell_type": "code",
   "execution_count": 66,
   "metadata": {},
   "outputs": [
    {
     "data": {
      "text/latex": [
       "$\\displaystyle \\frac{1.33333333333333}{z^{2}}$"
      ],
      "text/plain": [
       "1.33333333333333/z**2"
      ]
     },
     "execution_count": 66,
     "metadata": {},
     "output_type": "execute_result"
    }
   ],
   "source": [
    "integrate(1/2, (y, 0, x**2/z**2), (x, 0, 2))"
   ]
  },
  {
   "cell_type": "markdown",
   "metadata": {},
   "source": [
    "## 2b."
   ]
  },
  {
   "cell_type": "code",
   "execution_count": 103,
   "metadata": {},
   "outputs": [],
   "source": [
    "f = x*y*exp(-x-y)"
   ]
  },
  {
   "cell_type": "code",
   "execution_count": 104,
   "metadata": {},
   "outputs": [
    {
     "data": {
      "text/latex": [
       "$\\displaystyle \\begin{cases} - \\frac{2 z}{\\left(z + 1\\right)^{3}} + 1 - \\frac{1}{\\left(z + 1\\right)^{2}} & \\text{for}\\: \\left|{\\arg{\\left(z \\right)}}\\right| \\leq \\frac{\\pi}{2} \\\\\\int\\limits_{0}^{\\infty} \\left(x e^{- x} + \\left(- x^{2} z - x\\right) e^{- x z - x}\\right)\\, dx & \\text{otherwise} \\end{cases}$"
      ],
      "text/plain": [
       "Piecewise((-2*z/(z + 1)**3 + 1 - 1/(z + 1)**2, Abs(arg(z)) <= pi/2), (Integral(x*exp(-x) + (-x**2*z - x)*exp(-x*z - x), (x, 0, oo)), True))"
      ]
     },
     "execution_count": 104,
     "metadata": {},
     "output_type": "execute_result"
    }
   ],
   "source": [
    "integrate(f, (y, 0, z*x), (x, 0, +oo))"
   ]
  },
  {
   "cell_type": "code",
   "execution_count": 108,
   "metadata": {},
   "outputs": [],
   "source": [
    "f2 = ( (y*z+1)*(1-exp(-y*z)) - 1) *y*exp(-y)"
   ]
  },
  {
   "cell_type": "code",
   "execution_count": 109,
   "metadata": {},
   "outputs": [],
   "source": [
    "f3 = simplify(integrate(f, (x, 0, y*z)))"
   ]
  },
  {
   "cell_type": "code",
   "execution_count": 110,
   "metadata": {},
   "outputs": [
    {
     "data": {
      "text/latex": [
       "$\\displaystyle y \\left(y z - 1\\right) e^{- y}$"
      ],
      "text/plain": [
       "y*(y*z - 1)*exp(-y)"
      ]
     },
     "execution_count": 110,
     "metadata": {},
     "output_type": "execute_result"
    }
   ],
   "source": [
    "simplify(f2 - f3)"
   ]
  },
  {
   "cell_type": "code",
   "execution_count": 75,
   "metadata": {
    "scrolled": true
   },
   "outputs": [
    {
     "data": {
      "text/latex": [
       "$\\displaystyle y \\left(- \\left(y z + 1\\right) e^{- y z} + 1\\right) e^{- y}$"
      ],
      "text/plain": [
       "y*(-(y*z + 1)*exp(-y*z) + 1)*exp(-y)"
      ]
     },
     "execution_count": 75,
     "metadata": {},
     "output_type": "execute_result"
    }
   ],
   "source": [
    "simplify(_)"
   ]
  },
  {
   "cell_type": "code",
   "execution_count": 102,
   "metadata": {
    "scrolled": true
   },
   "outputs": [
    {
     "data": {
      "text/latex": [
       "$\\displaystyle \\begin{cases} \\frac{- 3 z + \\left(z + 1\\right)^{3} - 1}{\\left(z + 1\\right)^{3}} & \\text{for}\\: \\left|{\\arg{\\left(z \\right)}}\\right| \\leq \\frac{\\pi}{2} \\\\\\int\\limits_{0}^{\\infty} y \\left(- \\left(y z + 1\\right) e^{- y z} + 1\\right) e^{- y}\\, dy & \\text{otherwise} \\end{cases}$"
      ],
      "text/plain": [
       "Piecewise(((-3*z + (z + 1)**3 - 1)/(z + 1)**3, Abs(arg(z)) <= pi/2), (Integral(y*(-(y*z + 1)*exp(-y*z) + 1)*exp(-y), (y, 0, oo)), True))"
      ]
     },
     "execution_count": 102,
     "metadata": {},
     "output_type": "execute_result"
    }
   ],
   "source": [
    "simplify(integrate(integrate(x*y*exp(-x-y), (x, 0, y*z)), (y, 0, +oo)))"
   ]
  },
  {
   "cell_type": "code",
   "execution_count": 84,
   "metadata": {},
   "outputs": [
    {
     "data": {
      "text/latex": [
       "$\\displaystyle \\int \\begin{cases} \\frac{- 3 z + \\left(z + 1\\right)^{3} - 1}{\\left(z + 1\\right)^{3}} & \\text{for}\\: \\left|{\\arg{\\left(z \\right)}}\\right| \\leq \\frac{\\pi}{2} \\\\\\int\\limits_{0}^{\\infty} x \\left(- \\left(x z + 1\\right) e^{- x z} + 1\\right) e^{- x}\\, dx & \\text{otherwise} \\end{cases}\\, dz$"
      ],
      "text/plain": [
       "Integral(Piecewise(((-3*z + (z + 1)**3 - 1)/(z + 1)**3, Abs(arg(z)) <= pi/2), (Integral(x*(-(x*z + 1)*exp(-x*z) + 1)*exp(-x), (x, 0, oo)), True)), z)"
      ]
     },
     "execution_count": 84,
     "metadata": {},
     "output_type": "execute_result"
    }
   ],
   "source": [
    "simplify(integrate(integrate(f, (y, 0, z*x), (x, 0, +oo))))"
   ]
  },
  {
   "cell_type": "code",
   "execution_count": 80,
   "metadata": {},
   "outputs": [],
   "source": [
    "fz = (-3*z + (z+1)**3 - 1) / (z+1)**3"
   ]
  },
  {
   "cell_type": "code",
   "execution_count": 81,
   "metadata": {},
   "outputs": [
    {
     "data": {
      "text/latex": [
       "$\\displaystyle \\frac{3 \\left(z + 1\\right)^{2} - 3}{\\left(z + 1\\right)^{3}} - \\frac{3 \\left(- 3 z + \\left(z + 1\\right)^{3} - 1\\right)}{\\left(z + 1\\right)^{4}}$"
      ],
      "text/plain": [
       "(3*(z + 1)**2 - 3)/(z + 1)**3 - 3*(-3*z + (z + 1)**3 - 1)/(z + 1)**4"
      ]
     },
     "execution_count": 81,
     "metadata": {},
     "output_type": "execute_result"
    }
   ],
   "source": [
    "diff(fz, z)"
   ]
  },
  {
   "cell_type": "code",
   "execution_count": 82,
   "metadata": {},
   "outputs": [
    {
     "data": {
      "text/latex": [
       "$\\displaystyle \\frac{1}{2}$"
      ],
      "text/plain": [
       "1/2"
      ]
     },
     "execution_count": 82,
     "metadata": {},
     "output_type": "execute_result"
    }
   ],
   "source": [
    "integrate(_, (z, 0, 1 ))"
   ]
  },
  {
   "cell_type": "code",
   "execution_count": 111,
   "metadata": {},
   "outputs": [],
   "source": [
    "ff = x*exp(-x)"
   ]
  },
  {
   "cell_type": "code",
   "execution_count": 119,
   "metadata": {},
   "outputs": [
    {
     "data": {
      "text/latex": [
       "$\\displaystyle \\begin{cases} \\frac{- 3 z + \\left(z + 1\\right)^{3} - 1}{\\left(z + 1\\right)^{3}} & \\text{for}\\: \\left|{\\arg{\\left(z \\right)}}\\right| \\leq \\frac{\\pi}{2} \\\\\\int\\limits_{0}^{\\infty} \\left(- y \\left(y z - e^{y z} + 1\\right) e^{- y \\left(z + 1\\right)}\\right)\\, dy & \\text{otherwise} \\end{cases}$"
      ],
      "text/plain": [
       "Piecewise(((-3*z + (z + 1)**3 - 1)/(z + 1)**3, Abs(arg(z)) <= pi/2), (Integral(-y*(y*z - exp(y*z) + 1)*exp(-y*(z + 1)), (y, 0, oo)), True))"
      ]
     },
     "execution_count": 119,
     "metadata": {},
     "output_type": "execute_result"
    }
   ],
   "source": [
    "simplify(integrate(integrate(ff, (x, 0, y*z)) *y *exp(-y), (y, 0, +oo)), )"
   ]
  },
  {
   "cell_type": "code",
   "execution_count": 118,
   "metadata": {},
   "outputs": [
    {
     "data": {
      "text/latex": [
       "$\\displaystyle \\frac{1}{2}$"
      ],
      "text/plain": [
       "1/2"
      ]
     },
     "execution_count": 118,
     "metadata": {},
     "output_type": "execute_result"
    }
   ],
   "source": [
    "integrate(6*z/(z+1)**4, (z, 0, 1))"
   ]
  },
  {
   "cell_type": "code",
   "execution_count": 122,
   "metadata": {},
   "outputs": [
    {
     "data": {
      "text/latex": [
       "$\\displaystyle 1$"
      ],
      "text/plain": [
       "1"
      ]
     },
     "execution_count": 122,
     "metadata": {},
     "output_type": "execute_result"
    }
   ],
   "source": [
    "integrate(ln(z)/z**2, (z, 1, +oo))"
   ]
  },
  {
   "cell_type": "markdown",
   "metadata": {},
   "source": [
    "# Problem 3"
   ]
  },
  {
   "cell_type": "code",
   "execution_count": 219,
   "metadata": {},
   "outputs": [],
   "source": [
    "f = 1/(x*x*y*y)"
   ]
  },
  {
   "cell_type": "code",
   "execution_count": 220,
   "metadata": {},
   "outputs": [
    {
     "data": {
      "text/latex": [
       "$\\displaystyle \\frac{w}{2}$"
      ],
      "text/plain": [
       "w/2"
      ]
     },
     "execution_count": 220,
     "metadata": {},
     "output_type": "execute_result"
    }
   ],
   "source": [
    "integrate(f, (x, 1, w*y), (y,1/w, +oo))"
   ]
  },
  {
   "cell_type": "code",
   "execution_count": 221,
   "metadata": {},
   "outputs": [
    {
     "data": {
      "text/latex": [
       "$\\displaystyle \\frac{1}{2 w}$"
      ],
      "text/plain": [
       "1/(2*w)"
      ]
     },
     "execution_count": 221,
     "metadata": {},
     "output_type": "execute_result"
    }
   ],
   "source": [
    "integrate(f, (y, 1, x/w), (x, w, +oo))"
   ]
  },
  {
   "cell_type": "code",
   "execution_count": 222,
   "metadata": {},
   "outputs": [
    {
     "data": {
      "text/latex": [
       "$\\displaystyle 1 + \\frac{- \\log{\\left(z \\right)} - 1}{z}$"
      ],
      "text/plain": [
       "1 + (-log(z) - 1)/z"
      ]
     },
     "execution_count": 222,
     "metadata": {},
     "output_type": "execute_result"
    }
   ],
   "source": [
    "integrate(f, (x, 1, z/y), (y, 1, z) )"
   ]
  },
  {
   "cell_type": "code",
   "execution_count": 224,
   "metadata": {},
   "outputs": [
    {
     "data": {
      "text/latex": [
       "$\\displaystyle \\frac{\\log{\\left(z \\right)}}{z^{2}}$"
      ],
      "text/plain": [
       "log(z)/z**2"
      ]
     },
     "execution_count": 224,
     "metadata": {},
     "output_type": "execute_result"
    }
   ],
   "source": [
    "simplify(diff(integrate(f, (x, 1, z/y), (y, 1, z) ), z))"
   ]
  },
  {
   "cell_type": "markdown",
   "metadata": {},
   "source": [
    "# Problem 4"
   ]
  },
  {
   "cell_type": "markdown",
   "metadata": {},
   "source": [
    "## 4b."
   ]
  },
  {
   "cell_type": "code",
   "execution_count": 31,
   "metadata": {},
   "outputs": [],
   "source": [
    "a, b, u = symbols('a b u')"
   ]
  },
  {
   "cell_type": "code",
   "execution_count": 32,
   "metadata": {},
   "outputs": [],
   "source": [
    "f = a*b*exp(-(a*x + b*y))"
   ]
  },
  {
   "cell_type": "code",
   "execution_count": 33,
   "metadata": {},
   "outputs": [
    {
     "data": {
      "text/latex": [
       "$\\displaystyle - a e^{- a x - b x} + a e^{- a x}$"
      ],
      "text/plain": [
       "-a*exp(-a*x - b*x) + a*exp(-a*x)"
      ]
     },
     "execution_count": 33,
     "metadata": {},
     "output_type": "execute_result"
    }
   ],
   "source": [
    "integrate(f, (y, 0, x))"
   ]
  },
  {
   "cell_type": "code",
   "execution_count": 34,
   "metadata": {
    "scrolled": true
   },
   "outputs": [
    {
     "data": {
      "text/latex": [
       "$\\displaystyle \\begin{cases} \\frac{b}{a + b} & \\text{for}\\: \\left(\\left|{\\arg{\\left(b \\right)}}\\right| \\leq \\frac{\\pi}{2} \\vee \\left|{\\arg{\\left(b \\right)}}\\right| < \\frac{\\pi}{2}\\right) \\wedge \\left|{\\arg{\\left(a \\right)}}\\right| < \\frac{\\pi}{2} \\\\\\int\\limits_{0}^{\\infty} a \\left(1 - e^{- b x}\\right) e^{- a x}\\, dx & \\text{otherwise} \\end{cases}$"
      ],
      "text/plain": [
       "Piecewise((b/(a + b), (Abs(arg(a)) < pi/2) & ((Abs(arg(b)) <= pi/2) | (Abs(arg(b)) < pi/2))), (Integral(a*(1 - exp(-b*x))*exp(-a*x), (x, 0, oo)), True))"
      ]
     },
     "execution_count": 34,
     "metadata": {},
     "output_type": "execute_result"
    }
   ],
   "source": [
    "simplify(integrate(f, (y, 0, x), (x, 0, +oo)))"
   ]
  },
  {
   "cell_type": "code",
   "execution_count": 35,
   "metadata": {},
   "outputs": [
    {
     "data": {
      "text/latex": [
       "$\\displaystyle - b e^{- a u y - b y} + b e^{- b y}$"
      ],
      "text/plain": [
       "-b*exp(-a*u*y - b*y) + b*exp(-b*y)"
      ]
     },
     "execution_count": 35,
     "metadata": {},
     "output_type": "execute_result"
    }
   ],
   "source": [
    "integrate(f, (x, 0, u*y))"
   ]
  },
  {
   "cell_type": "code",
   "execution_count": 36,
   "metadata": {},
   "outputs": [
    {
     "data": {
      "text/latex": [
       "$\\displaystyle \\begin{cases} \\frac{a u}{a u + b} & \\text{for}\\: \\left(\\left|{\\arg{\\left(a \\right)} + \\arg{\\left(u \\right)}}\\right| \\leq \\frac{\\pi}{2} \\vee \\left|{\\arg{\\left(a \\right)} + \\arg{\\left(u \\right)}}\\right| < \\frac{\\pi}{2}\\right) \\wedge \\left|{\\arg{\\left(b \\right)}}\\right| < \\frac{\\pi}{2} \\\\\\int\\limits_{0}^{\\infty} b \\left(1 - e^{- a u y}\\right) e^{- b y}\\, dy & \\text{otherwise} \\end{cases}$"
      ],
      "text/plain": [
       "Piecewise((a*u/(a*u + b), (Abs(arg(b)) < pi/2) & ((Abs(arg(a) + arg(u)) <= pi/2) | (Abs(arg(a) + arg(u)) < pi/2))), (Integral(b*(1 - exp(-a*u*y))*exp(-b*y), (y, 0, oo)), True))"
      ]
     },
     "execution_count": 36,
     "metadata": {},
     "output_type": "execute_result"
    }
   ],
   "source": [
    "simplify(integrate(f, (x, 0, u*y),  (y, 0, +oo)))"
   ]
  },
  {
   "cell_type": "code",
   "execution_count": 38,
   "metadata": {},
   "outputs": [
    {
     "data": {
      "text/latex": [
       "$\\displaystyle \\frac{a b}{\\left(a u + b\\right)^{2}}$"
      ],
      "text/plain": [
       "a*b/(a*u + b)**2"
      ]
     },
     "execution_count": 38,
     "metadata": {},
     "output_type": "execute_result"
    }
   ],
   "source": [
    "simplify(diff(a*u/(a*u+b), u))"
   ]
  },
  {
   "cell_type": "code",
   "execution_count": 218,
   "metadata": {},
   "outputs": [
    {
     "data": {
      "text/latex": [
       "$\\displaystyle \\frac{a}{a + b}$"
      ],
      "text/plain": [
       "a/(a + b)"
      ]
     },
     "execution_count": 218,
     "metadata": {},
     "output_type": "execute_result"
    }
   ],
   "source": [
    "simplify(integrate((a*b)/(a*u+b)**2, (u, 0, 1)))"
   ]
  },
  {
   "cell_type": "markdown",
   "metadata": {},
   "source": [
    "# Problem 5"
   ]
  },
  {
   "cell_type": "markdown",
   "metadata": {},
   "source": [
    "## 5a."
   ]
  },
  {
   "cell_type": "code",
   "execution_count": 181,
   "metadata": {},
   "outputs": [],
   "source": [
    "f = exp(-y)"
   ]
  },
  {
   "cell_type": "code",
   "execution_count": 182,
   "metadata": {},
   "outputs": [
    {
     "data": {
      "text/latex": [
       "$\\displaystyle - e^{x - z} + e^{- x}$"
      ],
      "text/plain": [
       "-exp(x - z) + exp(-x)"
      ]
     },
     "execution_count": 182,
     "metadata": {},
     "output_type": "execute_result"
    }
   ],
   "source": [
    "integrate(f, (y, x, z-x))"
   ]
  },
  {
   "cell_type": "code",
   "execution_count": 187,
   "metadata": {},
   "outputs": [
    {
     "name": "stdout",
     "output_type": "stream",
     "text": [
      "- e^{- z} + e^{- \\frac{z}{2}}\n"
     ]
    }
   ],
   "source": [
    "print(latex(diff(simplify(integrate(f, (y, x, z-x), (x, 0, z/2))))))"
   ]
  },
  {
   "cell_type": "code",
   "execution_count": 129,
   "metadata": {},
   "outputs": [
    {
     "data": {
      "text/latex": [
       "$\\displaystyle 1$"
      ],
      "text/plain": [
       "1"
      ]
     },
     "execution_count": 129,
     "metadata": {},
     "output_type": "execute_result"
    }
   ],
   "source": [
    "integrate(diff(simplify(integrate(f, (y, x, z-x), (x, 0, z/2)))), (z, 0, +oo))"
   ]
  },
  {
   "cell_type": "markdown",
   "metadata": {},
   "source": [
    "## 5b."
   ]
  },
  {
   "cell_type": "code",
   "execution_count": 39,
   "metadata": {},
   "outputs": [],
   "source": [
    "f = exp(-y)"
   ]
  },
  {
   "cell_type": "code",
   "execution_count": 43,
   "metadata": {},
   "outputs": [],
   "source": [
    "Fz = integrate(f, (y, x, sqrt(z*z - x*x)))"
   ]
  },
  {
   "cell_type": "code",
   "execution_count": 50,
   "metadata": {},
   "outputs": [
    {
     "name": "stdout",
     "output_type": "stream",
     "text": [
      "- e^{- \\sqrt{- x^{2} + z^{2}}} + e^{- x}\n"
     ]
    }
   ],
   "source": [
    "print(latex(Fz))"
   ]
  },
  {
   "cell_type": "code",
   "execution_count": 46,
   "metadata": {},
   "outputs": [],
   "source": [
    "fz = diff(Fz, z)"
   ]
  },
  {
   "cell_type": "code",
   "execution_count": 47,
   "metadata": {},
   "outputs": [
    {
     "data": {
      "text/latex": [
       "$\\displaystyle \\frac{z e^{- \\sqrt{- x^{2} + z^{2}}}}{\\sqrt{- x^{2} + z^{2}}}$"
      ],
      "text/plain": [
       "z*exp(-sqrt(-x**2 + z**2))/sqrt(-x**2 + z**2)"
      ]
     },
     "execution_count": 47,
     "metadata": {},
     "output_type": "execute_result"
    }
   ],
   "source": [
    "fz"
   ]
  },
  {
   "cell_type": "code",
   "execution_count": 49,
   "metadata": {},
   "outputs": [
    {
     "name": "stdout",
     "output_type": "stream",
     "text": [
      "z \\int\\limits_{0}^{\\frac{\\sqrt{2} z}{2}} \\frac{e^{- \\sqrt{- x^{2} + z^{2}}}}{\\sqrt{- x^{2} + z^{2}}}\\, dx\n"
     ]
    }
   ],
   "source": [
    "print(latex(integrate(fz, (x, 0, z/sqrt(2)))))"
   ]
  },
  {
   "cell_type": "code",
   "execution_count": 237,
   "metadata": {},
   "outputs": [
    {
     "data": {
      "text/latex": [
       "$\\displaystyle \\int\\limits_{0}^{\\frac{\\sqrt{2} z}{2}} \\frac{z e^{- \\sqrt{- x^{2} + z^{2}}}}{\\sqrt{- x^{2} + z^{2}}}\\, dx - \\frac{\\sqrt{2} e^{- \\frac{\\sqrt{2} \\sqrt{z^{2}}}{2}}}{2} + \\frac{\\sqrt{2} e^{- \\frac{\\sqrt{2} z}{2}}}{2}$"
      ],
      "text/plain": [
       "Integral(z*exp(-sqrt(-x**2 + z**2))/sqrt(-x**2 + z**2), (x, 0, sqrt(2)*z/2)) - sqrt(2)*exp(-sqrt(2)*sqrt(z**2)/2)/2 + sqrt(2)*exp(-sqrt(2)*z/2)/2"
      ]
     },
     "execution_count": 237,
     "metadata": {},
     "output_type": "execute_result"
    }
   ],
   "source": [
    "simplify(diff(integrate(f, (y, x, sqrt(z*z - x*x)), (x, 0, z/sqrt(2))), z))"
   ]
  },
  {
   "cell_type": "code",
   "execution_count": 238,
   "metadata": {},
   "outputs": [
    {
     "name": "stdout",
     "output_type": "stream",
     "text": [
      "\\int\\limits_{0}^{\\frac{\\sqrt{2} z}{2}} \\frac{z e^{- \\sqrt{- x^{2} + z^{2}}}}{\\sqrt{- x^{2} + z^{2}}}\\, dx - \\frac{\\sqrt{2} e^{- \\frac{\\sqrt{2} \\sqrt{z^{2}}}{2}}}{2} + \\frac{\\sqrt{2} e^{- \\frac{\\sqrt{2} z}{2}}}{2}\n"
     ]
    }
   ],
   "source": [
    "print(latex(_))"
   ]
  },
  {
   "cell_type": "code",
   "execution_count": 236,
   "metadata": {
    "scrolled": true
   },
   "outputs": [
    {
     "data": {
      "text/latex": [
       "$\\displaystyle \\frac{\\sqrt{2} \\left(- e^{\\frac{\\sqrt{2} z}{2}} + e^{\\frac{\\sqrt{2} \\sqrt{z^{2}}}{2}}\\right) e^{- \\frac{\\sqrt{2} z}{2}} e^{- \\frac{\\sqrt{2} \\sqrt{z^{2}}}{2}}}{2} + \\int\\limits_{0}^{\\frac{\\sqrt{2} z}{2}} \\left(- \\frac{z \\left(- e^{x} + e^{\\sqrt{- x^{2} + z^{2}}}\\right) e^{- x} e^{- \\sqrt{- x^{2} + z^{2}}}}{\\sqrt{- x^{2} + z^{2}}} + \\frac{z e^{- x}}{\\sqrt{- x^{2} + z^{2}}}\\right)\\, dx$"
      ],
      "text/plain": [
       "sqrt(2)*(-exp(sqrt(2)*z/2) + exp(sqrt(2)*sqrt(z**2)/2))*exp(-sqrt(2)*z/2)*exp(-sqrt(2)*sqrt(z**2)/2)/2 + Integral(-z*(-exp(x) + exp(sqrt(-x**2 + z**2)))*exp(-x)*exp(-sqrt(-x**2 + z**2))/sqrt(-x**2 + z**2) + z*exp(-x)/sqrt(-x**2 + z**2), (x, 0, sqrt(2)*z/2))"
      ]
     },
     "execution_count": 236,
     "metadata": {},
     "output_type": "execute_result"
    }
   ],
   "source": [
    "diff(_, z)"
   ]
  },
  {
   "cell_type": "code",
   "execution_count": 147,
   "metadata": {},
   "outputs": [
    {
     "data": {
      "text/latex": [
       "$\\displaystyle \\frac{\\sqrt{2} \\left(- e^{\\frac{\\sqrt{2} z}{2}} + e^{\\frac{\\sqrt{2} \\sqrt{z^{2}}}{2}}\\right) e^{- \\frac{\\sqrt{2} z}{2}} e^{- \\frac{\\sqrt{2} \\sqrt{z^{2}}}{2}}}{2} + \\int\\limits_{0}^{\\frac{\\sqrt{2} z}{2}} \\left(- \\frac{z \\left(- e^{x} + e^{\\sqrt{- x^{2} + z^{2}}}\\right) e^{- x} e^{- \\sqrt{- x^{2} + z^{2}}}}{\\sqrt{- x^{2} + z^{2}}} + \\frac{z e^{- x}}{\\sqrt{- x^{2} + z^{2}}}\\right)\\, dx$"
      ],
      "text/plain": [
       "sqrt(2)*(-exp(sqrt(2)*z/2) + exp(sqrt(2)*sqrt(z**2)/2))*exp(-sqrt(2)*z/2)*exp(-sqrt(2)*sqrt(z**2)/2)/2 + Integral(-z*(-exp(x) + exp(sqrt(-x**2 + z**2)))*exp(-x)*exp(-sqrt(-x**2 + z**2))/sqrt(-x**2 + z**2) + z*exp(-x)/sqrt(-x**2 + z**2), (x, 0, sqrt(2)*z/2))"
      ]
     },
     "execution_count": 147,
     "metadata": {},
     "output_type": "execute_result"
    }
   ],
   "source": [
    "diff(integrate(f, (y, x, sqrt(z**2 - x**2)), (x, 0, z/sqrt(2))), z)"
   ]
  },
  {
   "cell_type": "code",
   "execution_count": 133,
   "metadata": {},
   "outputs": [
    {
     "data": {
      "text/latex": [
       "$\\displaystyle \\int\\limits_{0}^{\\frac{\\sqrt{2} z}{2}} \\left(- e^{x} + e^{\\sqrt{- x^{2} + z^{2}}}\\right) e^{- x} e^{- \\sqrt{- x^{2} + z^{2}}}\\, dx$"
      ],
      "text/plain": [
       "Integral((-exp(x) + exp(sqrt(-x**2 + z**2)))*exp(-x)*exp(-sqrt(-x**2 + z**2)), (x, 0, sqrt(2)*z/2))"
      ]
     },
     "execution_count": 133,
     "metadata": {},
     "output_type": "execute_result"
    }
   ],
   "source": [
    "integrate(f, (y, x, sqrt(z**2 - x**2)), (x, 0, z/sqrt(2)))"
   ]
  },
  {
   "cell_type": "markdown",
   "metadata": {},
   "source": [
    "# Problem 6"
   ]
  },
  {
   "cell_type": "code",
   "execution_count": 150,
   "metadata": {},
   "outputs": [],
   "source": [
    "l, w = symbols('l w')"
   ]
  },
  {
   "cell_type": "code",
   "execution_count": 149,
   "metadata": {},
   "outputs": [],
   "source": [
    "f = l**2 * exp(-l*(x+y))"
   ]
  },
  {
   "cell_type": "code",
   "execution_count": 162,
   "metadata": {},
   "outputs": [
    {
     "data": {
      "text/latex": [
       "$\\displaystyle l e^{- l y} - l e^{- 3 l y}$"
      ],
      "text/plain": [
       "l*exp(-l*y) - l*exp(-3*l*y)"
      ]
     },
     "execution_count": 162,
     "metadata": {},
     "output_type": "execute_result"
    }
   ],
   "source": [
    "integrate(f, (x, 0, 2*y))"
   ]
  },
  {
   "cell_type": "code",
   "execution_count": 163,
   "metadata": {
    "scrolled": true
   },
   "outputs": [
    {
     "data": {
      "text/latex": [
       "$\\displaystyle \\begin{cases} \\frac{2}{3} & \\text{for}\\: \\left|{\\arg{\\left(l \\right)}}\\right| < \\frac{\\pi}{2} \\\\\\int\\limits_{0}^{\\infty} \\left(l e^{- l y} - l e^{- 3 l y}\\right)\\, dy & \\text{otherwise} \\end{cases}$"
      ],
      "text/plain": [
       "Piecewise((2/3, Abs(arg(l)) < pi/2), (Integral(l*exp(-l*y) - l*exp(-3*l*y), (y, 0, oo)), True))"
      ]
     },
     "execution_count": 163,
     "metadata": {},
     "output_type": "execute_result"
    }
   ],
   "source": [
    "integrate(_, (y, 0, +oo))"
   ]
  },
  {
   "cell_type": "code",
   "execution_count": 153,
   "metadata": {},
   "outputs": [
    {
     "data": {
      "text/latex": [
       "$\\displaystyle -0.215972811000722$"
      ],
      "text/plain": [
       "-0.215972811000722"
      ]
     },
     "execution_count": 153,
     "metadata": {},
     "output_type": "execute_result"
    }
   ],
   "source": [
    "integrate(2*w/(2*w+1) - 2/3, (w, 0, 1))"
   ]
  },
  {
   "cell_type": "code",
   "execution_count": 156,
   "metadata": {},
   "outputs": [
    {
     "data": {
      "text/latex": [
       "$\\displaystyle - l e^{- l \\left(2 w y + y\\right)} + l e^{- l y}$"
      ],
      "text/plain": [
       "-l*exp(-l*(2*w*y + y)) + l*exp(-l*y)"
      ]
     },
     "execution_count": 156,
     "metadata": {},
     "output_type": "execute_result"
    }
   ],
   "source": [
    "# w > 1\n",
    "integrate(f, (x, 0, 2*w*y))"
   ]
  },
  {
   "cell_type": "code",
   "execution_count": 157,
   "metadata": {},
   "outputs": [
    {
     "data": {
      "text/latex": [
       "$\\displaystyle \\begin{cases} 1 - \\frac{1}{2 w + 1} & \\text{for}\\: \\left(\\left(\\left|{\\arg{\\left(l \\right)}}\\right| \\leq \\frac{\\pi}{2} \\wedge \\left|{\\arg{\\left(l \\right)} + \\arg{\\left(w \\right)}}\\right| < \\frac{\\pi}{2}\\right) \\vee \\left(\\left|{\\arg{\\left(l \\right)} + \\arg{\\left(w \\right)}}\\right| \\leq \\frac{\\pi}{2} \\wedge \\left|{\\arg{\\left(l \\right)}}\\right| < \\frac{\\pi}{2}\\right) \\vee \\left(\\left|{\\arg{\\left(l \\right)} + \\arg{\\left(w \\right)}}\\right| < \\frac{\\pi}{2} \\wedge \\left|{\\arg{\\left(l \\right)}}\\right| < \\frac{\\pi}{2}\\right)\\right) \\wedge \\left|{\\arg{\\left(l \\right)}}\\right| < \\frac{\\pi}{2} \\\\\\int\\limits_{0}^{\\infty} \\left(- l e^{- l \\left(2 w y + y\\right)} + l e^{- l y}\\right)\\, dy & \\text{otherwise} \\end{cases}$"
      ],
      "text/plain": [
       "Piecewise((1 - 1/(2*w + 1), (Abs(arg(l)) < pi/2) & (((Abs(arg(l)) <= pi/2) & (Abs(arg(l) + arg(w)) < pi/2)) | ((Abs(arg(l)) < pi/2) & (Abs(arg(l) + arg(w)) <= pi/2)) | ((Abs(arg(l)) < pi/2) & (Abs(arg(l) + arg(w)) < pi/2)))), (Integral(-l*exp(-l*(2*w*y + y)) + l*exp(-l*y), (y, 0, oo)), True))"
      ]
     },
     "execution_count": 157,
     "metadata": {},
     "output_type": "execute_result"
    }
   ],
   "source": [
    "integrate(_, (y, 0, +oo))"
   ]
  },
  {
   "cell_type": "code",
   "execution_count": 158,
   "metadata": {},
   "outputs": [
    {
     "data": {
      "text/latex": [
       "$\\displaystyle \\frac{2}{\\left(2 w + 1\\right)^{2}}$"
      ],
      "text/plain": [
       "2/(2*w + 1)**2"
      ]
     },
     "execution_count": 158,
     "metadata": {},
     "output_type": "execute_result"
    }
   ],
   "source": [
    "diff(1-1/(w*2+1), w)"
   ]
  },
  {
   "cell_type": "code",
   "execution_count": 159,
   "metadata": {},
   "outputs": [
    {
     "data": {
      "text/latex": [
       "$\\displaystyle \\frac{1}{3}$"
      ],
      "text/plain": [
       "1/3"
      ]
     },
     "execution_count": 159,
     "metadata": {},
     "output_type": "execute_result"
    }
   ],
   "source": [
    "integrate(_, (w, 1, +oo))"
   ]
  },
  {
   "cell_type": "markdown",
   "metadata": {},
   "source": [
    "## 6b."
   ]
  },
  {
   "cell_type": "code",
   "execution_count": 51,
   "metadata": {},
   "outputs": [],
   "source": [
    "f = 2*exp(-x-y)"
   ]
  },
  {
   "cell_type": "code",
   "execution_count": 52,
   "metadata": {},
   "outputs": [],
   "source": [
    "Fz = simplify(integrate(f, (y, x, z-x), (x, 0, z/2)))"
   ]
  },
  {
   "cell_type": "code",
   "execution_count": 53,
   "metadata": {},
   "outputs": [
    {
     "name": "stdout",
     "output_type": "stream",
     "text": [
      "\\left(- z + e^{z} - 1\\right) e^{- z}\n"
     ]
    }
   ],
   "source": [
    "print(latex(Fz))"
   ]
  },
  {
   "cell_type": "code",
   "execution_count": 176,
   "metadata": {},
   "outputs": [
    {
     "data": {
      "text/latex": [
       "$\\displaystyle z e^{- z}$"
      ],
      "text/plain": [
       "z*exp(-z)"
      ]
     },
     "execution_count": 176,
     "metadata": {},
     "output_type": "execute_result"
    }
   ],
   "source": [
    "simplify(diff(simplify(integrate(f, (y, x, z-x), (x, 0, z/2))), z))"
   ]
  },
  {
   "cell_type": "markdown",
   "metadata": {},
   "source": [
    "if w > 1,"
   ]
  },
  {
   "cell_type": "code",
   "execution_count": 177,
   "metadata": {},
   "outputs": [
    {
     "data": {
      "text/latex": [
       "$\\displaystyle - 2 e^{- w x - x} + 2 e^{- 2 x}$"
      ],
      "text/plain": [
       "-2*exp(-w*x - x) + 2*exp(-2*x)"
      ]
     },
     "execution_count": 177,
     "metadata": {},
     "output_type": "execute_result"
    }
   ],
   "source": [
    "integrate(f, (y, x, w*x))"
   ]
  },
  {
   "cell_type": "code",
   "execution_count": 178,
   "metadata": {},
   "outputs": [
    {
     "data": {
      "text/latex": [
       "$\\displaystyle \\begin{cases} 1 - \\frac{2}{w + 1} & \\text{for}\\: \\left|{\\arg{\\left(w \\right)}}\\right| \\leq \\frac{\\pi}{2} \\\\\\int\\limits_{0}^{\\infty} \\left(- 2 e^{- w x - x} + 2 e^{- 2 x}\\right)\\, dx & \\text{otherwise} \\end{cases}$"
      ],
      "text/plain": [
       "Piecewise((1 - 2/(w + 1), Abs(arg(w)) <= pi/2), (Integral(-2*exp(-w*x - x) + 2*exp(-2*x), (x, 0, oo)), True))"
      ]
     },
     "execution_count": 178,
     "metadata": {},
     "output_type": "execute_result"
    }
   ],
   "source": [
    "integrate(_, (x, 0, +oo))"
   ]
  },
  {
   "cell_type": "code",
   "execution_count": 179,
   "metadata": {},
   "outputs": [
    {
     "data": {
      "text/latex": [
       "$\\displaystyle \\frac{2}{\\left(w + 1\\right)^{2}}$"
      ],
      "text/plain": [
       "2/(w + 1)**2"
      ]
     },
     "execution_count": 179,
     "metadata": {},
     "output_type": "execute_result"
    }
   ],
   "source": [
    "diff(1-2/(w+1))"
   ]
  },
  {
   "cell_type": "code",
   "execution_count": 180,
   "metadata": {},
   "outputs": [
    {
     "data": {
      "text/latex": [
       "$\\displaystyle 1$"
      ],
      "text/plain": [
       "1"
      ]
     },
     "execution_count": 180,
     "metadata": {},
     "output_type": "execute_result"
    }
   ],
   "source": [
    "integrate(_, (w, 1, +oo))"
   ]
  },
  {
   "cell_type": "code",
   "execution_count": null,
   "metadata": {},
   "outputs": [],
   "source": []
  }
 ],
 "metadata": {
  "kernelspec": {
   "display_name": "Python 3",
   "language": "python",
   "name": "python3"
  },
  "language_info": {
   "codemirror_mode": {
    "name": "ipython",
    "version": 3
   },
   "file_extension": ".py",
   "mimetype": "text/x-python",
   "name": "python",
   "nbconvert_exporter": "python",
   "pygments_lexer": "ipython3",
   "version": "3.7.4"
  }
 },
 "nbformat": 4,
 "nbformat_minor": 2
}
