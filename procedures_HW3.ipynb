{
 "cells": [
  {
   "cell_type": "code",
   "execution_count": 1,
   "metadata": {},
   "outputs": [
    {
     "data": {
      "text/html": [
       "<style>\n",
       ".text_cell_render {\n",
       "    line-height: 2.5;\n",
       "}\n",
       "</style>\n"
      ],
      "text/plain": [
       "<IPython.core.display.HTML object>"
      ]
     },
     "metadata": {},
     "output_type": "display_data"
    }
   ],
   "source": [
    "run utils.ipynb"
   ]
  },
  {
   "cell_type": "code",
   "execution_count": 2,
   "metadata": {},
   "outputs": [],
   "source": [
    "from scipy.optimize import bisect"
   ]
  },
  {
   "cell_type": "code",
   "execution_count": 3,
   "metadata": {},
   "outputs": [],
   "source": [
    "def equation(x):\n",
    "    return (x+2) * np.exp(-x) - 1"
   ]
  },
  {
   "cell_type": "code",
   "execution_count": 4,
   "metadata": {},
   "outputs": [],
   "source": [
    "def get_p1(x):\n",
    "    return (x+1)*np.exp(-x)"
   ]
  },
  {
   "cell_type": "code",
   "execution_count": 5,
   "metadata": {},
   "outputs": [],
   "source": [
    "def get_p2(x):\n",
    "    return 1 - np.exp(-x)"
   ]
  },
  {
   "cell_type": "code",
   "execution_count": 6,
   "metadata": {},
   "outputs": [],
   "source": [
    "def get_p1_p2(x):\n",
    "    return get_p1(x) - get_p2(x)"
   ]
  },
  {
   "cell_type": "code",
   "execution_count": 7,
   "metadata": {},
   "outputs": [],
   "source": [
    "def plot_p():\n",
    "    x = np.linspace(0,5, 201)\n",
    "    p1 = get_p1(x)\n",
    "    p2 = get_p2(x)\n",
    "    y = get_p1_p2(x)\n",
    "    x_th = bisect(equation, 1, 3)\n",
    "    \n",
    "    plt.plot(x, p1, label='$P(n \\leq 1)$');\n",
    "    plt.plot(x, p2, label='$P(n \\geq 1)$');\n",
    "    plt.plot(x, y, label='$P(n \\leq 1) - P(n \\geq 1)$');\n",
    "    plt.scatter(x_th, get_p1_p2(x_th), c='k', s=80, zorder=10, label='$P(n \\leq 1) = P(n \\geq 1)$');\n",
    "    plt.xlabel('$\\lambda$')\n",
    "    plt.ylabel('$P$')\n",
    "    plt.legend();\n",
    "    "
   ]
  },
  {
   "cell_type": "code",
   "execution_count": null,
   "metadata": {},
   "outputs": [],
   "source": [
    "y = np.linspace(-4, 4, 1001)\n",
    "F_y = np.zeros(y.size)\n",
    "f_y = np.zeros(y.size)\n",
    "\n",
    "def plot_1b():\n",
    "    plt.figure();\n",
    "    fig, ax = plt.subplots(1, 2, figsize=(15,6));\n",
    "    # probability distribution function: F_Y(y)\n",
    "    plot_interval(y, F_y, 'y<-2', '0', ax=ax[0])\n",
    "    plot_interval(y, F_y, '(y>=-2)& (y<-1)', '0.3', ax=ax[0])\n",
    "    plot_interval(y, F_y, '(y<1) & (y>=-1)', '0.5 + y[arg] * 0.1', ax=ax[0])\n",
    "    plot_interval(y, F_y, '(y>=1)& (y<2)', '0.7', ax=ax[0])\n",
    "    plot_interval(y, F_y, 'y>=2', '1', ax=ax[0])\n",
    "    plot_jump(-2, [0, 0.3], ax=ax[0])\n",
    "    plot_jump(-1, [0.3, 0.4], ax=ax[0])\n",
    "    plot_jump(1, [0.6, 0.7], ax=ax[0])\n",
    "    plot_jump(2, [0.7, 1], ax=ax[0])\n",
    "    ax[0].set_xlabel('$y$');\n",
    "    ax[0].set_ylabel('$F_Y(y)$');\n",
    "    ax[0].set_title('probability distribution function');\n",
    "    # # probability density function (pdf): f_Y(y)\n",
    "    ax[1].set_xlim(-4, 4);\n",
    "    ax[1].set_ylim(0, 1);\n",
    "    plot_arrow(-2, 0, 0, 0.3, ax[1]);\n",
    "    plot_arrow(-1, 0, 0, 0.1, ax[1]);\n",
    "    plot_arrow(1, 0, 0, 0.1, ax[1]);\n",
    "    plot_arrow(2, 0, 0, 0.3, ax[1]);\n",
    "    plot_interval(y, f_y, '(y>=-1)& (y<1)', '0.1', ax=ax[1])\n",
    "    ax[1].set_xlabel('$y$');\n",
    "    ax[1].set_ylabel('$f_Y(y)$');\n",
    "    ax[1].set_title('probability density function');\n",
    "    plt.show();"
   ]
  },
  {
   "cell_type": "code",
   "execution_count": null,
   "metadata": {},
   "outputs": [],
   "source": []
  },
  {
   "cell_type": "code",
   "execution_count": null,
   "metadata": {},
   "outputs": [],
   "source": []
  }
 ],
 "metadata": {
  "kernelspec": {
   "display_name": "Python 3",
   "language": "python",
   "name": "python3"
  },
  "language_info": {
   "codemirror_mode": {
    "name": "ipython",
    "version": 3
   },
   "file_extension": ".py",
   "mimetype": "text/x-python",
   "name": "python",
   "nbconvert_exporter": "python",
   "pygments_lexer": "ipython3",
   "version": "3.7.4"
  }
 },
 "nbformat": 4,
 "nbformat_minor": 2
}
